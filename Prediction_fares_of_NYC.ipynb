{
  "cells": [
    {
      "cell_type": "markdown",
      "metadata": {
        "id": "view-in-github",
        "colab_type": "text"
      },
      "source": [
        "<a href=\"https://colab.research.google.com/github/Tack-Theerapat/Prediction_fares_of_NYC/blob/main/Prediction_fares_of_NYC.ipynb\" target=\"_parent\"><img src=\"https://colab.research.google.com/assets/colab-badge.svg\" alt=\"Open In Colab\"/></a>"
      ]
    },
    {
      "cell_type": "markdown",
      "metadata": {
        "id": "AAQ5pFotf66U"
      },
      "source": [
        "กดเพิ่มทางลัดไปยังไดร์ เพื่ออ่านข้อมูล\n",
        "https://drive.google.com/drive/folders/1yt-tfFzzUow5haV1TUYtsXph5wJuiKaM?usp=share_link\n",
        "\n",
        "Souce : https://www.nyc.gov/site/tlc/about/tlc-trip-record-data.page"
      ]
    },
    {
      "cell_type": "markdown",
      "metadata": {
        "id": "CXEyP36NPuJY"
      },
      "source": [
        "# **Update and Dowload data**"
      ]
    },
    {
      "cell_type": "code",
      "execution_count": null,
      "metadata": {
        "colab": {
          "base_uri": "https://localhost:8080/"
        },
        "id": "_fbhCE9V22-0",
        "outputId": "df31cc7a-3941-4027-ef48-1cf34d42469a"
      },
      "outputs": [
        {
          "output_type": "stream",
          "name": "stdout",
          "text": [
            "Mounted at /content/gdrive\n"
          ]
        }
      ],
      "source": [
        "from google.colab import drive\n",
        "drive.mount('/content/gdrive')"
      ]
    },
    {
      "cell_type": "code",
      "execution_count": null,
      "metadata": {
        "colab": {
          "base_uri": "https://localhost:8080/"
        },
        "id": "61df0O6KPwrn",
        "outputId": "563a22ed-ed41-46e3-90e3-01014b20c8fd"
      },
      "outputs": [
        {
          "output_type": "stream",
          "name": "stdout",
          "text": [
            "Looking in indexes: https://pypi.org/simple, https://us-python.pkg.dev/colab-wheels/public/simple/\n",
            "Collecting pyspark\n",
            "  Downloading pyspark-3.3.1.tar.gz (281.4 MB)\n",
            "\u001b[K     |████████████████████████████████| 281.4 MB 51 kB/s \n",
            "\u001b[?25hCollecting py4j==0.10.9.5\n",
            "  Downloading py4j-0.10.9.5-py2.py3-none-any.whl (199 kB)\n",
            "\u001b[K     |████████████████████████████████| 199 kB 79.0 MB/s \n",
            "\u001b[?25hBuilding wheels for collected packages: pyspark\n",
            "  Building wheel for pyspark (setup.py) ... \u001b[?25l\u001b[?25hdone\n",
            "  Created wheel for pyspark: filename=pyspark-3.3.1-py2.py3-none-any.whl size=281845512 sha256=cc7954f63330c3f6245f9dd02ce4e863debd992aa52a8fd38d4ef501fb853e3c\n",
            "  Stored in directory: /root/.cache/pip/wheels/43/dc/11/ec201cd671da62fa9c5cc77078235e40722170ceba231d7598\n",
            "Successfully built pyspark\n",
            "Installing collected packages: py4j, pyspark\n",
            "Successfully installed py4j-0.10.9.5 pyspark-3.3.1\n",
            "\u001b[K     |████████████████████████████████| 57 kB 4.7 MB/s \n",
            "\u001b[K     |████████████████████████████████| 1.6 MB 22.6 MB/s \n",
            "\u001b[?25h3.3.1\n"
          ]
        }
      ],
      "source": [
        "!apt-get install openjdk-8-jdk-headless -qq > /dev/null\n",
        "!wget -q https://dlcdn.apache.org/spark/spark-3.3.1/spark-3.3.1-bin-hadoop2.tgz\n",
        "!tar xf spark-3.3.1-bin-hadoop2.tgz\n",
        "!pip install -q findspark\n",
        "!pip install pyspark\n",
        "\n",
        "#Install extra lib(s)\n",
        "!pip install -q xlrd\n",
        "!pip install -q kaggle\n",
        "!pip install -q kora\n",
        "\n",
        "#import and set environment for spark\n",
        "import os\n",
        "os.environ[\"JAVA_HOME\"] = \"/usr/lib/jvm/java-8-openjdk-amd64\"\n",
        "os.environ[\"SPARK_HOME\"] = \"/content/spark-3.3.1-bin-hadoop2\"\n",
        "\n",
        "import kora\n",
        "import pandas as pd\n",
        "\n",
        "import findspark\n",
        "findspark.init()\n",
        "from pyspark import SparkContext\n",
        "# from pyspark.sql import SparkSession\n",
        "from pyspark.sql import *\n",
        "from pyspark.sql.functions import *\n",
        "\n",
        "SPARK_URL = \"local[*]\"\n",
        "\n",
        "spark = SparkSession.builder.master(SPARK_URL).getOrCreate()\n",
        "\n",
        "# Check the pyspark version\n",
        "import pyspark\n",
        "print(pyspark.__version__)"
      ]
    },
    {
      "cell_type": "markdown",
      "source": [],
      "metadata": {
        "id": "Df08ASGMrOeK"
      }
    },
    {
      "cell_type": "markdown",
      "metadata": {
        "id": "PWt8QMJUqA42"
      },
      "source": [
        "Install Libs"
      ]
    },
    {
      "cell_type": "code",
      "execution_count": null,
      "metadata": {
        "id": "0GlBHEB7Py74"
      },
      "outputs": [],
      "source": [
        "!pip install -q pyspark_dist_explore\n",
        "!pip install -q matplotlib\n",
        "!pip install -q numpy"
      ]
    },
    {
      "cell_type": "code",
      "execution_count": null,
      "metadata": {
        "colab": {
          "base_uri": "https://localhost:8080/"
        },
        "id": "n9Y9qtNAP1t_",
        "outputId": "122af6ff-9340-4277-b059-2f2d3d6b0743"
      },
      "outputs": [
        {
          "output_type": "stream",
          "name": "stderr",
          "text": [
            "/content/spark-3.3.1-bin-hadoop2/python/pyspark/sql/context.py:112: FutureWarning: Deprecated in 3.0.0. Use SparkSession.builder.getOrCreate() instead.\n",
            "  warnings.warn(\n"
          ]
        }
      ],
      "source": [
        "import pandas as pd\n",
        "import numpy as np\n",
        "import pyspark.sql.functions as F\n",
        "import matplotlib.pyplot as plt\n",
        "import seaborn as sns\n",
        "\n",
        "from IPython.display import display, HTML, display_html #usefull to display wide tables\n",
        "from pyspark_dist_explore import Histogram, hist, distplot, pandas_histogram\n",
        "from pyspark.sql import Row\n",
        "\n",
        "from pyspark.sql.functions import lit\n",
        "from pyspark import SparkConf\n",
        "from pyspark import SparkContext\n",
        "sc = SparkContext.getOrCreate(SparkConf().setMaster(\"local[*]\"))\n",
        "\n",
        "#sc = pyspark.SparkContext()\n",
        "sqlContext = pyspark.SQLContext(sc)\n",
        "%matplotlib inline"
      ]
    },
    {
      "cell_type": "code",
      "execution_count": null,
      "metadata": {
        "id": "r-TC2kkFP3hW"
      },
      "outputs": [],
      "source": [
        "\n",
        "# !gdown --id 1yt-tfFzzUow5haV1TUYtsXph5wJuiKaM?usp=sharing\n",
        "import os\n",
        "os.environ['KAGGLE_CONFIG_DIR'] = \"/content/gdrive/My Drive/Kaggle\""
      ]
    },
    {
      "cell_type": "code",
      "execution_count": null,
      "metadata": {
        "id": "igXP1RctQAls"
      },
      "outputs": [],
      "source": [
        "# !kaggle datasets download -d theerapatphat/nycforbigdatasubject\n",
        "# !unzip /content/nyc-tlc-data.zip  && rm /content/nyc-tlc-data.zip"
      ]
    },
    {
      "cell_type": "code",
      "execution_count": null,
      "metadata": {
        "id": "bLPjTfBtQDIw"
      },
      "outputs": [],
      "source": [
        "from pyspark.sql import SparkSession\n",
        "from pyspark import SparkContext"
      ]
    },
    {
      "cell_type": "code",
      "execution_count": null,
      "metadata": {
        "colab": {
          "base_uri": "https://localhost:8080/",
          "height": 219
        },
        "id": "axkMGkA8QE7f",
        "outputId": "c1d8f87e-6c4b-48b1-ee4c-d6d9dbddf7a9"
      },
      "outputs": [
        {
          "output_type": "execute_result",
          "data": {
            "text/plain": [
              "<pyspark.sql.session.SparkSession at 0x7f826bf8bd90>"
            ],
            "text/html": [
              "\n",
              "            <div>\n",
              "                <p><b>SparkSession - in-memory</b></p>\n",
              "                \n",
              "        <div>\n",
              "            <p><b>SparkContext</b></p>\n",
              "\n",
              "            <p><a href=\"http://12fb4a98b585:4040\">Spark UI</a></p>\n",
              "\n",
              "            <dl>\n",
              "              <dt>Version</dt>\n",
              "                <dd><code>v3.3.1</code></dd>\n",
              "              <dt>Master</dt>\n",
              "                <dd><code>local[*]</code></dd>\n",
              "              <dt>AppName</dt>\n",
              "                <dd><code>pyspark-shell</code></dd>\n",
              "            </dl>\n",
              "        </div>\n",
              "        \n",
              "            </div>\n",
              "        "
            ]
          },
          "metadata": {},
          "execution_count": 8
        }
      ],
      "source": [
        "SPARK_URL = \"local[*]\"\n",
        "spark = SparkSession.builder.master(SPARK_URL).getOrCreate()\n",
        "spark"
      ]
    },
    {
      "cell_type": "code",
      "execution_count": null,
      "metadata": {
        "id": "L9o9o_ZTZ8MQ"
      },
      "outputs": [],
      "source": [
        "sqlContext = SQLContext(spark)\n",
        "#/content/gdrive/MyDrive/NYC"
      ]
    },
    {
      "cell_type": "markdown",
      "metadata": {
        "id": "736sMcXfvRX_"
      },
      "source": [
        "# --------------------------------------**Old Section**------------------------------------"
      ]
    },
    {
      "cell_type": "markdown",
      "metadata": {
        "id": "LWC75k0ccJ6S"
      },
      "source": [
        "# **data path**"
      ]
    },
    {
      "cell_type": "markdown",
      "metadata": {
        "id": "iyZfKSNwam1w"
      },
      "source": [
        "**2017**"
      ]
    },
    {
      "cell_type": "code",
      "execution_count": null,
      "metadata": {
        "id": "_C6hHiOWaiQK"
      },
      "outputs": [],
      "source": [
        "df1701 = \"/content/gdrive/MyDrive/NYC/2017/yellow_tripdata_2017-01.parquet\"\n",
        "df1702 = '/content/gdrive/MyDrive/NYC/2017/yellow_tripdata_2017-02.parquet'\n",
        "df1703 = '/content/gdrive/MyDrive/NYC/2017/yellow_tripdata_2017-03.parquet'\n",
        "df1704 = '/content/gdrive/MyDrive/NYC/2017/yellow_tripdata_2017-04.parquet'\n",
        "df1705 = '/content/gdrive/MyDrive/NYC/2017/yellow_tripdata_2017-05.parquet'\n",
        "df1706 = '/content/gdrive/MyDrive/NYC/2017/yellow_tripdata_2017-06.parquet'\n",
        "df1707 = '/content/gdrive/MyDrive/NYC/2017/yellow_tripdata_2017-07.parquet'\n",
        "df1708 = '/content/gdrive/MyDrive/NYC/2017/yellow_tripdata_2017-08.parquet'\n",
        "df1709 = '/content/gdrive/MyDrive/NYC/2017/yellow_tripdata_2017-09.parquet'\n",
        "df1710 = '/content/gdrive/MyDrive/NYC/2017/yellow_tripdata_2017-10.parquet'\n",
        "df1711 = '/content/gdrive/MyDrive/NYC/2017/yellow_tripdata_2017-11.parquet'\n",
        "df1712 = '/content/gdrive/MyDrive/NYC/2017/yellow_tripdata_2017-12.parquet'"
      ]
    },
    {
      "cell_type": "markdown",
      "metadata": {
        "id": "rZsPlb-xcPTi"
      },
      "source": [
        "**2018**"
      ]
    },
    {
      "cell_type": "code",
      "execution_count": null,
      "metadata": {
        "id": "wDOKuyNEcSXK"
      },
      "outputs": [],
      "source": [
        "df1801 = '/content/gdrive/MyDrive/NYC/2018/yellow_tripdata_2018-01.parquet'\n",
        "df1802 = '/content/gdrive/MyDrive/NYC/2018/yellow_tripdata_2018-02.parquet'\n",
        "df1803 = '/content/gdrive/MyDrive/NYC/2018/yellow_tripdata_2018-03.parquet'\n",
        "df1804 = '/content/gdrive/MyDrive/NYC/2018/yellow_tripdata_2018-04.parquet'\n",
        "df1805 = '/content/gdrive/MyDrive/NYC/2018/yellow_tripdata_2018-05.parquet'\n",
        "df1806 = '/content/gdrive/MyDrive/NYC/2018/yellow_tripdata_2018-06.parquet'\n",
        "df1807 = '/content/gdrive/MyDrive/NYC/2018/yellow_tripdata_2018-07.parquet'\n",
        "df1808 = '/content/gdrive/MyDrive/NYC/2018/yellow_tripdata_2018-08.parquet'\n",
        "df1809 = '/content/gdrive/MyDrive/NYC/2018/yellow_tripdata_2018-09.parquet'\n",
        "df1810 = '/content/gdrive/MyDrive/NYC/2018/yellow_tripdata_2018-10.parquet'\n",
        "df1811 = '/content/gdrive/MyDrive/NYC/2018/yellow_tripdata_2018-11.parquet'\n",
        "df1812 = '/content/gdrive/MyDrive/NYC/2018/yellow_tripdata_2018-12.parquet'"
      ]
    },
    {
      "cell_type": "markdown",
      "metadata": {
        "id": "9rODhkGYdno4"
      },
      "source": [
        "**2019**"
      ]
    },
    {
      "cell_type": "code",
      "execution_count": null,
      "metadata": {
        "id": "oyccOWr3ctqU"
      },
      "outputs": [],
      "source": [
        "df1901 = '/content/gdrive/MyDrive/NYC/2019/yellow_tripdata_2019-01.parquet'\n",
        "df1902 = '/content/gdrive/MyDrive/NYC/2019/yellow_tripdata_2019-02.parquet'\n",
        "df1903 = '/content/gdrive/MyDrive/NYC/2019/yellow_tripdata_2019-03.parquet'\n",
        "df1904 = '/content/gdrive/MyDrive/NYC/2019/yellow_tripdata_2019-04.parquet'\n",
        "df1905 = '/content/gdrive/MyDrive/NYC/2019/yellow_tripdata_2019-05.parquet'\n",
        "df1906 = '/content/gdrive/MyDrive/NYC/2019/yellow_tripdata_2019-06.parquet'\n",
        "df1907 = '/content/gdrive/MyDrive/NYC/2019/yellow_tripdata_2019-07.parquet'\n",
        "df1908 = '/content/gdrive/MyDrive/NYC/2019/yellow_tripdata_2019-08.parquet'\n",
        "df1909 = '/content/gdrive/MyDrive/NYC/2019/yellow_tripdata_2019-09.parquet'\n",
        "df1910 = '/content/gdrive/MyDrive/NYC/2019/yellow_tripdata_2019-10.parquet'\n",
        "df1911 = '/content/gdrive/MyDrive/NYC/2019/yellow_tripdata_2019-11.parquet'\n",
        "df1912 = '/content/gdrive/MyDrive/NYC/2019/yellow_tripdata_2019-12.parquet'"
      ]
    },
    {
      "cell_type": "markdown",
      "metadata": {
        "id": "CZJTW-5YgVhE"
      },
      "source": [
        "**2020**"
      ]
    },
    {
      "cell_type": "code",
      "execution_count": null,
      "metadata": {
        "id": "f0GZOpa0gXjp"
      },
      "outputs": [],
      "source": [
        "df2001 = '/content/gdrive/MyDrive/NYC/2020/yellow_tripdata_2020-01.parquet'\n",
        "df2002 = '/content/gdrive/MyDrive/NYC/2020/yellow_tripdata_2020-02.parquet'\n",
        "df2003 = '/content/gdrive/MyDrive/NYC/2020/yellow_tripdata_2020-03.parquet'\n",
        "df2004 = '/content/gdrive/MyDrive/NYC/2020/yellow_tripdata_2020-04.parquet'\n",
        "df2005 = '/content/gdrive/MyDrive/NYC/2020/yellow_tripdata_2020-05.parquet'\n",
        "df2006 = '/content/gdrive/MyDrive/NYC/2020/yellow_tripdata_2020-06.parquet'\n",
        "df2007 = '/content/gdrive/MyDrive/NYC/2020/yellow_tripdata_2020-07.parquet'\n",
        "df2008 = '/content/gdrive/MyDrive/NYC/2020/yellow_tripdata_2020-08.parquet'\n",
        "df2009 = '/content/gdrive/MyDrive/NYC/2020/yellow_tripdata_2020-09.parquet'\n",
        "df2010 = '/content/gdrive/MyDrive/NYC/2020/yellow_tripdata_2020-10.parquet'\n",
        "df2011 = '/content/gdrive/MyDrive/NYC/2020/yellow_tripdata_2020-11.parquet'\n",
        "df2012 = '/content/gdrive/MyDrive/NYC/2020/yellow_tripdata_2020-12.parquet'"
      ]
    },
    {
      "cell_type": "markdown",
      "metadata": {
        "id": "Ced5rjiYgcMR"
      },
      "source": [
        "**2021**"
      ]
    },
    {
      "cell_type": "code",
      "execution_count": null,
      "metadata": {
        "id": "G2FfnbE3gg1-"
      },
      "outputs": [],
      "source": [
        "df2101 = '/content/gdrive/MyDrive/NYC/2021/yellow_tripdata_2021-01.parquet'\n",
        "df2102 = '/content/gdrive/MyDrive/NYC/2021/yellow_tripdata_2021-02.parquet'\n",
        "df2103 = '/content/gdrive/MyDrive/NYC/2021/yellow_tripdata_2021-03.parquet'\n",
        "df2104 = '/content/gdrive/MyDrive/NYC/2021/yellow_tripdata_2021-04.parquet'\n",
        "df2105 = '/content/gdrive/MyDrive/NYC/2021/yellow_tripdata_2021-05.parquet'\n",
        "df2106 = '/content/gdrive/MyDrive/NYC/2021/yellow_tripdata_2021-06.parquet'\n",
        "df2107 = '/content/gdrive/MyDrive/NYC/2021/yellow_tripdata_2021-07.parquet'\n",
        "df2108 = '/content/gdrive/MyDrive/NYC/2021/yellow_tripdata_2021-08.parquet'\n",
        "df2109 = '/content/gdrive/MyDrive/NYC/2021/yellow_tripdata_2021-09.parquet'\n",
        "df2110 = '/content/gdrive/MyDrive/NYC/2021/yellow_tripdata_2021-10.parquet'\n",
        "df2111 = '/content/gdrive/MyDrive/NYC/2021/yellow_tripdata_2021-11.parquet'\n",
        "df2112 = '/content/gdrive/MyDrive/NYC/2021/yellow_tripdata_2021-12.parquet'"
      ]
    },
    {
      "cell_type": "markdown",
      "metadata": {
        "id": "_x-Lsk3bdhDy"
      },
      "source": [
        "# **Read data**"
      ]
    },
    {
      "cell_type": "code",
      "execution_count": null,
      "metadata": {
        "id": "pm_bzPDAdkaq"
      },
      "outputs": [],
      "source": [
        "data17_1 = spark.read.parquet(df1701)\n",
        "data17_2 = spark.read.parquet(df1702)\n",
        "data17_3 = spark.read.parquet(df1703)\n",
        "data17_4 = spark.read.parquet(df1704)\n",
        "data17_5 = spark.read.parquet(df1705)\n",
        "data17_6 = spark.read.parquet(df1706)\n",
        "data17_7 = spark.read.parquet(df1707)\n",
        "data17_8 = spark.read.parquet(df1708)\n",
        "data17_9 = spark.read.parquet(df1709)\n",
        "data17_10 = spark.read.parquet(df1710)\n",
        "data17_11 = spark.read.parquet(df1711)\n",
        "data17_12 = spark.read.parquet(df1712)"
      ]
    },
    {
      "cell_type": "code",
      "execution_count": null,
      "metadata": {
        "id": "YVUrayi4gKbF"
      },
      "outputs": [],
      "source": [
        "data18_1 = spark.read.parquet(df1801)\n",
        "data18_2 = spark.read.parquet(df1802)\n",
        "data18_3 = spark.read.parquet(df1803)\n",
        "data18_4 = spark.read.parquet(df1804)\n",
        "data18_5 = spark.read.parquet(df1805)\n",
        "data18_6 = spark.read.parquet(df1806)\n",
        "data18_7 = spark.read.parquet(df1807)\n",
        "data18_8 = spark.read.parquet(df1808)\n",
        "data18_9 = spark.read.parquet(df1809)\n",
        "data18_10 = spark.read.parquet(df1810)\n",
        "data18_11 = spark.read.parquet(df1811)\n",
        "data18_12 = spark.read.parquet(df1812)"
      ]
    },
    {
      "cell_type": "code",
      "execution_count": null,
      "metadata": {
        "id": "2M8qpz9dgKpR"
      },
      "outputs": [],
      "source": [
        "data19_1 = spark.read.parquet(df1901)\n",
        "data19_2 = spark.read.parquet(df1902)\n",
        "data19_3 = spark.read.parquet(df1903)\n",
        "data19_4 = spark.read.parquet(df1904)\n",
        "data19_5 = spark.read.parquet(df1905)\n",
        "data19_6 = spark.read.parquet(df1906)\n",
        "data19_7 = spark.read.parquet(df1907)\n",
        "data19_8 = spark.read.parquet(df1908)\n",
        "data19_9 = spark.read.parquet(df1909)\n",
        "data19_10 = spark.read.parquet(df1910)\n",
        "data19_11 = spark.read.parquet(df1911)\n",
        "data19_12 = spark.read.parquet(df1912)"
      ]
    },
    {
      "cell_type": "code",
      "execution_count": null,
      "metadata": {
        "id": "9TFlo-wuiYqm"
      },
      "outputs": [],
      "source": [
        "data20_1 = spark.read.parquet(df2001)\n",
        "data20_2 = spark.read.parquet(df2002)\n",
        "data20_3 = spark.read.parquet(df2003)\n",
        "data20_4 = spark.read.parquet(df2004)\n",
        "data20_5 = spark.read.parquet(df2005)\n",
        "data20_6 = spark.read.parquet(df2006)\n",
        "data20_7 = spark.read.parquet(df2007)\n",
        "data20_8 = spark.read.parquet(df2008)\n",
        "data20_9 = spark.read.parquet(df2009)\n",
        "data20_10 = spark.read.parquet(df2010)\n",
        "data20_11 = spark.read.parquet(df2011)\n",
        "data20_12 = spark.read.parquet(df2012)"
      ]
    },
    {
      "cell_type": "code",
      "execution_count": null,
      "metadata": {
        "id": "IL-gSbo7iY6P"
      },
      "outputs": [],
      "source": [
        "data21_1 = spark.read.parquet(df2101)\n",
        "data21_2 = spark.read.parquet(df2102)\n",
        "data21_3 = spark.read.parquet(df2103)\n",
        "data21_4 = spark.read.parquet(df2104)\n",
        "data21_5 = spark.read.parquet(df2105)\n",
        "data21_6 = spark.read.parquet(df2106)\n",
        "data21_7 = spark.read.parquet(df2107)\n",
        "data21_8 = spark.read.parquet(df2108)\n",
        "data21_9 = spark.read.parquet(df2109)\n",
        "data21_10 = spark.read.parquet(df2110)\n",
        "data21_11 = spark.read.parquet(df2111)\n",
        "data21_12 = spark.read.parquet(df2112)"
      ]
    },
    {
      "cell_type": "code",
      "execution_count": null,
      "metadata": {
        "id": "uBqq5Mldh4Sl"
      },
      "outputs": [],
      "source": [
        "# def sumall (year,how_many_month):\n",
        "#     sumall = 0\n",
        "#     for i in range(how_many_month,how_many_month+1):\n",
        "#         sumall = (str(f\"data{year}_{i}\")).count(i)\n",
        "#         # sumall += i\n",
        "#     return sumall\n",
        "\n",
        "# sumall(17,12)"
      ]
    },
    {
      "cell_type": "code",
      "execution_count": null,
      "metadata": {
        "id": "5URgdx9pGugE"
      },
      "outputs": [],
      "source": [
        "# data17_21 = data17_1.union(data17_2).union(data17_3).union(data17_4).union(data17_5).union(data17_6).union(data17_7).union(data17_8).union(data17_9).union(data17_10).union(data17_11).union(data17_12)\\\n",
        "            #   union(data18_1).union(data18_2).union(data18_3).union(data18_4).union(data18_5).union(data18_6).union(data18_7).union(data18_8).union(data18_9).union(data18_10).union(data18_11).union(data18_12).\\\n",
        "            #   union(data19_1).union(data19_2).union(data19_3).union(data19_4).union(data19_5).union(data19_6).union(data19_7).union(data19_8).union(data19_9).union(data19_10).union(data19_11).union(data19_12)\\\n",
        "            #   union(data20_1).union(data20_2).union(data20_3).union(data20_4).union(data20_5).union(data20_6).union(data20_7).union(data20_8).union(data20_9).union(data20_10).union(data20_11).union(data20_12).\\\n",
        "            #   union(data21_1).union(data21_2).union(data21_3).union(data21_4).union(data21_5).union(data21_6).union(data21_7).union(data21_8).union(data21_9).union(data21_10).union(data21_11).union(data21_12)\\"
      ]
    },
    {
      "cell_type": "code",
      "execution_count": null,
      "metadata": {
        "id": "BGjphoMDKe6L"
      },
      "outputs": [],
      "source": [
        "data17_21 =data21_1.union(data21_2).union(data21_3).union(data21_4).union(data21_5).union(data21_6).union(data21_7).union(data21_8).union(data21_9).union(data21_10).union(data21_11).union(data21_12)"
      ]
    },
    {
      "cell_type": "code",
      "execution_count": null,
      "metadata": {
        "id": "NZid126eKmB0"
      },
      "outputs": [],
      "source": [
        "# data17_21.write.parquet('/content/gdrive/MyDrive/NYC/data17221.parquet')"
      ]
    },
    {
      "cell_type": "markdown",
      "metadata": {
        "id": "fEVLCT6IrCh1"
      },
      "source": [
        "# **Register data**"
      ]
    },
    {
      "cell_type": "code",
      "execution_count": null,
      "metadata": {
        "id": "wQUBJZQlqrCQ"
      },
      "outputs": [],
      "source": [
        "# data17_1.registerTempTable(\"Taxy171\")\n",
        "# data17_2.registerTempTable(\"Taxy172\")\n",
        "# data17_3.registerTempTable(\"Taxy173\")\n",
        "# data17_4.registerTempTable(\"Taxy174\")\n",
        "# data17_5.registerTempTable(\"Taxy175\")\n",
        "# data17_6.registerTempTable(\"Taxy176\")\n",
        "# data17_7.registerTempTable(\"Taxy177\")\n",
        "# data17_8.registerTempTable(\"Taxy178\")\n",
        "# data17_9.registerTempTable(\"Taxy179\")\n",
        "# data17_10.registerTempTable(\"Taxy1710\")\n",
        "# data17_11.registerTempTable(\"Taxy1711\")\n",
        "# data17_12.registerTempTable(\"Taxy1712\")"
      ]
    },
    {
      "cell_type": "code",
      "execution_count": null,
      "metadata": {
        "id": "60HNzEwbq4wI"
      },
      "outputs": [],
      "source": [
        "# data18_1.registerTempTable(\"Taxy181\")\n",
        "# data18_2.registerTempTable(\"Taxy182\")\n",
        "# data18_3.registerTempTable(\"Taxy183\")\n",
        "# data18_4.registerTempTable(\"Taxy184\")\n",
        "# data18_5.registerTempTable(\"Taxy185\")\n",
        "# data18_6.registerTempTable(\"Taxy186\")\n",
        "# data18_7.registerTempTable(\"Taxy187\")\n",
        "# data18_8.registerTempTable(\"Taxy188\")\n",
        "# data18_9.registerTempTable(\"Taxy189\")\n",
        "# data18_10.registerTempTable(\"Taxy1810\")\n",
        "# data18_11.registerTempTable(\"Taxy1811\")\n",
        "# data18_12.registerTempTable(\"Taxy1812\")"
      ]
    },
    {
      "cell_type": "code",
      "execution_count": null,
      "metadata": {
        "id": "mc7_QLV4q-2X"
      },
      "outputs": [],
      "source": [
        "# data19_1.registerTempTable(\"Taxy191\")\n",
        "# data19_2.registerTempTable(\"Taxy192\")\n",
        "# data19_3.registerTempTable(\"Taxy193\")\n",
        "# data19_4.registerTempTable(\"Taxy194\")\n",
        "# data19_5.registerTempTable(\"Taxy195\")\n",
        "# data19_6.registerTempTable(\"Taxy196\")\n",
        "# data19_7.registerTempTable(\"Taxy197\")\n",
        "# data19_8.registerTempTable(\"Taxy198\")\n",
        "# data19_9.registerTempTable(\"Taxy199\")\n",
        "# data19_10.registerTempTable(\"Taxy1910\")\n",
        "# data19_11.registerTempTable(\"Taxy1911\")\n",
        "# data19_12.registerTempTable(\"Taxy1912\")"
      ]
    },
    {
      "cell_type": "code",
      "execution_count": null,
      "metadata": {
        "id": "RbAInRabrKl-"
      },
      "outputs": [],
      "source": [
        "# data20_1.registerTempTable(\"Taxy201\")\n",
        "# data20_2.registerTempTable(\"Taxy202\")\n",
        "# data20_3.registerTempTable(\"Taxy203\")\n",
        "# data20_4.registerTempTable(\"Taxy204\")\n",
        "# data20_5.registerTempTable(\"Taxy205\")\n",
        "# data20_6.registerTempTable(\"Taxy206\")\n",
        "# data20_7.registerTempTable(\"Taxy207\")\n",
        "# data20_8.registerTempTable(\"Taxy208\")\n",
        "# data20_9.registerTempTable(\"Taxy209\")\n",
        "# data20_10.registerTempTable(\"Taxy2010\")\n",
        "# data20_11.registerTempTable(\"Taxy2011\")\n",
        "# data20_12.registerTempTable(\"Taxy2012\")"
      ]
    },
    {
      "cell_type": "code",
      "execution_count": null,
      "metadata": {
        "id": "ReIpRJ6yrKu1"
      },
      "outputs": [],
      "source": [
        "# data21_1.registerTempTable(\"Taxy211\")\n",
        "# data21_2.registerTempTable(\"Taxy212\")\n",
        "# data21_3.registerTempTable(\"Taxy213\")\n",
        "# data21_4.registerTempTable(\"Taxy214\")\n",
        "# data21_5.registerTempTable(\"Taxy215\")\n",
        "# data21_6.registerTempTable(\"Taxy216\")\n",
        "# data21_7.registerTempTable(\"Taxy217\")\n",
        "# data21_8.registerTempTable(\"Taxy218\")\n",
        "# data21_9.registerTempTable(\"Taxy219\")\n",
        "# data21_10.registerTempTable(\"Taxy2110\")\n",
        "# data21_11.registerTempTable(\"Taxy2111\")\n",
        "# data21_12.registerTempTable(\"Taxy2112\")"
      ]
    },
    {
      "cell_type": "code",
      "execution_count": null,
      "metadata": {
        "id": "6XMuQAL7Iy_9"
      },
      "outputs": [],
      "source": [
        "# data17_21.count()"
      ]
    },
    {
      "cell_type": "code",
      "execution_count": null,
      "metadata": {
        "id": "YCATICOffzK4"
      },
      "outputs": [],
      "source": [
        "# data17_21.registerTempTable(\"Taxi\")"
      ]
    },
    {
      "cell_type": "markdown",
      "metadata": {
        "id": "YBFzLooNhX_I"
      },
      "source": [
        "# **Query Section**"
      ]
    },
    {
      "cell_type": "code",
      "execution_count": null,
      "metadata": {
        "id": "rXIzUZdgglGg"
      },
      "outputs": [],
      "source": [
        "\n",
        "sqlContext.sql('''\n",
        "        select VendorID from Taxi\n",
        "        where (VendorID < 0) or VendorID IS NULL\n",
        "        ''').show()"
      ]
    },
    {
      "cell_type": "code",
      "execution_count": null,
      "metadata": {
        "id": "6qble05klrcF"
      },
      "outputs": [],
      "source": [
        "sqlContext.sql('''\n",
        "        select  tpep_pickup_datetime from Taxi\n",
        "        where tpep_pickup_datetime IS NULL\n",
        "        ''').show()"
      ]
    },
    {
      "cell_type": "code",
      "execution_count": null,
      "metadata": {
        "id": "l5fZvUX6lyrt"
      },
      "outputs": [],
      "source": [
        "sqlContext.sql('''\n",
        "        select tpep_dropoff_datetime from Taxi\n",
        "        where tpep_dropoff_datetime IS NULL\n",
        "        ''').show()"
      ]
    },
    {
      "cell_type": "code",
      "execution_count": null,
      "metadata": {
        "id": "hHuVkfEhi5W-"
      },
      "outputs": [],
      "source": [
        "\n",
        "sqlContext.sql('''\n",
        "        select passenger_count from Taxi\n",
        "        where passenger_count < 0 or passenger_count IS NULL\n",
        "        ''').show()"
      ]
    },
    {
      "cell_type": "code",
      "execution_count": null,
      "metadata": {
        "id": "N1qOmUjtllOB"
      },
      "outputs": [],
      "source": [
        "sqlContext.sql('''\n",
        "        select trip_distance from Taxi\n",
        "        where trip_distance < 0 or trip_distance IS NULL\n",
        "        order by 1 desc\n",
        "        ''').show()"
      ]
    },
    {
      "cell_type": "code",
      "execution_count": null,
      "metadata": {
        "id": "I8zzXsjymxFk"
      },
      "outputs": [],
      "source": [
        "sqlContext.sql('''\n",
        "        select RatecodeID from Taxi\n",
        "        group by RatecodeID\n",
        "          ''').show()"
      ]
    },
    {
      "cell_type": "code",
      "execution_count": null,
      "metadata": {
        "id": "VWYxP0A0OC7N"
      },
      "outputs": [],
      "source": [
        "sqlContext.sql('''\n",
        "        select store_and_fwd_flag from Taxi\n",
        "        group by store_and_fwd_flag\n",
        "          ''').show()"
      ]
    },
    {
      "cell_type": "code",
      "execution_count": null,
      "metadata": {
        "id": "GPW1eFLAPU91"
      },
      "outputs": [],
      "source": [
        "sqlContext.sql('''\n",
        "        select PULocationID from Taxi\n",
        "        where PULocationID < 0 or PULocationID IS NULL\n",
        "        ''').show()"
      ]
    },
    {
      "cell_type": "code",
      "execution_count": null,
      "metadata": {
        "id": "AzapprRfR1la"
      },
      "outputs": [],
      "source": [
        "sqlContext.sql('''\n",
        "        select DOLocationID from Taxi\n",
        "        where DOLocationID < 0 or DOLocationID IS NULL\n",
        "        ''').show()"
      ]
    },
    {
      "cell_type": "code",
      "execution_count": null,
      "metadata": {
        "id": "nCAM24JlSJrB"
      },
      "outputs": [],
      "source": [
        "sqlContext.sql('''\n",
        "        select payment_type from Taxi\n",
        "        where payment_type between 1 and 6\n",
        "        ''').show()"
      ]
    },
    {
      "cell_type": "code",
      "execution_count": null,
      "metadata": {
        "id": "ZAZQ7Zo8SuTx"
      },
      "outputs": [],
      "source": [
        "sqlContext.sql('''\n",
        "        select payment_type from Taxi\n",
        "        where payment_type between 1 and 6\n",
        "        ''').show()"
      ]
    },
    {
      "cell_type": "code",
      "execution_count": null,
      "metadata": {
        "id": "BpfNr3SlT3td"
      },
      "outputs": [],
      "source": [
        "sqlContext.sql('''\n",
        "        select fare_amount from Taxi\n",
        "        where fare_amount < 0 or fare_amount is null\n",
        "        ''').show()"
      ]
    },
    {
      "cell_type": "code",
      "execution_count": null,
      "metadata": {
        "id": "6ZcXhEhXUWn-"
      },
      "outputs": [],
      "source": [
        "sqlContext.sql('''\n",
        "        select extra from Taxi\n",
        "        order by extra\n",
        "        ''').show()"
      ]
    },
    {
      "cell_type": "code",
      "execution_count": null,
      "metadata": {
        "id": "ay3V9OOfV01V"
      },
      "outputs": [],
      "source": [
        "sqlContext.sql('''\n",
        "        select mta_tax from Taxi\n",
        "        order by mta_tax\n",
        "        ''').show()"
      ]
    },
    {
      "cell_type": "code",
      "execution_count": null,
      "metadata": {
        "id": "6inDt13yWQKO"
      },
      "outputs": [],
      "source": [
        "sqlContext.sql('''\n",
        "        select tip_amount from Taxi\n",
        "        order by tip_amount\n",
        "        ''').show()"
      ]
    },
    {
      "cell_type": "code",
      "execution_count": null,
      "metadata": {
        "id": "blDm8dHzWfiZ"
      },
      "outputs": [],
      "source": [
        "sqlContext.sql('''\n",
        "        select tolls_amount from Taxi\n",
        "        order by tolls_amount\n",
        "        ''').show()"
      ]
    },
    {
      "cell_type": "code",
      "execution_count": null,
      "metadata": {
        "id": "mdYmj61YW3Iw"
      },
      "outputs": [],
      "source": [
        "sqlContext.sql('''\n",
        "        select tolls_amount from Taxi\n",
        "        order by tolls_amount\n",
        "        ''').show()"
      ]
    },
    {
      "cell_type": "code",
      "execution_count": null,
      "metadata": {
        "id": "FbEr0K9vXGAI"
      },
      "outputs": [],
      "source": [
        "sqlContext.sql('''\n",
        "        select improvement_surcharge from Taxi\n",
        "        order by improvement_surcharge\n",
        "        ''').show()"
      ]
    },
    {
      "cell_type": "code",
      "execution_count": null,
      "metadata": {
        "id": "thqz4o_rXNMu"
      },
      "outputs": [],
      "source": [
        "sqlContext.sql('''\n",
        "        select total_amount from Taxi\n",
        "        order by total_amount\n",
        "        ''').show()"
      ]
    },
    {
      "cell_type": "code",
      "execution_count": null,
      "metadata": {
        "id": "PO24qwjhixFo"
      },
      "outputs": [],
      "source": [
        "data17_21.show()"
      ]
    },
    {
      "cell_type": "markdown",
      "metadata": {
        "id": "-mkn_0KZYnur"
      },
      "source": [
        "# **Cleansing Section**"
      ]
    },
    {
      "cell_type": "code",
      "execution_count": null,
      "metadata": {
        "id": "pGzUFsAgYsXD"
      },
      "outputs": [],
      "source": [
        "data17_21c = sqlContext.sql('''\n",
        "select * from Taxi\n",
        "WHERE (date_format(tpep_pickup_datetime,\"y\") || '-' || date_format(tpep_pickup_datetime,\"MM\")) between \"2017-01\" and \"2021-12\"\n",
        "and VendorID < 3\n",
        "and passenger_count between 1 and 10\n",
        "and passenger_count is not null\n",
        "and trip_distance between 0 and 200\n",
        "and RatecodeID is not null\n",
        "and RatecodeID < 10\n",
        "and store_and_fwd_flag is not null\n",
        "and fare_amount > 0\n",
        "and extra >= 0\n",
        "and tip_amount >= 0\n",
        "and tolls_amount >= 0\n",
        "and improvement_surcharge between 0 and 1000\n",
        "and total_amount >= 0\n",
        "        ''')\n",
        "\n",
        "data17_21c.show()\n"
      ]
    },
    {
      "cell_type": "code",
      "execution_count": null,
      "metadata": {
        "id": "jiZhpK9bdRmr"
      },
      "outputs": [],
      "source": [
        "# data17_21.count()"
      ]
    },
    {
      "cell_type": "code",
      "execution_count": null,
      "metadata": {
        "id": "aFdJwQWfeK1Q"
      },
      "outputs": [],
      "source": [
        "# data17_21c.count()"
      ]
    },
    {
      "cell_type": "code",
      "execution_count": null,
      "metadata": {
        "id": "wIkS_fi3GYMl"
      },
      "outputs": [],
      "source": [
        "# data17_21.write.csv('/content/gdrive/MyDrive/data17_21.csv')"
      ]
    },
    {
      "cell_type": "markdown",
      "metadata": {
        "id": "hxe8Pg10mguo"
      },
      "source": [
        "# **Correlations**\n"
      ]
    },
    {
      "cell_type": "code",
      "execution_count": null,
      "metadata": {
        "colab": {
          "base_uri": "https://localhost:8080/"
        },
        "id": "SJKKupu9nKC3",
        "outputId": "7ecbe1da-7901-4633-f555-24b07b7ca82e"
      },
      "outputs": [
        {
          "data": {
            "text/plain": [
              "[('VendorID', 'bigint'),\n",
              " ('tpep_pickup_datetime', 'timestamp'),\n",
              " ('tpep_dropoff_datetime', 'timestamp'),\n",
              " ('passenger_count', 'double'),\n",
              " ('trip_distance', 'double'),\n",
              " ('RatecodeID', 'double'),\n",
              " ('store_and_fwd_flag', 'string'),\n",
              " ('PULocationID', 'bigint'),\n",
              " ('DOLocationID', 'bigint'),\n",
              " ('payment_type', 'bigint'),\n",
              " ('fare_amount', 'double'),\n",
              " ('extra', 'double'),\n",
              " ('mta_tax', 'double'),\n",
              " ('tip_amount', 'double'),\n",
              " ('tolls_amount', 'double'),\n",
              " ('improvement_surcharge', 'double'),\n",
              " ('total_amount', 'double'),\n",
              " ('congestion_surcharge', 'double'),\n",
              " ('airport_fee', 'double')]"
            ]
          },
          "execution_count": 25,
          "metadata": {},
          "output_type": "execute_result"
        }
      ],
      "source": [
        "# data17_21.dtypes"
      ]
    },
    {
      "cell_type": "code",
      "execution_count": null,
      "metadata": {
        "id": "m14J9lnRnMw-"
      },
      "outputs": [],
      "source": [
        "# numeric_features = [t[0] for t in data17_21.dtypes if t[1] == 'int' or t[1] == 'double']\n",
        "# data17_21cP = data17_21.select(numeric_features)"
      ]
    },
    {
      "cell_type": "code",
      "execution_count": null,
      "metadata": {
        "id": "Y93EZjpQJymK"
      },
      "outputs": [],
      "source": []
    },
    {
      "cell_type": "code",
      "execution_count": null,
      "metadata": {
        "colab": {
          "base_uri": "https://localhost:8080/"
        },
        "id": "DayXTdwWnWF2",
        "outputId": "effdb827-6bef-4233-f807-f0442a353eaf"
      },
      "outputs": [
        {
          "name": "stdout",
          "output_type": "stream",
          "text": [
            "+-------+------------------+------------------+------------------+------------------+------------------+-------------------+------------------+-------------------+---------------------+------------------+--------------------+-------------------+\n",
            "|summary|   passenger_count|     trip_distance|        RatecodeID|       fare_amount|             extra|            mta_tax|        tip_amount|       tolls_amount|improvement_surcharge|      total_amount|congestion_surcharge|        airport_fee|\n",
            "+-------+------------------+------------------+------------------+------------------+------------------+-------------------+------------------+-------------------+---------------------+------------------+--------------------+-------------------+\n",
            "|  count|         348494478|         348494478|         348494478|         348494478|         348494478|          348494478|         348494478|          348494478|            348494478|         348494478|           129250314|           24509047|\n",
            "|   mean|1.5931087579528305|2.9442702342903013|1.0461623125058526|13.072132704754894|0.6079528667309299|0.49763974908664166|1.9973243763737507|0.34327592539435137|  0.29993882003628236|17.382829599896695|  2.2432780538544765|0.07286365520454549|\n",
            "| stddev|1.2148442839693216|3.7976857236424477|0.3195694716668399|180.54114610825266|1.1828620818821545|0.03459615542257175|  8.03748981543961| 1.8231304064946956| 0.004425237210760...|183.01203059021168|  0.7588729565515011|0.29286594246422576|\n",
            "|    min|               1.0|               0.0|               1.0|              0.01|               0.0|                0.0|               0.0|                0.0|                  0.0|              0.01|                 0.0|                0.0|\n",
            "|    max|               9.0|             199.9|               6.0|         998310.03|           14000.0|              39.51|         141492.02|            5743.51|                 1.26|        1084772.17|                 4.5|               1.25|\n",
            "+-------+------------------+------------------+------------------+------------------+------------------+-------------------+------------------+-------------------+---------------------+------------------+--------------------+-------------------+\n",
            "\n"
          ]
        }
      ],
      "source": [
        "# data17_21cP.describe().show()"
      ]
    },
    {
      "cell_type": "code",
      "execution_count": null,
      "metadata": {
        "colab": {
          "base_uri": "https://localhost:8080/",
          "height": 311
        },
        "id": "KbG5v-D_nY8P",
        "outputId": "8a39797b-649a-416c-ff87-9f8ebf92226f"
      },
      "outputs": [
        {
          "ename": "ConnectionRefusedError",
          "evalue": "ignored",
          "output_type": "error",
          "traceback": [
            "\u001b[0;31m---------------------------------------------------------------------------\u001b[0m",
            "\u001b[0;31mConnectionRefusedError\u001b[0m                    Traceback (most recent call last)",
            "\u001b[0;32m<ipython-input-37-495d6bc2ba82>\u001b[0m in \u001b[0;36m<module>\u001b[0;34m\u001b[0m\n\u001b[0;32m----> 1\u001b[0;31m \u001b[0mpdnum_df17221\u001b[0m \u001b[0;34m=\u001b[0m \u001b[0mdata17_21cP\u001b[0m\u001b[0;34m.\u001b[0m\u001b[0mtoPandas\u001b[0m\u001b[0;34m(\u001b[0m\u001b[0;34m)\u001b[0m\u001b[0;34m\u001b[0m\u001b[0;34m\u001b[0m\u001b[0m\n\u001b[0m",
            "\u001b[0;32m/content/spark-3.3.0-bin-hadoop3/python/pyspark/sql/pandas/conversion.py\u001b[0m in \u001b[0;36mtoPandas\u001b[0;34m(self)\u001b[0m\n\u001b[1;32m     90\u001b[0m         \u001b[0;32mfrom\u001b[0m \u001b[0mpandas\u001b[0m\u001b[0;34m.\u001b[0m\u001b[0mcore\u001b[0m\u001b[0;34m.\u001b[0m\u001b[0mdtypes\u001b[0m\u001b[0;34m.\u001b[0m\u001b[0mcommon\u001b[0m \u001b[0;32mimport\u001b[0m \u001b[0mis_timedelta64_dtype\u001b[0m\u001b[0;34m\u001b[0m\u001b[0;34m\u001b[0m\u001b[0m\n\u001b[1;32m     91\u001b[0m \u001b[0;34m\u001b[0m\u001b[0m\n\u001b[0;32m---> 92\u001b[0;31m         \u001b[0mjconf\u001b[0m \u001b[0;34m=\u001b[0m \u001b[0mself\u001b[0m\u001b[0;34m.\u001b[0m\u001b[0msparkSession\u001b[0m\u001b[0;34m.\u001b[0m\u001b[0m_jconf\u001b[0m\u001b[0;34m\u001b[0m\u001b[0;34m\u001b[0m\u001b[0m\n\u001b[0m\u001b[1;32m     93\u001b[0m         \u001b[0mtimezone\u001b[0m \u001b[0;34m=\u001b[0m \u001b[0mjconf\u001b[0m\u001b[0;34m.\u001b[0m\u001b[0msessionLocalTimeZone\u001b[0m\u001b[0;34m(\u001b[0m\u001b[0;34m)\u001b[0m\u001b[0;34m\u001b[0m\u001b[0;34m\u001b[0m\u001b[0m\n\u001b[1;32m     94\u001b[0m \u001b[0;34m\u001b[0m\u001b[0m\n",
            "\u001b[0;32m/content/spark-3.3.0-bin-hadoop3/python/pyspark/sql/session.py\u001b[0m in \u001b[0;36m_jconf\u001b[0;34m(self)\u001b[0m\n\u001b[1;32m    340\u001b[0m     \u001b[0;32mdef\u001b[0m \u001b[0m_jconf\u001b[0m\u001b[0;34m(\u001b[0m\u001b[0mself\u001b[0m\u001b[0;34m)\u001b[0m \u001b[0;34m->\u001b[0m \u001b[0;34m\"JavaObject\"\u001b[0m\u001b[0;34m:\u001b[0m\u001b[0;34m\u001b[0m\u001b[0;34m\u001b[0m\u001b[0m\n\u001b[1;32m    341\u001b[0m         \u001b[0;34m\"\"\"Accessor for the JVM SQL-specific configurations\"\"\"\u001b[0m\u001b[0;34m\u001b[0m\u001b[0;34m\u001b[0m\u001b[0m\n\u001b[0;32m--> 342\u001b[0;31m         \u001b[0;32mreturn\u001b[0m \u001b[0mself\u001b[0m\u001b[0;34m.\u001b[0m\u001b[0m_jsparkSession\u001b[0m\u001b[0;34m.\u001b[0m\u001b[0msessionState\u001b[0m\u001b[0;34m(\u001b[0m\u001b[0;34m)\u001b[0m\u001b[0;34m.\u001b[0m\u001b[0mconf\u001b[0m\u001b[0;34m(\u001b[0m\u001b[0;34m)\u001b[0m\u001b[0;34m\u001b[0m\u001b[0;34m\u001b[0m\u001b[0m\n\u001b[0m\u001b[1;32m    343\u001b[0m \u001b[0;34m\u001b[0m\u001b[0m\n\u001b[1;32m    344\u001b[0m     \u001b[0;34m@\u001b[0m\u001b[0msince\u001b[0m\u001b[0;34m(\u001b[0m\u001b[0;36m2.0\u001b[0m\u001b[0;34m)\u001b[0m\u001b[0;34m\u001b[0m\u001b[0;34m\u001b[0m\u001b[0m\n",
            "\u001b[0;32m/content/spark-3.3.0-bin-hadoop3/python/lib/py4j-0.10.9.5-src.zip/py4j/java_gateway.py\u001b[0m in \u001b[0;36m__call__\u001b[0;34m(self, *args)\u001b[0m\n\u001b[1;32m   1318\u001b[0m             \u001b[0mproto\u001b[0m\u001b[0;34m.\u001b[0m\u001b[0mEND_COMMAND_PART\u001b[0m\u001b[0;34m\u001b[0m\u001b[0;34m\u001b[0m\u001b[0m\n\u001b[1;32m   1319\u001b[0m \u001b[0;34m\u001b[0m\u001b[0m\n\u001b[0;32m-> 1320\u001b[0;31m         \u001b[0manswer\u001b[0m \u001b[0;34m=\u001b[0m \u001b[0mself\u001b[0m\u001b[0;34m.\u001b[0m\u001b[0mgateway_client\u001b[0m\u001b[0;34m.\u001b[0m\u001b[0msend_command\u001b[0m\u001b[0;34m(\u001b[0m\u001b[0mcommand\u001b[0m\u001b[0;34m)\u001b[0m\u001b[0;34m\u001b[0m\u001b[0;34m\u001b[0m\u001b[0m\n\u001b[0m\u001b[1;32m   1321\u001b[0m         return_value = get_return_value(\n\u001b[1;32m   1322\u001b[0m             answer, self.gateway_client, self.target_id, self.name)\n",
            "\u001b[0;32m/content/spark-3.3.0-bin-hadoop3/python/lib/py4j-0.10.9.5-src.zip/py4j/java_gateway.py\u001b[0m in \u001b[0;36msend_command\u001b[0;34m(self, command, retry, binary)\u001b[0m\n\u001b[1;32m   1034\u001b[0m          \u001b[0;32mif\u001b[0m\u001b[0;31m \u001b[0m\u001b[0;31m`\u001b[0m\u001b[0mbinary\u001b[0m\u001b[0;31m`\u001b[0m \u001b[0;32mis\u001b[0m\u001b[0;31m \u001b[0m\u001b[0;31m`\u001b[0m\u001b[0;32mTrue\u001b[0m\u001b[0;31m`\u001b[0m\u001b[0;34m.\u001b[0m\u001b[0;34m\u001b[0m\u001b[0;34m\u001b[0m\u001b[0m\n\u001b[1;32m   1035\u001b[0m         \"\"\"\n\u001b[0;32m-> 1036\u001b[0;31m         \u001b[0mconnection\u001b[0m \u001b[0;34m=\u001b[0m \u001b[0mself\u001b[0m\u001b[0;34m.\u001b[0m\u001b[0m_get_connection\u001b[0m\u001b[0;34m(\u001b[0m\u001b[0;34m)\u001b[0m\u001b[0;34m\u001b[0m\u001b[0;34m\u001b[0m\u001b[0m\n\u001b[0m\u001b[1;32m   1037\u001b[0m         \u001b[0;32mtry\u001b[0m\u001b[0;34m:\u001b[0m\u001b[0;34m\u001b[0m\u001b[0;34m\u001b[0m\u001b[0m\n\u001b[1;32m   1038\u001b[0m             \u001b[0mresponse\u001b[0m \u001b[0;34m=\u001b[0m \u001b[0mconnection\u001b[0m\u001b[0;34m.\u001b[0m\u001b[0msend_command\u001b[0m\u001b[0;34m(\u001b[0m\u001b[0mcommand\u001b[0m\u001b[0;34m)\u001b[0m\u001b[0;34m\u001b[0m\u001b[0;34m\u001b[0m\u001b[0m\n",
            "\u001b[0;32m/content/spark-3.3.0-bin-hadoop3/python/lib/py4j-0.10.9.5-src.zip/py4j/clientserver.py\u001b[0m in \u001b[0;36m_get_connection\u001b[0;34m(self)\u001b[0m\n\u001b[1;32m    282\u001b[0m \u001b[0;34m\u001b[0m\u001b[0m\n\u001b[1;32m    283\u001b[0m         \u001b[0;32mif\u001b[0m \u001b[0mconnection\u001b[0m \u001b[0;32mis\u001b[0m \u001b[0;32mNone\u001b[0m \u001b[0;32mor\u001b[0m \u001b[0mconnection\u001b[0m\u001b[0;34m.\u001b[0m\u001b[0msocket\u001b[0m \u001b[0;32mis\u001b[0m \u001b[0;32mNone\u001b[0m\u001b[0;34m:\u001b[0m\u001b[0;34m\u001b[0m\u001b[0;34m\u001b[0m\u001b[0m\n\u001b[0;32m--> 284\u001b[0;31m             \u001b[0mconnection\u001b[0m \u001b[0;34m=\u001b[0m \u001b[0mself\u001b[0m\u001b[0;34m.\u001b[0m\u001b[0m_create_new_connection\u001b[0m\u001b[0;34m(\u001b[0m\u001b[0;34m)\u001b[0m\u001b[0;34m\u001b[0m\u001b[0;34m\u001b[0m\u001b[0m\n\u001b[0m\u001b[1;32m    285\u001b[0m         \u001b[0;32mreturn\u001b[0m \u001b[0mconnection\u001b[0m\u001b[0;34m\u001b[0m\u001b[0;34m\u001b[0m\u001b[0m\n\u001b[1;32m    286\u001b[0m \u001b[0;34m\u001b[0m\u001b[0m\n",
            "\u001b[0;32m/content/spark-3.3.0-bin-hadoop3/python/lib/py4j-0.10.9.5-src.zip/py4j/clientserver.py\u001b[0m in \u001b[0;36m_create_new_connection\u001b[0;34m(self)\u001b[0m\n\u001b[1;32m    289\u001b[0m             \u001b[0mself\u001b[0m\u001b[0;34m.\u001b[0m\u001b[0mjava_parameters\u001b[0m\u001b[0;34m,\u001b[0m \u001b[0mself\u001b[0m\u001b[0;34m.\u001b[0m\u001b[0mpython_parameters\u001b[0m\u001b[0;34m,\u001b[0m\u001b[0;34m\u001b[0m\u001b[0;34m\u001b[0m\u001b[0m\n\u001b[1;32m    290\u001b[0m             self.gateway_property, self)\n\u001b[0;32m--> 291\u001b[0;31m         \u001b[0mconnection\u001b[0m\u001b[0;34m.\u001b[0m\u001b[0mconnect_to_java_server\u001b[0m\u001b[0;34m(\u001b[0m\u001b[0;34m)\u001b[0m\u001b[0;34m\u001b[0m\u001b[0;34m\u001b[0m\u001b[0m\n\u001b[0m\u001b[1;32m    292\u001b[0m         \u001b[0mself\u001b[0m\u001b[0;34m.\u001b[0m\u001b[0mset_thread_connection\u001b[0m\u001b[0;34m(\u001b[0m\u001b[0mconnection\u001b[0m\u001b[0;34m)\u001b[0m\u001b[0;34m\u001b[0m\u001b[0;34m\u001b[0m\u001b[0m\n\u001b[1;32m    293\u001b[0m         \u001b[0;32mreturn\u001b[0m \u001b[0mconnection\u001b[0m\u001b[0;34m\u001b[0m\u001b[0;34m\u001b[0m\u001b[0m\n",
            "\u001b[0;32m/content/spark-3.3.0-bin-hadoop3/python/lib/py4j-0.10.9.5-src.zip/py4j/clientserver.py\u001b[0m in \u001b[0;36mconnect_to_java_server\u001b[0;34m(self)\u001b[0m\n\u001b[1;32m    436\u001b[0m                 self.socket = self.ssl_context.wrap_socket(\n\u001b[1;32m    437\u001b[0m                     self.socket, server_hostname=self.java_address)\n\u001b[0;32m--> 438\u001b[0;31m             \u001b[0mself\u001b[0m\u001b[0;34m.\u001b[0m\u001b[0msocket\u001b[0m\u001b[0;34m.\u001b[0m\u001b[0mconnect\u001b[0m\u001b[0;34m(\u001b[0m\u001b[0;34m(\u001b[0m\u001b[0mself\u001b[0m\u001b[0;34m.\u001b[0m\u001b[0mjava_address\u001b[0m\u001b[0;34m,\u001b[0m \u001b[0mself\u001b[0m\u001b[0;34m.\u001b[0m\u001b[0mjava_port\u001b[0m\u001b[0;34m)\u001b[0m\u001b[0;34m)\u001b[0m\u001b[0;34m\u001b[0m\u001b[0;34m\u001b[0m\u001b[0m\n\u001b[0m\u001b[1;32m    439\u001b[0m             \u001b[0mself\u001b[0m\u001b[0;34m.\u001b[0m\u001b[0mstream\u001b[0m \u001b[0;34m=\u001b[0m \u001b[0mself\u001b[0m\u001b[0;34m.\u001b[0m\u001b[0msocket\u001b[0m\u001b[0;34m.\u001b[0m\u001b[0mmakefile\u001b[0m\u001b[0;34m(\u001b[0m\u001b[0;34m\"rb\"\u001b[0m\u001b[0;34m)\u001b[0m\u001b[0;34m\u001b[0m\u001b[0;34m\u001b[0m\u001b[0m\n\u001b[1;32m    440\u001b[0m             \u001b[0mself\u001b[0m\u001b[0;34m.\u001b[0m\u001b[0mis_connected\u001b[0m \u001b[0;34m=\u001b[0m \u001b[0;32mTrue\u001b[0m\u001b[0;34m\u001b[0m\u001b[0;34m\u001b[0m\u001b[0m\n",
            "\u001b[0;31mConnectionRefusedError\u001b[0m: [Errno 111] Connection refused"
          ]
        }
      ],
      "source": [
        "# pdnum_df17221 = data17_21cP.toPandas()"
      ]
    },
    {
      "cell_type": "code",
      "execution_count": null,
      "metadata": {
        "colab": {
          "base_uri": "https://localhost:8080/",
          "height": 183
        },
        "id": "0DyDaG2XnaXG",
        "outputId": "d684d250-340b-45f8-d395-13cd429037eb"
      },
      "outputs": [
        {
          "ename": "NameError",
          "evalue": "ignored",
          "output_type": "error",
          "traceback": [
            "\u001b[0;31m---------------------------------------------------------------------------\u001b[0m",
            "\u001b[0;31mNameError\u001b[0m                                 Traceback (most recent call last)",
            "\u001b[0;32m<ipython-input-34-1d97b0622af3>\u001b[0m in \u001b[0;36m<module>\u001b[0;34m\u001b[0m\n\u001b[0;32m----> 1\u001b[0;31m \u001b[0mcorr\u001b[0m \u001b[0;34m=\u001b[0m \u001b[0mpdnum_df17221\u001b[0m\u001b[0;34m.\u001b[0m\u001b[0mcorr\u001b[0m\u001b[0;34m(\u001b[0m\u001b[0;34m)\u001b[0m\u001b[0;34m.\u001b[0m\u001b[0mround\u001b[0m\u001b[0;34m(\u001b[0m\u001b[0;36m2\u001b[0m\u001b[0;34m)\u001b[0m\u001b[0;34m\u001b[0m\u001b[0;34m\u001b[0m\u001b[0m\n\u001b[0m\u001b[1;32m      2\u001b[0m \u001b[0mcorr\u001b[0m\u001b[0;34m\u001b[0m\u001b[0;34m\u001b[0m\u001b[0m\n",
            "\u001b[0;31mNameError\u001b[0m: name 'pdnum_df17221' is not defined"
          ]
        }
      ],
      "source": [
        "corr = pdnum_df17221.corr().round(2)\n",
        "corr"
      ]
    },
    {
      "cell_type": "code",
      "execution_count": null,
      "metadata": {
        "id": "iPqsIsTtncK_"
      },
      "outputs": [],
      "source": [
        "sns.heatmap(corr,cmap=\"Blues\", annot=True)"
      ]
    },
    {
      "cell_type": "code",
      "execution_count": null,
      "metadata": {
        "id": "iCULqXQ5neFG"
      },
      "outputs": [],
      "source": [
        "#Additional example\n",
        "from pyspark.ml.stat import Correlation\n",
        "from pyspark.ml.feature import VectorAssembler\n",
        "\n",
        "# convert to vector column first\n",
        "vector_col = \"corr_features\"\n",
        "listcol = (pdnum_df17221.columns).tolist()\n",
        "assembler = VectorAssembler(inputCols=listcol, outputCol=vector_col)\n",
        "df_vector = assembler.transform(data17_21cP).select(vector_col)\n",
        "\n",
        "# get correlation matrix\n",
        "matrix = Correlation.corr(df_vector, vector_col)\n",
        "\n",
        "matrix.collect()[0][\"pearson({})\".format(vector_col)].values"
      ]
    },
    {
      "cell_type": "code",
      "execution_count": null,
      "metadata": {
        "id": "schlv1CmnjNO"
      },
      "outputs": [],
      "source": [
        "from pandas.plotting import scatter_matrix\n",
        "\n",
        "axs = scatter_matrix(pdnum_df17221, figsize=(8, 8));\n",
        "n = len(listcol)\n",
        "for i in range(n):\n",
        "    v = axs[i, 0]\n",
        "    v.yaxis.label.set_rotation(0)\n",
        "    v.yaxis.label.set_ha('right')\n",
        "    v.set_yticks(())\n",
        "    h = axs[n-1, i]\n",
        "    h.xaxis.label.set_rotation(90)\n",
        "    h.set_xticks(())"
      ]
    },
    {
      "cell_type": "markdown",
      "metadata": {
        "id": "PHN4DFE4Razw"
      },
      "source": [
        "# **Old sampling**"
      ]
    },
    {
      "cell_type": "code",
      "execution_count": null,
      "metadata": {
        "id": "NMO-lLHZJjCT"
      },
      "outputs": [],
      "source": [
        "##not defind max of data\n",
        "# df17 = data17.sample(withReplacement=False, fraction=0.3249528676893411 , seed=212276)\n",
        "# df18 = data18.sample(withReplacement=False, fraction=0.2906509841455795 , seed=212276)\n",
        "# df19 = data19.sample(withReplacement=False, fraction=0.23574050719965783 , seed=212276)\n",
        "# df20 = data20.sample(withReplacement=False, fraction=0.06670474130152501  , seed=212276)\n",
        "# df21 = data21.sample(withReplacement=False, fraction=0.08195089966389654, seed=212276)"
      ]
    },
    {
      "cell_type": "code",
      "execution_count": null,
      "metadata": {
        "id": "aCxMTwnPkUcv"
      },
      "outputs": [],
      "source": [
        "##not defind max of data\n",
        "# use 2.6 % of all data\n",
        "df17 = data17.sample(withReplacement=False, fraction=0.03249528676893411 , seed=212276)\n",
        "df18 = data18.sample(withReplacement=False, fraction=0.02906509841455795 , seed=212276)\n",
        "df19 = data19.sample(withReplacement=False, fraction=0.023574050719965783 , seed=212276)\n",
        "df20 = data20.sample(withReplacement=False, fraction=0.006670474130152501  , seed=212276)\n",
        "df21 = data21.sample(withReplacement=False, fraction=0.008195089966389654, seed=212276)"
      ]
    },
    {
      "cell_type": "code",
      "execution_count": null,
      "metadata": {
        "id": "_QVMLchLKlm_"
      },
      "outputs": [],
      "source": [
        "# a1 = df17.count()\n",
        "# b1 = df18.count()\n",
        "# c1 = df19.count()\n",
        "# d1 = df20.count()\n",
        "# e1 = df21.count()"
      ]
    },
    {
      "cell_type": "code",
      "execution_count": null,
      "metadata": {
        "id": "ksJwk-qyM0zo"
      },
      "outputs": [],
      "source": [
        "# print(a1,b1,c1,d1,e1)\n",
        "# print(a1+b1+c1+d1+e1)\n",
        "# print((a1+b1+c1+d1+e1)/n)"
      ]
    },
    {
      "cell_type": "code",
      "execution_count": null,
      "metadata": {
        "id": "Pe0FXTA7i7uV"
      },
      "outputs": [],
      "source": [
        "dataU = df17.union(df18).union(df19).union(df20).union(df21)"
      ]
    },
    {
      "cell_type": "code",
      "execution_count": null,
      "metadata": {
        "id": "dhCHfmJqbgwW"
      },
      "outputs": [],
      "source": [
        "#  dataU.write.parquet('/content/gdrive/MyDrive/NYC/SpData.parquet')"
      ]
    },
    {
      "cell_type": "code",
      "execution_count": null,
      "metadata": {
        "id": "YUjk2tURjHeC"
      },
      "outputs": [],
      "source": [
        "# Spdata = spark.read.parquet('/content/gdrive/MyDrive/NYC/SpData.parquet')"
      ]
    },
    {
      "cell_type": "code",
      "execution_count": null,
      "metadata": {
        "id": "yho8es0WquNi"
      },
      "outputs": [],
      "source": [
        "# Spdata.registerTempTable('TaxC2')"
      ]
    },
    {
      "cell_type": "code",
      "execution_count": null,
      "metadata": {
        "colab": {
          "base_uri": "https://localhost:8080/"
        },
        "id": "v8BJB_C5avaO",
        "outputId": "99a87623-9c91-4c62-d6ac-a2ecf6501771"
      },
      "outputs": [
        {
          "name": "stderr",
          "output_type": "stream",
          "text": [
            "/content/spark-3.3.0-bin-hadoop3/python/pyspark/sql/dataframe.py:229: FutureWarning: Deprecated in 2.0, use createOrReplaceTempView instead.\n",
            "  warnings.warn(\"Deprecated in 2.0, use createOrReplaceTempView instead.\", FutureWarning)\n"
          ]
        }
      ],
      "source": [
        "dataU.registerTempTable('TaxC2')"
      ]
    },
    {
      "cell_type": "code",
      "execution_count": null,
      "metadata": {
        "colab": {
          "base_uri": "https://localhost:8080/"
        },
        "id": "reO3s9nSrWX9",
        "outputId": "72ff0f4d-e048-4dc2-a3e4-89acd33d4b55"
      },
      "outputs": [
        {
          "name": "stdout",
          "output_type": "stream",
          "text": [
            "+----+--------+\n",
            "|Year|count(1)|\n",
            "+----+--------+\n",
            "|2017| 3679188|\n",
            "|2018| 2939678|\n",
            "|2019| 1937415|\n",
            "|2020|  154268|\n",
            "|2021|  233178|\n",
            "+----+--------+\n",
            "\n"
          ]
        }
      ],
      "source": [
        "sqlContext.sql('''\n",
        "        select date_format(tpep_pickup_datetime,\"y\") as Year,count(*) from TaxC2\n",
        "        group by 1\n",
        "        order by 1\n",
        "\n",
        "       ''').show()\n",
        "        #  WHERE (date_format(tpep_pickup_datetime,\"y\") || '-' || date_format(tpep_pickup_datetime,\"MM\")) between \"2021-01\" and \"2021-12\""
      ]
    },
    {
      "cell_type": "code",
      "execution_count": null,
      "metadata": {
        "colab": {
          "base_uri": "https://localhost:8080/",
          "height": 934
        },
        "id": "ZP6_asIIhGHP",
        "outputId": "375ea0ac-a4f9-4c42-8e43-989c8a36cee9"
      },
      "outputs": [
        {
          "ename": "Py4JJavaError",
          "evalue": "ignored",
          "output_type": "error",
          "traceback": [
            "\u001b[0;31m---------------------------------------------------------------------------\u001b[0m",
            "\u001b[0;31mPy4JJavaError\u001b[0m                             Traceback (most recent call last)",
            "\u001b[0;32m<ipython-input-30-8bff7ad6b55d>\u001b[0m in \u001b[0;36m<module>\u001b[0;34m\u001b[0m\n\u001b[0;32m----> 1\u001b[0;31m \u001b[0mpdnum_df\u001b[0m \u001b[0;34m=\u001b[0m \u001b[0mdataU\u001b[0m\u001b[0;34m.\u001b[0m\u001b[0mtoPandas\u001b[0m\u001b[0;34m(\u001b[0m\u001b[0;34m)\u001b[0m\u001b[0;34m\u001b[0m\u001b[0;34m\u001b[0m\u001b[0m\n\u001b[0m",
            "\u001b[0;32m/content/spark-3.3.0-bin-hadoop3/python/pyspark/sql/pandas/conversion.py\u001b[0m in \u001b[0;36mtoPandas\u001b[0;34m(self)\u001b[0m\n\u001b[1;32m    203\u001b[0m \u001b[0;34m\u001b[0m\u001b[0m\n\u001b[1;32m    204\u001b[0m         \u001b[0;31m# Below is toPandas without Arrow optimization.\u001b[0m\u001b[0;34m\u001b[0m\u001b[0;34m\u001b[0m\u001b[0;34m\u001b[0m\u001b[0m\n\u001b[0;32m--> 205\u001b[0;31m         \u001b[0mpdf\u001b[0m \u001b[0;34m=\u001b[0m \u001b[0mpd\u001b[0m\u001b[0;34m.\u001b[0m\u001b[0mDataFrame\u001b[0m\u001b[0;34m.\u001b[0m\u001b[0mfrom_records\u001b[0m\u001b[0;34m(\u001b[0m\u001b[0mself\u001b[0m\u001b[0;34m.\u001b[0m\u001b[0mcollect\u001b[0m\u001b[0;34m(\u001b[0m\u001b[0;34m)\u001b[0m\u001b[0;34m,\u001b[0m \u001b[0mcolumns\u001b[0m\u001b[0;34m=\u001b[0m\u001b[0mself\u001b[0m\u001b[0;34m.\u001b[0m\u001b[0mcolumns\u001b[0m\u001b[0;34m)\u001b[0m\u001b[0;34m\u001b[0m\u001b[0;34m\u001b[0m\u001b[0m\n\u001b[0m\u001b[1;32m    206\u001b[0m         \u001b[0mcolumn_counter\u001b[0m \u001b[0;34m=\u001b[0m \u001b[0mCounter\u001b[0m\u001b[0;34m(\u001b[0m\u001b[0mself\u001b[0m\u001b[0;34m.\u001b[0m\u001b[0mcolumns\u001b[0m\u001b[0;34m)\u001b[0m\u001b[0;34m\u001b[0m\u001b[0;34m\u001b[0m\u001b[0m\n\u001b[1;32m    207\u001b[0m \u001b[0;34m\u001b[0m\u001b[0m\n",
            "\u001b[0;32m/content/spark-3.3.0-bin-hadoop3/python/pyspark/sql/dataframe.py\u001b[0m in \u001b[0;36mcollect\u001b[0;34m(self)\u001b[0m\n\u001b[1;32m    815\u001b[0m         \"\"\"\n\u001b[1;32m    816\u001b[0m         \u001b[0;32mwith\u001b[0m \u001b[0mSCCallSiteSync\u001b[0m\u001b[0;34m(\u001b[0m\u001b[0mself\u001b[0m\u001b[0;34m.\u001b[0m\u001b[0m_sc\u001b[0m\u001b[0;34m)\u001b[0m\u001b[0;34m:\u001b[0m\u001b[0;34m\u001b[0m\u001b[0;34m\u001b[0m\u001b[0m\n\u001b[0;32m--> 817\u001b[0;31m             \u001b[0msock_info\u001b[0m \u001b[0;34m=\u001b[0m \u001b[0mself\u001b[0m\u001b[0;34m.\u001b[0m\u001b[0m_jdf\u001b[0m\u001b[0;34m.\u001b[0m\u001b[0mcollectToPython\u001b[0m\u001b[0;34m(\u001b[0m\u001b[0;34m)\u001b[0m\u001b[0;34m\u001b[0m\u001b[0;34m\u001b[0m\u001b[0m\n\u001b[0m\u001b[1;32m    818\u001b[0m         \u001b[0;32mreturn\u001b[0m \u001b[0mlist\u001b[0m\u001b[0;34m(\u001b[0m\u001b[0m_load_from_socket\u001b[0m\u001b[0;34m(\u001b[0m\u001b[0msock_info\u001b[0m\u001b[0;34m,\u001b[0m \u001b[0mBatchedSerializer\u001b[0m\u001b[0;34m(\u001b[0m\u001b[0mCPickleSerializer\u001b[0m\u001b[0;34m(\u001b[0m\u001b[0;34m)\u001b[0m\u001b[0;34m)\u001b[0m\u001b[0;34m)\u001b[0m\u001b[0;34m)\u001b[0m\u001b[0;34m\u001b[0m\u001b[0;34m\u001b[0m\u001b[0m\n\u001b[1;32m    819\u001b[0m \u001b[0;34m\u001b[0m\u001b[0m\n",
            "\u001b[0;32m/content/spark-3.3.0-bin-hadoop3/python/lib/py4j-0.10.9.5-src.zip/py4j/java_gateway.py\u001b[0m in \u001b[0;36m__call__\u001b[0;34m(self, *args)\u001b[0m\n\u001b[1;32m   1320\u001b[0m         \u001b[0manswer\u001b[0m \u001b[0;34m=\u001b[0m \u001b[0mself\u001b[0m\u001b[0;34m.\u001b[0m\u001b[0mgateway_client\u001b[0m\u001b[0;34m.\u001b[0m\u001b[0msend_command\u001b[0m\u001b[0;34m(\u001b[0m\u001b[0mcommand\u001b[0m\u001b[0;34m)\u001b[0m\u001b[0;34m\u001b[0m\u001b[0;34m\u001b[0m\u001b[0m\n\u001b[1;32m   1321\u001b[0m         return_value = get_return_value(\n\u001b[0;32m-> 1322\u001b[0;31m             answer, self.gateway_client, self.target_id, self.name)\n\u001b[0m\u001b[1;32m   1323\u001b[0m \u001b[0;34m\u001b[0m\u001b[0m\n\u001b[1;32m   1324\u001b[0m         \u001b[0;32mfor\u001b[0m \u001b[0mtemp_arg\u001b[0m \u001b[0;32min\u001b[0m \u001b[0mtemp_args\u001b[0m\u001b[0;34m:\u001b[0m\u001b[0;34m\u001b[0m\u001b[0;34m\u001b[0m\u001b[0m\n",
            "\u001b[0;32m/content/spark-3.3.0-bin-hadoop3/python/pyspark/sql/utils.py\u001b[0m in \u001b[0;36mdeco\u001b[0;34m(*a, **kw)\u001b[0m\n\u001b[1;32m    188\u001b[0m     \u001b[0;32mdef\u001b[0m \u001b[0mdeco\u001b[0m\u001b[0;34m(\u001b[0m\u001b[0;34m*\u001b[0m\u001b[0ma\u001b[0m\u001b[0;34m:\u001b[0m \u001b[0mAny\u001b[0m\u001b[0;34m,\u001b[0m \u001b[0;34m**\u001b[0m\u001b[0mkw\u001b[0m\u001b[0;34m:\u001b[0m \u001b[0mAny\u001b[0m\u001b[0;34m)\u001b[0m \u001b[0;34m->\u001b[0m \u001b[0mAny\u001b[0m\u001b[0;34m:\u001b[0m\u001b[0;34m\u001b[0m\u001b[0;34m\u001b[0m\u001b[0m\n\u001b[1;32m    189\u001b[0m         \u001b[0;32mtry\u001b[0m\u001b[0;34m:\u001b[0m\u001b[0;34m\u001b[0m\u001b[0;34m\u001b[0m\u001b[0m\n\u001b[0;32m--> 190\u001b[0;31m             \u001b[0;32mreturn\u001b[0m \u001b[0mf\u001b[0m\u001b[0;34m(\u001b[0m\u001b[0;34m*\u001b[0m\u001b[0ma\u001b[0m\u001b[0;34m,\u001b[0m \u001b[0;34m**\u001b[0m\u001b[0mkw\u001b[0m\u001b[0;34m)\u001b[0m\u001b[0;34m\u001b[0m\u001b[0;34m\u001b[0m\u001b[0m\n\u001b[0m\u001b[1;32m    191\u001b[0m         \u001b[0;32mexcept\u001b[0m \u001b[0mPy4JJavaError\u001b[0m \u001b[0;32mas\u001b[0m \u001b[0me\u001b[0m\u001b[0;34m:\u001b[0m\u001b[0;34m\u001b[0m\u001b[0;34m\u001b[0m\u001b[0m\n\u001b[1;32m    192\u001b[0m             \u001b[0mconverted\u001b[0m \u001b[0;34m=\u001b[0m \u001b[0mconvert_exception\u001b[0m\u001b[0;34m(\u001b[0m\u001b[0me\u001b[0m\u001b[0;34m.\u001b[0m\u001b[0mjava_exception\u001b[0m\u001b[0;34m)\u001b[0m\u001b[0;34m\u001b[0m\u001b[0;34m\u001b[0m\u001b[0m\n",
            "\u001b[0;32m/content/spark-3.3.0-bin-hadoop3/python/lib/py4j-0.10.9.5-src.zip/py4j/protocol.py\u001b[0m in \u001b[0;36mget_return_value\u001b[0;34m(answer, gateway_client, target_id, name)\u001b[0m\n\u001b[1;32m    326\u001b[0m                 raise Py4JJavaError(\n\u001b[1;32m    327\u001b[0m                     \u001b[0;34m\"An error occurred while calling {0}{1}{2}.\\n\"\u001b[0m\u001b[0;34m.\u001b[0m\u001b[0;34m\u001b[0m\u001b[0;34m\u001b[0m\u001b[0m\n\u001b[0;32m--> 328\u001b[0;31m                     format(target_id, \".\", name), value)\n\u001b[0m\u001b[1;32m    329\u001b[0m             \u001b[0;32melse\u001b[0m\u001b[0;34m:\u001b[0m\u001b[0;34m\u001b[0m\u001b[0;34m\u001b[0m\u001b[0m\n\u001b[1;32m    330\u001b[0m                 raise Py4JError(\n",
            "\u001b[0;31mPy4JJavaError\u001b[0m: An error occurred while calling o62.collectToPython.\n: java.lang.OutOfMemoryError: Java heap space\n\tat scala.collection.mutable.ResizableArray.ensureSize(ResizableArray.scala:106)\n\tat scala.collection.mutable.ResizableArray.ensureSize$(ResizableArray.scala:96)\n\tat scala.collection.mutable.ArrayBuffer.ensureSize(ArrayBuffer.scala:49)\n\tat scala.collection.mutable.ArrayBuffer.$plus$eq(ArrayBuffer.scala:85)\n\tat org.apache.spark.sql.execution.SparkPlan.$anonfun$executeCollect$2(SparkPlan.scala:425)\n\tat org.apache.spark.sql.execution.SparkPlan$$Lambda$3649/102171998.apply(Unknown Source)\n\tat scala.collection.Iterator.foreach(Iterator.scala:943)\n\tat scala.collection.Iterator.foreach$(Iterator.scala:943)\n\tat org.apache.spark.util.NextIterator.foreach(NextIterator.scala:21)\n\tat org.apache.spark.sql.execution.SparkPlan.$anonfun$executeCollect$1(SparkPlan.scala:425)\n\tat org.apache.spark.sql.execution.SparkPlan.$anonfun$executeCollect$1$adapted(SparkPlan.scala:424)\n\tat org.apache.spark.sql.execution.SparkPlan$$Lambda$3648/1203973464.apply(Unknown Source)\n\tat scala.collection.IndexedSeqOptimized.foreach(IndexedSeqOptimized.scala:36)\n\tat scala.collection.IndexedSeqOptimized.foreach$(IndexedSeqOptimized.scala:33)\n\tat scala.collection.mutable.ArrayOps$ofRef.foreach(ArrayOps.scala:198)\n\tat org.apache.spark.sql.execution.SparkPlan.executeCollect(SparkPlan.scala:424)\n\tat org.apache.spark.sql.Dataset.$anonfun$collectToPython$1(Dataset.scala:3688)\n\tat org.apache.spark.sql.Dataset$$Lambda$3604/367567641.apply(Unknown Source)\n\tat org.apache.spark.sql.Dataset.$anonfun$withAction$2(Dataset.scala:3858)\n\tat org.apache.spark.sql.Dataset$$Lambda$2767/650671639.apply(Unknown Source)\n\tat org.apache.spark.sql.execution.QueryExecution$.withInternalError(QueryExecution.scala:510)\n\tat org.apache.spark.sql.Dataset.$anonfun$withAction$1(Dataset.scala:3856)\n\tat org.apache.spark.sql.Dataset$$Lambda$2571/2037115474.apply(Unknown Source)\n\tat org.apache.spark.sql.execution.SQLExecution$.$anonfun$withNewExecutionId$6(SQLExecution.scala:109)\n\tat org.apache.spark.sql.execution.SQLExecution$$$Lambda$2151/242413468.apply(Unknown Source)\n\tat org.apache.spark.sql.execution.SQLExecution$.withSQLConfPropagated(SQLExecution.scala:169)\n\tat org.apache.spark.sql.execution.SQLExecution$.$anonfun$withNewExecutionId$1(SQLExecution.scala:95)\n\tat org.apache.spark.sql.execution.SQLExecution$$$Lambda$2144/1291487787.apply(Unknown Source)\n\tat org.apache.spark.sql.SparkSession.withActive(SparkSession.scala:779)\n\tat org.apache.spark.sql.execution.SQLExecution$.withNewExecutionId(SQLExecution.scala:64)\n\tat org.apache.spark.sql.Dataset.withAction(Dataset.scala:3856)\n\tat org.apache.spark.sql.Dataset.collectToPython(Dataset.scala:3685)\n"
          ]
        }
      ],
      "source": [
        "# pdnum_df = dataU.toPandas()"
      ]
    },
    {
      "cell_type": "code",
      "execution_count": null,
      "metadata": {
        "id": "3VX85_v6st1M"
      },
      "outputs": [],
      "source": [
        "# corr = pdnum_df.corr().round(2)\n",
        "# corr"
      ]
    },
    {
      "cell_type": "markdown",
      "metadata": {
        "id": "yl8Vbx8_JLj5"
      },
      "source": [
        "# --------------------------------------**Now Section**------------------------------------"
      ]
    },
    {
      "cell_type": "markdown",
      "metadata": {
        "id": "4iuHVRJ6yddw"
      },
      "source": [
        "# **Cleansing and Sampling Section**"
      ]
    },
    {
      "cell_type": "code",
      "execution_count": null,
      "metadata": {
        "id": "Gy3MW8__s5bB"
      },
      "outputs": [],
      "source": [
        "data17_21 = spark.read.parquet('/content/gdrive/MyDrive/NYC/data5yc.parquet') #data from Old Section/Cleansing Section"
      ]
    },
    {
      "cell_type": "code",
      "execution_count": null,
      "metadata": {
        "id": "nqteQA91urtq"
      },
      "outputs": [],
      "source": [
        "# data = data17_21.sample(withReplacement=False, fraction=0.0000001 , seed=212276)"
      ]
    },
    {
      "cell_type": "code",
      "execution_count": null,
      "metadata": {
        "id": "VqdbkuUmwFxd"
      },
      "outputs": [],
      "source": [
        "# data17_21.show()"
      ]
    },
    {
      "cell_type": "code",
      "execution_count": null,
      "metadata": {
        "id": "SYAuTMJoy-SI"
      },
      "outputs": [],
      "source": [
        "# sam = data17_21.filter(data17_21.tpep_pickup_datetime.like(\"2020-01%\"))\n",
        "# sam.show()"
      ]
    },
    {
      "cell_type": "code",
      "execution_count": null,
      "metadata": {
        "id": "nlmDqUGUwUdn"
      },
      "outputs": [],
      "source": [
        "# sam.count()"
      ]
    },
    {
      "cell_type": "code",
      "execution_count": null,
      "metadata": {
        "id": "HdTuLRYa5K4e"
      },
      "outputs": [],
      "source": [
        "#  = 348494478\n",
        "# a = (113244280/n)\n",
        "# b = (101290263/n)\n",
        "# c = (82154265/n)\n",
        "# d = (23246234/n)\n",
        "# e = (28559436/n)\n",
        "# print(a,b,c,d,e)\n",
        "# print(a+b+c+d+e)\n",
        "# print(n*90/100)\n",
        "# .sample(withReplacement=, fraction= , seed=212276)"
      ]
    },
    {
      "cell_type": "markdown",
      "source": [
        "![image.png](data:image/png;base64,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)"
      ],
      "metadata": {
        "id": "GjOppH4NABri"
      }
    },
    {
      "cell_type": "code",
      "execution_count": null,
      "metadata": {
        "id": "3pSgVdFH_o0S"
      },
      "outputs": [],
      "source": [
        "n = 34849447.8\n",
        "per17 = 0.3249528676893411\n",
        "n17 = n*per17\n",
        "sp171 = data17_21.filter(data17_21.tpep_pickup_datetime.like(\"2017-01%\")).sample(withReplacement=False, fraction=n17*0.08568739189299451/n , seed=212276)\n",
        "sp172 = data17_21.filter(data17_21.tpep_pickup_datetime.like(\"2017-02%\")).sample(withReplacement=False, fraction=n17*0.0809047132446778/n , seed=212276)\n",
        "sp173 = data17_21.filter(data17_21.tpep_pickup_datetime.like(\"2017-03%\")).sample(withReplacement=False, fraction=n17*0.09083619940892379/n, seed=212276)\n",
        "sp174 = data17_21.filter(data17_21.tpep_pickup_datetime.like(\"2017-04%\")).sample(withReplacement=False, fraction=n17*0.0886348431903139/n, seed=212276)\n",
        "sp175 = data17_21.filter(data17_21.tpep_pickup_datetime.like(\"2017-05%\")).sample(withReplacement=False, fraction=n17* 0.0891275921397531/n, seed=212276)\n",
        "sp176 = data17_21.filter(data17_21.tpep_pickup_datetime.like(\"2017-06%\")).sample(withReplacement=False, fraction=n17*0.08520224597657383/n , seed=212276)\n",
        "sp177 = data17_21.filter(data17_21.tpep_pickup_datetime.like(\"2017-07%\")).sample(withReplacement=False, fraction=n17*0.07576911610899906/n , seed=212276)\n",
        "sp178 = data17_21.filter(data17_21.tpep_pickup_datetime.like(\"2017-08%\")).sample(withReplacement=False, fraction=n17*0.07429828685387023/n, seed=212276)\n",
        "sp179 = data17_21.filter(data17_21.tpep_pickup_datetime.like(\"2017-09%\")).sample(withReplacement=False, fraction=n17*0.078802214116245/n ,seed=212276)\n",
        "sp1710 = data17_21.filter(data17_21.tpep_pickup_datetime.like(\"2017-10%\")).sample(withReplacement=False, fraction=n17*0.08587449185071423/n , seed=212276)\n",
        "sp1711 = data17_21.filter(data17_21.tpep_pickup_datetime.like(\"2017-11%\")).sample(withReplacement=False, fraction= n17*0.08148045976361896/n, seed=212276)\n",
        "sp1712 = data17_21.filter(data17_21.tpep_pickup_datetime.like(\"2017-12%\")).sample(withReplacement=False, fraction=n17* 0.0833824454533156/n , seed=212276)"
      ]
    },
    {
      "cell_type": "code",
      "execution_count": null,
      "metadata": {
        "id": "sn3FMV-pA9zY"
      },
      "outputs": [],
      "source": [
        "per18 = 0.2906509841455795\n",
        "n18 = n*per18\n",
        "sp181 = data17_21.filter(data17_21.tpep_pickup_datetime.like(\"2018-01%\")).sample(withReplacement=False, fraction=n18*0.08584415463508077/n, seed=212276)\n",
        "sp182 = data17_21.filter(data17_21.tpep_pickup_datetime.like(\"2018-02%\")).sample(withReplacement=False, fraction=n18*0.08322273780649578/n , seed=212276)\n",
        "sp183 = data17_21.filter(data17_21.tpep_pickup_datetime.like(\"2018-03%\")).sample(withReplacement=False, fraction=n18*0.092331895712424/n, seed=212276)\n",
        "sp184 = data17_21.filter(data17_21.tpep_pickup_datetime.like(\"2018-04%\")).sample(withReplacement=False, fraction=n18*0.0910820717288492/n , seed=212276)\n",
        "sp185 = data17_21.filter(data17_21.tpep_pickup_datetime.like(\"2018-05%\")).sample(withReplacement=False, fraction=n18*0.09027384004324285/n , seed=212276)\n",
        "sp186 = data17_21.filter(data17_21.tpep_pickup_datetime.like(\"2018-06%\")).sample(withReplacement=False, fraction=n18*0.08524580492006423/n , seed=212276)\n",
        "sp187 = data17_21.filter(data17_21.tpep_pickup_datetime.like(\"2018-07%\")).sample(withReplacement=False, fraction=n18*0.07676472317975915/n , seed=212276)\n",
        "sp188 = data17_21.filter(data17_21.tpep_pickup_datetime.like(\"2018-08%\")).sample(withReplacement=False, fraction=n18*0.0765455115858471/n , seed=212276)\n",
        "sp189 = data17_21.filter(data17_21.tpep_pickup_datetime.like(\"2018-09%\")).sample(withReplacement=False, fraction=n18*0.07780484289985504/n, seed=212276)\n",
        "sp1810 = data17_21.filter(data17_21.tpep_pickup_datetime.like(\"2018-10%\")).sample(withReplacement=False, fraction=n18*0.0845693825476591/n, seed=212276)\n",
        "sp1811 = data17_21.filter(data17_21.tpep_pickup_datetime.like(\"2018-11%\")).sample(withReplacement=False, fraction=n18*0.07797396083372791/n , seed=212276)\n",
        "sp1812 = data17_21.filter(data17_21.tpep_pickup_datetime.like(\"2018-12%\")).sample(withReplacement=False, fraction=n18*0.07834107410699487/n , seed=212276)"
      ]
    },
    {
      "cell_type": "code",
      "execution_count": null,
      "metadata": {
        "id": "7itCvNA2BfEq"
      },
      "outputs": [],
      "source": [
        "per19 = 0.23574050719965783\n",
        "n19 = n*per19\n",
        "sp191 = data17_21.filter(data17_21.tpep_pickup_datetime.like(\"2019-01%\")).sample(withReplacement=False, fraction=n19*0.09085350590136738/n , seed=212276)\n",
        "sp192 = data17_21.filter(data17_21.tpep_pickup_datetime.like(\"2019-02%\")).sample(withReplacement=False, fraction=n19*0.08321345215613578/n , seed=212276)\n",
        "sp193 = data17_21.filter(data17_21.tpep_pickup_datetime.like(\"2019-03%\")).sample(withReplacement=False, fraction=n19*0.09294563100284568/n , seed=212276)\n",
        "sp194 = data17_21.filter(data17_21.tpep_pickup_datetime.like(\"2019-04%\")).sample(withReplacement=False, fraction=n19*0.08824844334009926/n , seed=212276)\n",
        "sp195 = data17_21.filter(data17_21.tpep_pickup_datetime.like(\"2019-05%\")).sample(withReplacement=False, fraction=n19*0.08979465643080126/n , seed=212276)\n",
        "sp196 = data17_21.filter(data17_21.tpep_pickup_datetime.like(\"2019-06%\")).sample(withReplacement=False, fraction=n19*0.08240112670961149/n , seed=212276)\n",
        "sp197 = data17_21.filter(data17_21.tpep_pickup_datetime.like(\"2019-07%\")).sample(withReplacement=False, fraction=n19*0.07465228981112544/n , seed=212276)\n",
        "sp198 = data17_21.filter(data17_21.tpep_pickup_datetime.like(\"2019-08%\")).sample(withReplacement=False, fraction=n19*0.07195522959154951/n , seed=212276)\n",
        "sp199 = data17_21.filter(data17_21.tpep_pickup_datetime.like(\"2019-09%\")).sample(withReplacement=False, fraction=n19*0.07783095618955388/n , seed=212276)\n",
        "sp1910 = data17_21.filter(data17_21.tpep_pickup_datetime.like(\"2019-10%\")).sample(withReplacement=False, fraction=n19*0.08530844990214446/n, seed=212276)\n",
        "sp1911 = data17_21.filter(data17_21.tpep_pickup_datetime.like(\"2019-11%\")).sample(withReplacement=False, fraction=n19*0.08129260239867035/n , seed=212276)\n",
        "sp1912 = data17_21.filter(data17_21.tpep_pickup_datetime.like(\"2019-12%\")).sample(withReplacement=False, fraction=n19*0.0815036565660955/n , seed=212276)"
      ]
    },
    {
      "cell_type": "code",
      "execution_count": null,
      "metadata": {
        "id": "O7jrbdVoBwsI"
      },
      "outputs": [],
      "source": [
        "per20 = 0.06670474130152501\n",
        "n20 = n*per20\n",
        "sp201 = data17_21.filter(data17_21.tpep_pickup_datetime.like(\"2020-01%\")).sample(withReplacement=False, fraction=n20*0.26684782575964777/n , seed=212276)\n",
        "sp202 = data17_21.filter(data17_21.tpep_pickup_datetime.like(\"2020-02%\")).sample(withReplacement=False, fraction=n20*0.2626039985659613/n , seed=212276)\n",
        "sp203 = data17_21.filter(data17_21.tpep_pickup_datetime.like(\"2020-03%\")).sample(withReplacement=False, fraction=n20*0.12448369056252294/n , seed=212276)\n",
        "sp204 = data17_21.filter(data17_21.tpep_pickup_datetime.like(\"2020-04%\")).sample(withReplacement=False, fraction=n20*0.00905019712010126/n , seed=212276)\n",
        "sp205 = data17_21.filter(data17_21.tpep_pickup_datetime.like(\"2020-05%\")).sample(withReplacement=False, fraction=n20*0.011966755561352432/n , seed=212276)\n",
        "sp206 = data17_21.filter(data17_21.tpep_pickup_datetime.like(\"2020-06%\")).sample(withReplacement=False, fraction=n20*0.020777343977523413/n, seed=212276)\n",
        "sp207 = data17_21.filter(data17_21.tpep_pickup_datetime.like(\"2020-07%\")).sample(withReplacement=False, fraction=n20*0.03071456649709368/n, seed=212276)\n",
        "sp208 = data17_21.filter(data17_21.tpep_pickup_datetime.like(\"2020-08%\")).sample(withReplacement=False, fraction=n20*0.03911528207106579/n, seed=212276)\n",
        "sp209 = data17_21.filter(data17_21.tpep_pickup_datetime.like(\"2020-09%\")).sample(withReplacement=False, fraction=n20*0.0523116131412942/n , seed=212276)\n",
        "sp2010 = data17_21.filter(data17_21.tpep_pickup_datetime.like(\"2020-10%\")).sample(withReplacement=False, fraction=n20*0.06601705893522365/n , seed=212276)\n",
        "sp2011 = data17_21.filter(data17_21.tpep_pickup_datetime.like(\"2020-11%\")).sample(withReplacement=False, fraction=n20*0.059071847938896256/n , seed=212276)\n",
        "sp2012 = data17_21.filter(data17_21.tpep_pickup_datetime.like(\"2020-12%\")).sample(withReplacement=False, fraction=n20*0.057039819869317325/n, seed=212276)"
      ]
    },
    {
      "cell_type": "code",
      "execution_count": null,
      "metadata": {
        "id": "L9gehDYYB5kx"
      },
      "outputs": [],
      "source": [
        "per21 = 0.08195089966389654\n",
        "n21 = n*per21\n",
        "sp211 = data17_21.filter(data17_21.tpep_pickup_datetime.like(\"2021-01%\")).sample(withReplacement=False, fraction=n21*0.04332767635887488/n , seed=212276)\n",
        "sp212 = data17_21.filter(data17_21.tpep_pickup_datetime.like(\"2021-02%\")).sample(withReplacement=False, fraction=n21* 0.04341391755775569/n, seed=212276)\n",
        "sp213 = data17_21.filter(data17_21.tpep_pickup_datetime.like(\"2021-03%\")).sample(withReplacement=False, fraction=n21*0.06118296593812287/n , seed=212276)\n",
        "sp214 = data17_21.filter(data17_21.tpep_pickup_datetime.like(\"2021-04%\")).sample(withReplacement=False, fraction=n21* 0.06969388331058078/n, seed=212276)\n",
        "sp215 = data17_21.filter(data17_21.tpep_pickup_datetime.like(\"2021-05%\")).sample(withReplacement=False, fraction=n21*0.08118024459586667/n , seed=212276)\n",
        "sp216 = data17_21.filter(data17_21.tpep_pickup_datetime.like(\"2021-06%\")).sample(withReplacement=False, fraction=n21*0.09210101347939784/n , seed=212276)\n",
        "sp217 = data17_21.filter(data17_21.tpep_pickup_datetime.like(\"2021-07%\")).sample(withReplacement=False, fraction= n21*0.09138727389434441/n, seed=212276)\n",
        "sp218 = data17_21.filter(data17_21.tpep_pickup_datetime.like(\"2021-08%\")).sample(withReplacement=False, fraction=n21*0.08983482727039847/n , seed=212276)\n",
        "sp219 = data17_21.filter(data17_21.tpep_pickup_datetime.like(\"2021-09%\")).sample(withReplacement=False, fraction=n21*0.0956806359901505/n , seed=212276)\n",
        "sp2110 = data17_21.filter(data17_21.tpep_pickup_datetime.like(\"2021-10%\")).sample(withReplacement=False, fraction=n21*0.1128609472540004/n , seed=212276)\n",
        "sp2111 = data17_21.filter(data17_21.tpep_pickup_datetime.like(\"2021-11%\")).sample(withReplacement=False, fraction=n21*0.11360532469898915/n , seed=212276)\n",
        "sp2112 = data17_21.filter(data17_21.tpep_pickup_datetime.like(\"2021-12%\")).sample(withReplacement=False, fraction=n21*0.10573128965151833/n , seed=212276)"
      ]
    },
    {
      "cell_type": "code",
      "execution_count": null,
      "metadata": {
        "id": "H5ObyMHH_OlA"
      },
      "outputs": [],
      "source": [
        "sdata17 = sp171.union(sp172).union(sp173).union(sp174).union(sp175).union(sp176).union(sp177).union(sp178).union(sp179).union(sp1710).union(sp1711).union(sp1712)\n",
        "sdata18 = sp181.union(sp182).union(sp183).union(sp184).union(sp185).union(sp186).union(sp187).union(sp188).union(sp189).union(sp1810).union(sp1811).union(sp1812)\n",
        "sdata19 = sp191.union(sp192).union(sp193).union(sp194).union(sp195).union(sp196).union(sp197).union(sp198).union(sp199).union(sp1910).union(sp1911).union(sp1912)\n",
        "sdata20 = sp201.union(sp202).union(sp203).union(sp204).union(sp205).union(sp206).union(sp207).union(sp208).union(sp209).union(sp2010).union(sp2011).union(sp2012)\n",
        "sdata21 = sp211.union(sp212).union(sp213).union(sp214).union(sp215).union(sp216).union(sp217).union(sp218).union(sp219).union(sp2110).union(sp2111).union(sp2112)"
      ]
    },
    {
      "cell_type": "code",
      "execution_count": null,
      "metadata": {
        "id": "IWTD1cRHrNC9"
      },
      "outputs": [],
      "source": [
        "# sp173.count()\n",
        "# sum =\n",
        "# print(sum) #sum sample of years---->"
      ]
    },
    {
      "cell_type": "code",
      "execution_count": null,
      "metadata": {
        "id": "VUXkrUIisPVk"
      },
      "outputs": [],
      "source": [
        "# sdata17.registerTempTable('dataSam2017')\n",
        "# sdata18.registerTempTable('dataSam2018')\n",
        "# sdata19.registerTempTable('dataSam2019')\n",
        "# sdata20.registerTempTable('dataSam2020')\n",
        "# sdata21.registerTempTable('dataSam2021')"
      ]
    },
    {
      "cell_type": "code",
      "execution_count": null,
      "metadata": {
        "id": "x9wRaNeGOFpw"
      },
      "outputs": [],
      "source": [
        "# df171 = sp171.toPandas()\n",
        "# df172 = sp172.toPandas()\n",
        "# df173 = sp173.toPandas()\n",
        "# df174 = sp174.toPandas()\n",
        "# df175 = sp175.toPandas()\n",
        "# df176 = sp176.toPandas()\n",
        "# df177 = sp177.toPandas()\n",
        "# df178 = sp178.toPandas()\n",
        "# df179 = sp179.toPandas()\n",
        "# df1710 = sp1710.toPandas()\n",
        "# df1711 = sp1711.toPandas()\n",
        "# df1712 = sp1712.toPandas()"
      ]
    },
    {
      "cell_type": "code",
      "execution_count": null,
      "metadata": {
        "id": "gfSuAo4MlOOc"
      },
      "outputs": [],
      "source": [
        "# df181 = sp181.toPandas()\n",
        "# df182 = sp182.toPandas()\n",
        "# df183 = sp183.toPandas()\n",
        "# df184 = sp184.toPandas()\n",
        "# df185 = sp185.toPandas()\n",
        "# df186 = sp186.toPandas()\n",
        "# df187 = sp187.toPandas()\n",
        "# df188 = sp188.toPandas()\n",
        "# df189 = sp189.toPandas()\n",
        "# df1810 = sp1810.toPandas()\n",
        "# df1811 = sp1811.toPandas()\n",
        "# df1812 = sp1812.toPandas()"
      ]
    },
    {
      "cell_type": "code",
      "execution_count": null,
      "metadata": {
        "id": "oqq11jfqk0IX"
      },
      "outputs": [],
      "source": [
        "# df191 = sp191.toPandas()\n",
        "# df192 = sp192.toPandas()\n",
        "# df193 = sp193.toPandas()\n",
        "# df194 = sp194.toPandas()\n",
        "# df195 = sp195.toPandas()\n",
        "# df196 = sp196.toPandas()\n",
        "# df197 = sp197.toPandas()\n",
        "# df198 = sp198.toPandas()\n",
        "# df199 = sp199.toPandas()\n",
        "# df1910 = sp1910.toPandas()\n",
        "# df1911 = sp1911.toPandas()\n",
        "# df1912 = sp1912.toPandas()"
      ]
    },
    {
      "cell_type": "code",
      "execution_count": null,
      "metadata": {
        "id": "Zrd-HayElMzJ"
      },
      "outputs": [],
      "source": [
        "# df201 = sp201.toPandas()\n",
        "# df202 = sp202.toPandas()\n",
        "# df203 = sp203.toPandas()\n",
        "# df204 = sp204.toPandas()\n",
        "# df205 = sp205.toPandas()\n",
        "# df206 = sp206.toPandas()\n",
        "# df207 = sp207.toPandas()\n",
        "# df208 = sp208.toPandas()\n",
        "# df209 = sp209.toPandas()\n",
        "# df2010 = sp2010.toPandas()\n",
        "# df2011 = sp2011.toPandas()\n",
        "# df2012 = sp2012.toPandas()"
      ]
    },
    {
      "cell_type": "code",
      "execution_count": null,
      "metadata": {
        "id": "f90mobNblUjf"
      },
      "outputs": [],
      "source": [
        "# df211 = sp211.toPandas()\n",
        "# df212 = sp212.toPandas()\n",
        "# df213 = sp213.toPandas()\n",
        "# df214 = sp214.toPandas()\n",
        "# df215 = sp215.toPandas()\n",
        "# df216 = sp216.toPandas()\n",
        "# df217 = sp217.toPandas()\n",
        "# df218 = sp218.toPandas()\n",
        "# df219 = sp219.toPandas()\n",
        "# df2110 = sp2110.toPandas()\n",
        "# df2111 = sp2111.toPandas()\n",
        "# df2112 = sp2112.toPandas()"
      ]
    },
    {
      "cell_type": "code",
      "execution_count": null,
      "metadata": {
        "colab": {
          "base_uri": "https://localhost:8080/",
          "height": 741
        },
        "id": "smPGCR_tzYO2",
        "outputId": "d890279e-6a2a-43bd-f510-2339b8616ea8"
      },
      "outputs": [
        {
          "data": {
            "text/html": [
              "\n",
              "  <div id=\"df-d093e25b-25b0-469d-b76f-ae4576d6ca09\">\n",
              "    <div class=\"colab-df-container\">\n",
              "      <div>\n",
              "<style scoped>\n",
              "    .dataframe tbody tr th:only-of-type {\n",
              "        vertical-align: middle;\n",
              "    }\n",
              "\n",
              "    .dataframe tbody tr th {\n",
              "        vertical-align: top;\n",
              "    }\n",
              "\n",
              "    .dataframe thead th {\n",
              "        text-align: right;\n",
              "    }\n",
              "</style>\n",
              "<table border=\"1\" class=\"dataframe\">\n",
              "  <thead>\n",
              "    <tr style=\"text-align: right;\">\n",
              "      <th></th>\n",
              "      <th>VendorID</th>\n",
              "      <th>tpep_pickup_datetime</th>\n",
              "      <th>tpep_dropoff_datetime</th>\n",
              "      <th>passenger_count</th>\n",
              "      <th>trip_distance</th>\n",
              "      <th>RatecodeID</th>\n",
              "      <th>store_and_fwd_flag</th>\n",
              "      <th>PULocationID</th>\n",
              "      <th>DOLocationID</th>\n",
              "      <th>payment_type</th>\n",
              "      <th>fare_amount</th>\n",
              "      <th>extra</th>\n",
              "      <th>mta_tax</th>\n",
              "      <th>tip_amount</th>\n",
              "      <th>tolls_amount</th>\n",
              "      <th>improvement_surcharge</th>\n",
              "      <th>total_amount</th>\n",
              "      <th>congestion_surcharge</th>\n",
              "      <th>airport_fee</th>\n",
              "    </tr>\n",
              "  </thead>\n",
              "  <tbody>\n",
              "    <tr>\n",
              "      <th>6318</th>\n",
              "      <td>2</td>\n",
              "      <td>2021-12-07 10:11:59</td>\n",
              "      <td>2021-12-07 10:30:39</td>\n",
              "      <td>1.0</td>\n",
              "      <td>1.63</td>\n",
              "      <td>1.0</td>\n",
              "      <td>N</td>\n",
              "      <td>68</td>\n",
              "      <td>230</td>\n",
              "      <td>1</td>\n",
              "      <td>12.5</td>\n",
              "      <td>0.0</td>\n",
              "      <td>0.5</td>\n",
              "      <td>3.16</td>\n",
              "      <td>0.00</td>\n",
              "      <td>0.3</td>\n",
              "      <td>18.96</td>\n",
              "      <td>2.5</td>\n",
              "      <td>0.00</td>\n",
              "    </tr>\n",
              "    <tr>\n",
              "      <th>6871</th>\n",
              "      <td>2</td>\n",
              "      <td>2021-12-07 19:04:30</td>\n",
              "      <td>2021-12-07 19:21:36</td>\n",
              "      <td>1.0</td>\n",
              "      <td>2.76</td>\n",
              "      <td>1.0</td>\n",
              "      <td>N</td>\n",
              "      <td>137</td>\n",
              "      <td>262</td>\n",
              "      <td>1</td>\n",
              "      <td>13.0</td>\n",
              "      <td>1.0</td>\n",
              "      <td>0.5</td>\n",
              "      <td>2.00</td>\n",
              "      <td>0.00</td>\n",
              "      <td>0.3</td>\n",
              "      <td>19.30</td>\n",
              "      <td>2.5</td>\n",
              "      <td>0.00</td>\n",
              "    </tr>\n",
              "    <tr>\n",
              "      <th>11660</th>\n",
              "      <td>1</td>\n",
              "      <td>2021-12-12 11:05:52</td>\n",
              "      <td>2021-12-12 11:09:48</td>\n",
              "      <td>2.0</td>\n",
              "      <td>0.60</td>\n",
              "      <td>1.0</td>\n",
              "      <td>N</td>\n",
              "      <td>236</td>\n",
              "      <td>237</td>\n",
              "      <td>1</td>\n",
              "      <td>5.0</td>\n",
              "      <td>2.5</td>\n",
              "      <td>0.5</td>\n",
              "      <td>2.45</td>\n",
              "      <td>0.00</td>\n",
              "      <td>0.3</td>\n",
              "      <td>10.75</td>\n",
              "      <td>2.5</td>\n",
              "      <td>0.00</td>\n",
              "    </tr>\n",
              "    <tr>\n",
              "      <th>21192</th>\n",
              "      <td>2</td>\n",
              "      <td>2021-12-23 11:02:42</td>\n",
              "      <td>2021-12-23 11:20:27</td>\n",
              "      <td>1.0</td>\n",
              "      <td>2.99</td>\n",
              "      <td>1.0</td>\n",
              "      <td>N</td>\n",
              "      <td>141</td>\n",
              "      <td>239</td>\n",
              "      <td>1</td>\n",
              "      <td>13.5</td>\n",
              "      <td>0.0</td>\n",
              "      <td>0.5</td>\n",
              "      <td>2.00</td>\n",
              "      <td>0.00</td>\n",
              "      <td>0.3</td>\n",
              "      <td>18.80</td>\n",
              "      <td>2.5</td>\n",
              "      <td>0.00</td>\n",
              "    </tr>\n",
              "    <tr>\n",
              "      <th>25455</th>\n",
              "      <td>2</td>\n",
              "      <td>2021-12-31 00:32:57</td>\n",
              "      <td>2021-12-31 00:33:13</td>\n",
              "      <td>1.0</td>\n",
              "      <td>0.15</td>\n",
              "      <td>1.0</td>\n",
              "      <td>N</td>\n",
              "      <td>27</td>\n",
              "      <td>27</td>\n",
              "      <td>2</td>\n",
              "      <td>2.5</td>\n",
              "      <td>0.5</td>\n",
              "      <td>0.5</td>\n",
              "      <td>0.00</td>\n",
              "      <td>0.00</td>\n",
              "      <td>0.3</td>\n",
              "      <td>3.80</td>\n",
              "      <td>0.0</td>\n",
              "      <td>0.00</td>\n",
              "    </tr>\n",
              "    <tr>\n",
              "      <th>23721</th>\n",
              "      <td>2</td>\n",
              "      <td>2021-12-28 11:28:40</td>\n",
              "      <td>2021-12-28 11:36:30</td>\n",
              "      <td>1.0</td>\n",
              "      <td>1.40</td>\n",
              "      <td>1.0</td>\n",
              "      <td>N</td>\n",
              "      <td>43</td>\n",
              "      <td>143</td>\n",
              "      <td>1</td>\n",
              "      <td>7.5</td>\n",
              "      <td>0.0</td>\n",
              "      <td>0.5</td>\n",
              "      <td>2.70</td>\n",
              "      <td>0.00</td>\n",
              "      <td>0.3</td>\n",
              "      <td>13.50</td>\n",
              "      <td>2.5</td>\n",
              "      <td>0.00</td>\n",
              "    </tr>\n",
              "    <tr>\n",
              "      <th>17901</th>\n",
              "      <td>2</td>\n",
              "      <td>2021-12-18 19:04:35</td>\n",
              "      <td>2021-12-18 19:21:59</td>\n",
              "      <td>1.0</td>\n",
              "      <td>1.38</td>\n",
              "      <td>1.0</td>\n",
              "      <td>N</td>\n",
              "      <td>162</td>\n",
              "      <td>50</td>\n",
              "      <td>1</td>\n",
              "      <td>11.5</td>\n",
              "      <td>0.0</td>\n",
              "      <td>0.5</td>\n",
              "      <td>3.00</td>\n",
              "      <td>0.00</td>\n",
              "      <td>0.3</td>\n",
              "      <td>17.80</td>\n",
              "      <td>2.5</td>\n",
              "      <td>0.00</td>\n",
              "    </tr>\n",
              "    <tr>\n",
              "      <th>9212</th>\n",
              "      <td>2</td>\n",
              "      <td>2021-12-09 22:19:42</td>\n",
              "      <td>2021-12-09 22:35:32</td>\n",
              "      <td>1.0</td>\n",
              "      <td>3.82</td>\n",
              "      <td>1.0</td>\n",
              "      <td>N</td>\n",
              "      <td>68</td>\n",
              "      <td>239</td>\n",
              "      <td>2</td>\n",
              "      <td>14.0</td>\n",
              "      <td>0.5</td>\n",
              "      <td>0.5</td>\n",
              "      <td>0.00</td>\n",
              "      <td>0.00</td>\n",
              "      <td>0.3</td>\n",
              "      <td>17.80</td>\n",
              "      <td>2.5</td>\n",
              "      <td>0.00</td>\n",
              "    </tr>\n",
              "    <tr>\n",
              "      <th>582</th>\n",
              "      <td>2</td>\n",
              "      <td>2021-12-01 16:36:42</td>\n",
              "      <td>2021-12-01 16:46:57</td>\n",
              "      <td>1.0</td>\n",
              "      <td>2.35</td>\n",
              "      <td>1.0</td>\n",
              "      <td>N</td>\n",
              "      <td>4</td>\n",
              "      <td>170</td>\n",
              "      <td>1</td>\n",
              "      <td>10.0</td>\n",
              "      <td>1.0</td>\n",
              "      <td>0.5</td>\n",
              "      <td>1.20</td>\n",
              "      <td>0.00</td>\n",
              "      <td>0.3</td>\n",
              "      <td>15.50</td>\n",
              "      <td>2.5</td>\n",
              "      <td>0.00</td>\n",
              "    </tr>\n",
              "    <tr>\n",
              "      <th>14359</th>\n",
              "      <td>2</td>\n",
              "      <td>2021-12-15 11:36:23</td>\n",
              "      <td>2021-12-15 11:41:27</td>\n",
              "      <td>1.0</td>\n",
              "      <td>0.62</td>\n",
              "      <td>1.0</td>\n",
              "      <td>N</td>\n",
              "      <td>79</td>\n",
              "      <td>79</td>\n",
              "      <td>2</td>\n",
              "      <td>5.0</td>\n",
              "      <td>0.0</td>\n",
              "      <td>0.5</td>\n",
              "      <td>0.00</td>\n",
              "      <td>0.00</td>\n",
              "      <td>0.3</td>\n",
              "      <td>8.30</td>\n",
              "      <td>2.5</td>\n",
              "      <td>0.00</td>\n",
              "    </tr>\n",
              "    <tr>\n",
              "      <th>25161</th>\n",
              "      <td>2</td>\n",
              "      <td>2021-12-30 15:31:40</td>\n",
              "      <td>2021-12-30 15:42:48</td>\n",
              "      <td>1.0</td>\n",
              "      <td>1.95</td>\n",
              "      <td>1.0</td>\n",
              "      <td>N</td>\n",
              "      <td>113</td>\n",
              "      <td>161</td>\n",
              "      <td>1</td>\n",
              "      <td>9.5</td>\n",
              "      <td>0.0</td>\n",
              "      <td>0.5</td>\n",
              "      <td>2.56</td>\n",
              "      <td>0.00</td>\n",
              "      <td>0.3</td>\n",
              "      <td>15.36</td>\n",
              "      <td>2.5</td>\n",
              "      <td>0.00</td>\n",
              "    </tr>\n",
              "    <tr>\n",
              "      <th>13079</th>\n",
              "      <td>2</td>\n",
              "      <td>2021-12-13 20:42:36</td>\n",
              "      <td>2021-12-13 21:12:38</td>\n",
              "      <td>2.0</td>\n",
              "      <td>19.71</td>\n",
              "      <td>2.0</td>\n",
              "      <td>N</td>\n",
              "      <td>132</td>\n",
              "      <td>116</td>\n",
              "      <td>1</td>\n",
              "      <td>52.0</td>\n",
              "      <td>0.0</td>\n",
              "      <td>0.5</td>\n",
              "      <td>11.87</td>\n",
              "      <td>6.55</td>\n",
              "      <td>0.3</td>\n",
              "      <td>72.47</td>\n",
              "      <td>0.0</td>\n",
              "      <td>1.25</td>\n",
              "    </tr>\n",
              "    <tr>\n",
              "      <th>2875</th>\n",
              "      <td>2</td>\n",
              "      <td>2021-12-03 19:46:26</td>\n",
              "      <td>2021-12-03 19:53:00</td>\n",
              "      <td>2.0</td>\n",
              "      <td>1.24</td>\n",
              "      <td>1.0</td>\n",
              "      <td>N</td>\n",
              "      <td>238</td>\n",
              "      <td>239</td>\n",
              "      <td>1</td>\n",
              "      <td>6.5</td>\n",
              "      <td>1.0</td>\n",
              "      <td>0.5</td>\n",
              "      <td>2.16</td>\n",
              "      <td>0.00</td>\n",
              "      <td>0.3</td>\n",
              "      <td>12.96</td>\n",
              "      <td>2.5</td>\n",
              "      <td>0.00</td>\n",
              "    </tr>\n",
              "    <tr>\n",
              "      <th>10239</th>\n",
              "      <td>2</td>\n",
              "      <td>2021-12-10 22:02:23</td>\n",
              "      <td>2021-12-10 22:06:47</td>\n",
              "      <td>1.0</td>\n",
              "      <td>0.74</td>\n",
              "      <td>1.0</td>\n",
              "      <td>N</td>\n",
              "      <td>148</td>\n",
              "      <td>232</td>\n",
              "      <td>1</td>\n",
              "      <td>5.0</td>\n",
              "      <td>0.5</td>\n",
              "      <td>0.5</td>\n",
              "      <td>2.20</td>\n",
              "      <td>0.00</td>\n",
              "      <td>0.3</td>\n",
              "      <td>11.00</td>\n",
              "      <td>2.5</td>\n",
              "      <td>0.00</td>\n",
              "    </tr>\n",
              "    <tr>\n",
              "      <th>25862</th>\n",
              "      <td>2</td>\n",
              "      <td>2021-12-31 19:43:21</td>\n",
              "      <td>2021-12-31 19:46:46</td>\n",
              "      <td>1.0</td>\n",
              "      <td>0.47</td>\n",
              "      <td>1.0</td>\n",
              "      <td>N</td>\n",
              "      <td>164</td>\n",
              "      <td>164</td>\n",
              "      <td>2</td>\n",
              "      <td>4.0</td>\n",
              "      <td>1.0</td>\n",
              "      <td>0.5</td>\n",
              "      <td>0.00</td>\n",
              "      <td>0.00</td>\n",
              "      <td>0.3</td>\n",
              "      <td>8.30</td>\n",
              "      <td>2.5</td>\n",
              "      <td>0.00</td>\n",
              "    </tr>\n",
              "    <tr>\n",
              "      <th>5668</th>\n",
              "      <td>1</td>\n",
              "      <td>2021-12-06 15:57:31</td>\n",
              "      <td>2021-12-06 16:30:00</td>\n",
              "      <td>1.0</td>\n",
              "      <td>4.80</td>\n",
              "      <td>1.0</td>\n",
              "      <td>N</td>\n",
              "      <td>163</td>\n",
              "      <td>231</td>\n",
              "      <td>1</td>\n",
              "      <td>22.5</td>\n",
              "      <td>3.5</td>\n",
              "      <td>0.5</td>\n",
              "      <td>3.48</td>\n",
              "      <td>0.00</td>\n",
              "      <td>0.3</td>\n",
              "      <td>30.28</td>\n",
              "      <td>2.5</td>\n",
              "      <td>0.00</td>\n",
              "    </tr>\n",
              "    <tr>\n",
              "      <th>12985</th>\n",
              "      <td>2</td>\n",
              "      <td>2021-12-13 19:14:36</td>\n",
              "      <td>2021-12-13 19:27:02</td>\n",
              "      <td>1.0</td>\n",
              "      <td>2.08</td>\n",
              "      <td>1.0</td>\n",
              "      <td>N</td>\n",
              "      <td>249</td>\n",
              "      <td>13</td>\n",
              "      <td>1</td>\n",
              "      <td>10.5</td>\n",
              "      <td>1.0</td>\n",
              "      <td>0.5</td>\n",
              "      <td>2.96</td>\n",
              "      <td>0.00</td>\n",
              "      <td>0.3</td>\n",
              "      <td>17.76</td>\n",
              "      <td>2.5</td>\n",
              "      <td>0.00</td>\n",
              "    </tr>\n",
              "    <tr>\n",
              "      <th>19813</th>\n",
              "      <td>1</td>\n",
              "      <td>2021-12-21 13:40:35</td>\n",
              "      <td>2021-12-21 13:41:23</td>\n",
              "      <td>1.0</td>\n",
              "      <td>0.00</td>\n",
              "      <td>3.0</td>\n",
              "      <td>N</td>\n",
              "      <td>168</td>\n",
              "      <td>168</td>\n",
              "      <td>2</td>\n",
              "      <td>20.0</td>\n",
              "      <td>0.0</td>\n",
              "      <td>0.0</td>\n",
              "      <td>0.00</td>\n",
              "      <td>11.75</td>\n",
              "      <td>0.3</td>\n",
              "      <td>32.05</td>\n",
              "      <td>0.0</td>\n",
              "      <td>0.00</td>\n",
              "    </tr>\n",
              "    <tr>\n",
              "      <th>11828</th>\n",
              "      <td>2</td>\n",
              "      <td>2021-12-12 14:27:03</td>\n",
              "      <td>2021-12-12 15:01:33</td>\n",
              "      <td>1.0</td>\n",
              "      <td>10.88</td>\n",
              "      <td>1.0</td>\n",
              "      <td>N</td>\n",
              "      <td>113</td>\n",
              "      <td>138</td>\n",
              "      <td>1</td>\n",
              "      <td>34.5</td>\n",
              "      <td>0.0</td>\n",
              "      <td>0.5</td>\n",
              "      <td>13.30</td>\n",
              "      <td>6.55</td>\n",
              "      <td>0.3</td>\n",
              "      <td>57.65</td>\n",
              "      <td>2.5</td>\n",
              "      <td>0.00</td>\n",
              "    </tr>\n",
              "    <tr>\n",
              "      <th>16684</th>\n",
              "      <td>1</td>\n",
              "      <td>2021-12-17 15:50:36</td>\n",
              "      <td>2021-12-17 16:14:42</td>\n",
              "      <td>1.0</td>\n",
              "      <td>3.30</td>\n",
              "      <td>1.0</td>\n",
              "      <td>N</td>\n",
              "      <td>229</td>\n",
              "      <td>238</td>\n",
              "      <td>1</td>\n",
              "      <td>16.5</td>\n",
              "      <td>2.5</td>\n",
              "      <td>0.5</td>\n",
              "      <td>4.95</td>\n",
              "      <td>0.00</td>\n",
              "      <td>0.3</td>\n",
              "      <td>24.75</td>\n",
              "      <td>2.5</td>\n",
              "      <td>0.00</td>\n",
              "    </tr>\n",
              "  </tbody>\n",
              "</table>\n",
              "</div>\n",
              "      <button class=\"colab-df-convert\" onclick=\"convertToInteractive('df-d093e25b-25b0-469d-b76f-ae4576d6ca09')\"\n",
              "              title=\"Convert this dataframe to an interactive table.\"\n",
              "              style=\"display:none;\">\n",
              "        \n",
              "  <svg xmlns=\"http://www.w3.org/2000/svg\" height=\"24px\"viewBox=\"0 0 24 24\"\n",
              "       width=\"24px\">\n",
              "    <path d=\"M0 0h24v24H0V0z\" fill=\"none\"/>\n",
              "    <path d=\"M18.56 5.44l.94 2.06.94-2.06 2.06-.94-2.06-.94-.94-2.06-.94 2.06-2.06.94zm-11 1L8.5 8.5l.94-2.06 2.06-.94-2.06-.94L8.5 2.5l-.94 2.06-2.06.94zm10 10l.94 2.06.94-2.06 2.06-.94-2.06-.94-.94-2.06-.94 2.06-2.06.94z\"/><path d=\"M17.41 7.96l-1.37-1.37c-.4-.4-.92-.59-1.43-.59-.52 0-1.04.2-1.43.59L10.3 9.45l-7.72 7.72c-.78.78-.78 2.05 0 2.83L4 21.41c.39.39.9.59 1.41.59.51 0 1.02-.2 1.41-.59l7.78-7.78 2.81-2.81c.8-.78.8-2.07 0-2.86zM5.41 20L4 18.59l7.72-7.72 1.47 1.35L5.41 20z\"/>\n",
              "  </svg>\n",
              "      </button>\n",
              "      \n",
              "  <style>\n",
              "    .colab-df-container {\n",
              "      display:flex;\n",
              "      flex-wrap:wrap;\n",
              "      gap: 12px;\n",
              "    }\n",
              "\n",
              "    .colab-df-convert {\n",
              "      background-color: #E8F0FE;\n",
              "      border: none;\n",
              "      border-radius: 50%;\n",
              "      cursor: pointer;\n",
              "      display: none;\n",
              "      fill: #1967D2;\n",
              "      height: 32px;\n",
              "      padding: 0 0 0 0;\n",
              "      width: 32px;\n",
              "    }\n",
              "\n",
              "    .colab-df-convert:hover {\n",
              "      background-color: #E2EBFA;\n",
              "      box-shadow: 0px 1px 2px rgba(60, 64, 67, 0.3), 0px 1px 3px 1px rgba(60, 64, 67, 0.15);\n",
              "      fill: #174EA6;\n",
              "    }\n",
              "\n",
              "    [theme=dark] .colab-df-convert {\n",
              "      background-color: #3B4455;\n",
              "      fill: #D2E3FC;\n",
              "    }\n",
              "\n",
              "    [theme=dark] .colab-df-convert:hover {\n",
              "      background-color: #434B5C;\n",
              "      box-shadow: 0px 1px 3px 1px rgba(0, 0, 0, 0.15);\n",
              "      filter: drop-shadow(0px 1px 2px rgba(0, 0, 0, 0.3));\n",
              "      fill: #FFFFFF;\n",
              "    }\n",
              "  </style>\n",
              "\n",
              "      <script>\n",
              "        const buttonEl =\n",
              "          document.querySelector('#df-d093e25b-25b0-469d-b76f-ae4576d6ca09 button.colab-df-convert');\n",
              "        buttonEl.style.display =\n",
              "          google.colab.kernel.accessAllowed ? 'block' : 'none';\n",
              "\n",
              "        async function convertToInteractive(key) {\n",
              "          const element = document.querySelector('#df-d093e25b-25b0-469d-b76f-ae4576d6ca09');\n",
              "          const dataTable =\n",
              "            await google.colab.kernel.invokeFunction('convertToInteractive',\n",
              "                                                     [key], {});\n",
              "          if (!dataTable) return;\n",
              "\n",
              "          const docLinkHtml = 'Like what you see? Visit the ' +\n",
              "            '<a target=\"_blank\" href=https://colab.research.google.com/notebooks/data_table.ipynb>data table notebook</a>'\n",
              "            + ' to learn more about interactive tables.';\n",
              "          element.innerHTML = '';\n",
              "          dataTable['output_type'] = 'display_data';\n",
              "          await google.colab.output.renderOutput(dataTable, element);\n",
              "          const docLink = document.createElement('div');\n",
              "          docLink.innerHTML = docLinkHtml;\n",
              "          element.appendChild(docLink);\n",
              "        }\n",
              "      </script>\n",
              "    </div>\n",
              "  </div>\n",
              "  "
            ],
            "text/plain": [
              "       VendorID tpep_pickup_datetime tpep_dropoff_datetime  passenger_count  \\\n",
              "6318          2  2021-12-07 10:11:59   2021-12-07 10:30:39              1.0   \n",
              "6871          2  2021-12-07 19:04:30   2021-12-07 19:21:36              1.0   \n",
              "11660         1  2021-12-12 11:05:52   2021-12-12 11:09:48              2.0   \n",
              "21192         2  2021-12-23 11:02:42   2021-12-23 11:20:27              1.0   \n",
              "25455         2  2021-12-31 00:32:57   2021-12-31 00:33:13              1.0   \n",
              "23721         2  2021-12-28 11:28:40   2021-12-28 11:36:30              1.0   \n",
              "17901         2  2021-12-18 19:04:35   2021-12-18 19:21:59              1.0   \n",
              "9212          2  2021-12-09 22:19:42   2021-12-09 22:35:32              1.0   \n",
              "582           2  2021-12-01 16:36:42   2021-12-01 16:46:57              1.0   \n",
              "14359         2  2021-12-15 11:36:23   2021-12-15 11:41:27              1.0   \n",
              "25161         2  2021-12-30 15:31:40   2021-12-30 15:42:48              1.0   \n",
              "13079         2  2021-12-13 20:42:36   2021-12-13 21:12:38              2.0   \n",
              "2875          2  2021-12-03 19:46:26   2021-12-03 19:53:00              2.0   \n",
              "10239         2  2021-12-10 22:02:23   2021-12-10 22:06:47              1.0   \n",
              "25862         2  2021-12-31 19:43:21   2021-12-31 19:46:46              1.0   \n",
              "5668          1  2021-12-06 15:57:31   2021-12-06 16:30:00              1.0   \n",
              "12985         2  2021-12-13 19:14:36   2021-12-13 19:27:02              1.0   \n",
              "19813         1  2021-12-21 13:40:35   2021-12-21 13:41:23              1.0   \n",
              "11828         2  2021-12-12 14:27:03   2021-12-12 15:01:33              1.0   \n",
              "16684         1  2021-12-17 15:50:36   2021-12-17 16:14:42              1.0   \n",
              "\n",
              "       trip_distance  RatecodeID store_and_fwd_flag  PULocationID  \\\n",
              "6318            1.63         1.0                  N            68   \n",
              "6871            2.76         1.0                  N           137   \n",
              "11660           0.60         1.0                  N           236   \n",
              "21192           2.99         1.0                  N           141   \n",
              "25455           0.15         1.0                  N            27   \n",
              "23721           1.40         1.0                  N            43   \n",
              "17901           1.38         1.0                  N           162   \n",
              "9212            3.82         1.0                  N            68   \n",
              "582             2.35         1.0                  N             4   \n",
              "14359           0.62         1.0                  N            79   \n",
              "25161           1.95         1.0                  N           113   \n",
              "13079          19.71         2.0                  N           132   \n",
              "2875            1.24         1.0                  N           238   \n",
              "10239           0.74         1.0                  N           148   \n",
              "25862           0.47         1.0                  N           164   \n",
              "5668            4.80         1.0                  N           163   \n",
              "12985           2.08         1.0                  N           249   \n",
              "19813           0.00         3.0                  N           168   \n",
              "11828          10.88         1.0                  N           113   \n",
              "16684           3.30         1.0                  N           229   \n",
              "\n",
              "       DOLocationID  payment_type  fare_amount  extra  mta_tax  tip_amount  \\\n",
              "6318            230             1         12.5    0.0      0.5        3.16   \n",
              "6871            262             1         13.0    1.0      0.5        2.00   \n",
              "11660           237             1          5.0    2.5      0.5        2.45   \n",
              "21192           239             1         13.5    0.0      0.5        2.00   \n",
              "25455            27             2          2.5    0.5      0.5        0.00   \n",
              "23721           143             1          7.5    0.0      0.5        2.70   \n",
              "17901            50             1         11.5    0.0      0.5        3.00   \n",
              "9212            239             2         14.0    0.5      0.5        0.00   \n",
              "582             170             1         10.0    1.0      0.5        1.20   \n",
              "14359            79             2          5.0    0.0      0.5        0.00   \n",
              "25161           161             1          9.5    0.0      0.5        2.56   \n",
              "13079           116             1         52.0    0.0      0.5       11.87   \n",
              "2875            239             1          6.5    1.0      0.5        2.16   \n",
              "10239           232             1          5.0    0.5      0.5        2.20   \n",
              "25862           164             2          4.0    1.0      0.5        0.00   \n",
              "5668            231             1         22.5    3.5      0.5        3.48   \n",
              "12985            13             1         10.5    1.0      0.5        2.96   \n",
              "19813           168             2         20.0    0.0      0.0        0.00   \n",
              "11828           138             1         34.5    0.0      0.5       13.30   \n",
              "16684           238             1         16.5    2.5      0.5        4.95   \n",
              "\n",
              "       tolls_amount  improvement_surcharge  total_amount  \\\n",
              "6318           0.00                    0.3         18.96   \n",
              "6871           0.00                    0.3         19.30   \n",
              "11660          0.00                    0.3         10.75   \n",
              "21192          0.00                    0.3         18.80   \n",
              "25455          0.00                    0.3          3.80   \n",
              "23721          0.00                    0.3         13.50   \n",
              "17901          0.00                    0.3         17.80   \n",
              "9212           0.00                    0.3         17.80   \n",
              "582            0.00                    0.3         15.50   \n",
              "14359          0.00                    0.3          8.30   \n",
              "25161          0.00                    0.3         15.36   \n",
              "13079          6.55                    0.3         72.47   \n",
              "2875           0.00                    0.3         12.96   \n",
              "10239          0.00                    0.3         11.00   \n",
              "25862          0.00                    0.3          8.30   \n",
              "5668           0.00                    0.3         30.28   \n",
              "12985          0.00                    0.3         17.76   \n",
              "19813         11.75                    0.3         32.05   \n",
              "11828          6.55                    0.3         57.65   \n",
              "16684          0.00                    0.3         24.75   \n",
              "\n",
              "       congestion_surcharge  airport_fee  \n",
              "6318                    2.5         0.00  \n",
              "6871                    2.5         0.00  \n",
              "11660                   2.5         0.00  \n",
              "21192                   2.5         0.00  \n",
              "25455                   0.0         0.00  \n",
              "23721                   2.5         0.00  \n",
              "17901                   2.5         0.00  \n",
              "9212                    2.5         0.00  \n",
              "582                     2.5         0.00  \n",
              "14359                   2.5         0.00  \n",
              "25161                   2.5         0.00  \n",
              "13079                   0.0         1.25  \n",
              "2875                    2.5         0.00  \n",
              "10239                   2.5         0.00  \n",
              "25862                   2.5         0.00  \n",
              "5668                    2.5         0.00  \n",
              "12985                   2.5         0.00  \n",
              "19813                   0.0         0.00  \n",
              "11828                   2.5         0.00  \n",
              "16684                   2.5         0.00  "
            ]
          },
          "execution_count": 28,
          "metadata": {},
          "output_type": "execute_result"
        }
      ],
      "source": [
        "df2112.sample(20)"
      ]
    },
    {
      "cell_type": "code",
      "execution_count": null,
      "metadata": {
        "id": "ivmyUwbSxnZX"
      },
      "outputs": [],
      "source": [
        "df2017 = [df171,df172,df173,df174,df175,df176,df177,df178,df179,df1710,df1711,df1712]\n",
        "df2018 = [df181,df182,df183,df184,df185,df186,df187,df188,df189,df1810,df1811,df1812]\n",
        "df2019 = [df191,df192,df193,df194,df195,df196,df197,df198,df199,df1910,df1911,df1912]\n",
        "df2020 = [df201,df202,df203,df204,df205,df206,df207,df208,df209,df2010,df2011,df2012]\n",
        "df2021 = [df211,df212,df213,df214,df215,df216,df217,df218,df219,df2110,df2111,df2112]"
      ]
    },
    {
      "cell_type": "code",
      "execution_count": null,
      "metadata": {
        "id": "KWIdIsx8zgMb"
      },
      "outputs": [],
      "source": [
        "samdata_17 = pd.concat(df2017)"
      ]
    },
    {
      "cell_type": "code",
      "execution_count": null,
      "metadata": {
        "colab": {
          "base_uri": "https://localhost:8080/",
          "height": 270
        },
        "id": "sYdX14AR1238",
        "outputId": "5e150b85-28a4-4d95-bfc9-76550c717b03"
      },
      "outputs": [
        {
          "data": {
            "text/html": [
              "\n",
              "  <div id=\"df-30d18d9f-efbe-42a2-956c-31dc80c87afe\">\n",
              "    <div class=\"colab-df-container\">\n",
              "      <div>\n",
              "<style scoped>\n",
              "    .dataframe tbody tr th:only-of-type {\n",
              "        vertical-align: middle;\n",
              "    }\n",
              "\n",
              "    .dataframe tbody tr th {\n",
              "        vertical-align: top;\n",
              "    }\n",
              "\n",
              "    .dataframe thead th {\n",
              "        text-align: right;\n",
              "    }\n",
              "</style>\n",
              "<table border=\"1\" class=\"dataframe\">\n",
              "  <thead>\n",
              "    <tr style=\"text-align: right;\">\n",
              "      <th></th>\n",
              "      <th>VendorID</th>\n",
              "      <th>tpep_pickup_datetime</th>\n",
              "      <th>tpep_dropoff_datetime</th>\n",
              "      <th>passenger_count</th>\n",
              "      <th>trip_distance</th>\n",
              "      <th>RatecodeID</th>\n",
              "      <th>store_and_fwd_flag</th>\n",
              "      <th>PULocationID</th>\n",
              "      <th>DOLocationID</th>\n",
              "      <th>payment_type</th>\n",
              "      <th>fare_amount</th>\n",
              "      <th>extra</th>\n",
              "      <th>mta_tax</th>\n",
              "      <th>tip_amount</th>\n",
              "      <th>tolls_amount</th>\n",
              "      <th>improvement_surcharge</th>\n",
              "      <th>total_amount</th>\n",
              "      <th>congestion_surcharge</th>\n",
              "      <th>airport_fee</th>\n",
              "    </tr>\n",
              "  </thead>\n",
              "  <tbody>\n",
              "    <tr>\n",
              "      <th>0</th>\n",
              "      <td>1</td>\n",
              "      <td>2017-01-01 00:36:42</td>\n",
              "      <td>2017-01-01 00:41:09</td>\n",
              "      <td>1.0</td>\n",
              "      <td>1.10</td>\n",
              "      <td>1.0</td>\n",
              "      <td>N</td>\n",
              "      <td>41</td>\n",
              "      <td>42</td>\n",
              "      <td>2</td>\n",
              "      <td>6.0</td>\n",
              "      <td>0.5</td>\n",
              "      <td>0.5</td>\n",
              "      <td>0.00</td>\n",
              "      <td>0.0</td>\n",
              "      <td>0.3</td>\n",
              "      <td>7.30</td>\n",
              "      <td>NaN</td>\n",
              "      <td>NaN</td>\n",
              "    </tr>\n",
              "    <tr>\n",
              "      <th>1</th>\n",
              "      <td>2</td>\n",
              "      <td>2017-01-01 00:27:02</td>\n",
              "      <td>2017-01-01 00:34:04</td>\n",
              "      <td>1.0</td>\n",
              "      <td>0.76</td>\n",
              "      <td>1.0</td>\n",
              "      <td>N</td>\n",
              "      <td>237</td>\n",
              "      <td>141</td>\n",
              "      <td>2</td>\n",
              "      <td>6.0</td>\n",
              "      <td>0.5</td>\n",
              "      <td>0.5</td>\n",
              "      <td>0.00</td>\n",
              "      <td>0.0</td>\n",
              "      <td>0.3</td>\n",
              "      <td>7.30</td>\n",
              "      <td>NaN</td>\n",
              "      <td>NaN</td>\n",
              "    </tr>\n",
              "    <tr>\n",
              "      <th>2</th>\n",
              "      <td>1</td>\n",
              "      <td>2017-01-01 00:29:02</td>\n",
              "      <td>2017-01-01 00:39:27</td>\n",
              "      <td>2.0</td>\n",
              "      <td>1.20</td>\n",
              "      <td>1.0</td>\n",
              "      <td>N</td>\n",
              "      <td>237</td>\n",
              "      <td>229</td>\n",
              "      <td>1</td>\n",
              "      <td>8.0</td>\n",
              "      <td>0.5</td>\n",
              "      <td>0.5</td>\n",
              "      <td>3.00</td>\n",
              "      <td>0.0</td>\n",
              "      <td>0.3</td>\n",
              "      <td>12.30</td>\n",
              "      <td>NaN</td>\n",
              "      <td>NaN</td>\n",
              "    </tr>\n",
              "    <tr>\n",
              "      <th>3</th>\n",
              "      <td>1</td>\n",
              "      <td>2017-01-01 00:47:05</td>\n",
              "      <td>2017-01-01 01:01:01</td>\n",
              "      <td>3.0</td>\n",
              "      <td>2.70</td>\n",
              "      <td>1.0</td>\n",
              "      <td>N</td>\n",
              "      <td>148</td>\n",
              "      <td>256</td>\n",
              "      <td>2</td>\n",
              "      <td>12.5</td>\n",
              "      <td>0.5</td>\n",
              "      <td>0.5</td>\n",
              "      <td>0.00</td>\n",
              "      <td>0.0</td>\n",
              "      <td>0.3</td>\n",
              "      <td>13.80</td>\n",
              "      <td>NaN</td>\n",
              "      <td>NaN</td>\n",
              "    </tr>\n",
              "    <tr>\n",
              "      <th>4</th>\n",
              "      <td>1</td>\n",
              "      <td>2017-01-01 00:12:32</td>\n",
              "      <td>2017-01-01 00:21:14</td>\n",
              "      <td>2.0</td>\n",
              "      <td>0.90</td>\n",
              "      <td>1.0</td>\n",
              "      <td>N</td>\n",
              "      <td>79</td>\n",
              "      <td>90</td>\n",
              "      <td>1</td>\n",
              "      <td>7.0</td>\n",
              "      <td>0.5</td>\n",
              "      <td>0.5</td>\n",
              "      <td>1.65</td>\n",
              "      <td>0.0</td>\n",
              "      <td>0.3</td>\n",
              "      <td>9.95</td>\n",
              "      <td>NaN</td>\n",
              "      <td>NaN</td>\n",
              "    </tr>\n",
              "  </tbody>\n",
              "</table>\n",
              "</div>\n",
              "      <button class=\"colab-df-convert\" onclick=\"convertToInteractive('df-30d18d9f-efbe-42a2-956c-31dc80c87afe')\"\n",
              "              title=\"Convert this dataframe to an interactive table.\"\n",
              "              style=\"display:none;\">\n",
              "        \n",
              "  <svg xmlns=\"http://www.w3.org/2000/svg\" height=\"24px\"viewBox=\"0 0 24 24\"\n",
              "       width=\"24px\">\n",
              "    <path d=\"M0 0h24v24H0V0z\" fill=\"none\"/>\n",
              "    <path d=\"M18.56 5.44l.94 2.06.94-2.06 2.06-.94-2.06-.94-.94-2.06-.94 2.06-2.06.94zm-11 1L8.5 8.5l.94-2.06 2.06-.94-2.06-.94L8.5 2.5l-.94 2.06-2.06.94zm10 10l.94 2.06.94-2.06 2.06-.94-2.06-.94-.94-2.06-.94 2.06-2.06.94z\"/><path d=\"M17.41 7.96l-1.37-1.37c-.4-.4-.92-.59-1.43-.59-.52 0-1.04.2-1.43.59L10.3 9.45l-7.72 7.72c-.78.78-.78 2.05 0 2.83L4 21.41c.39.39.9.59 1.41.59.51 0 1.02-.2 1.41-.59l7.78-7.78 2.81-2.81c.8-.78.8-2.07 0-2.86zM5.41 20L4 18.59l7.72-7.72 1.47 1.35L5.41 20z\"/>\n",
              "  </svg>\n",
              "      </button>\n",
              "      \n",
              "  <style>\n",
              "    .colab-df-container {\n",
              "      display:flex;\n",
              "      flex-wrap:wrap;\n",
              "      gap: 12px;\n",
              "    }\n",
              "\n",
              "    .colab-df-convert {\n",
              "      background-color: #E8F0FE;\n",
              "      border: none;\n",
              "      border-radius: 50%;\n",
              "      cursor: pointer;\n",
              "      display: none;\n",
              "      fill: #1967D2;\n",
              "      height: 32px;\n",
              "      padding: 0 0 0 0;\n",
              "      width: 32px;\n",
              "    }\n",
              "\n",
              "    .colab-df-convert:hover {\n",
              "      background-color: #E2EBFA;\n",
              "      box-shadow: 0px 1px 2px rgba(60, 64, 67, 0.3), 0px 1px 3px 1px rgba(60, 64, 67, 0.15);\n",
              "      fill: #174EA6;\n",
              "    }\n",
              "\n",
              "    [theme=dark] .colab-df-convert {\n",
              "      background-color: #3B4455;\n",
              "      fill: #D2E3FC;\n",
              "    }\n",
              "\n",
              "    [theme=dark] .colab-df-convert:hover {\n",
              "      background-color: #434B5C;\n",
              "      box-shadow: 0px 1px 3px 1px rgba(0, 0, 0, 0.15);\n",
              "      filter: drop-shadow(0px 1px 2px rgba(0, 0, 0, 0.3));\n",
              "      fill: #FFFFFF;\n",
              "    }\n",
              "  </style>\n",
              "\n",
              "      <script>\n",
              "        const buttonEl =\n",
              "          document.querySelector('#df-30d18d9f-efbe-42a2-956c-31dc80c87afe button.colab-df-convert');\n",
              "        buttonEl.style.display =\n",
              "          google.colab.kernel.accessAllowed ? 'block' : 'none';\n",
              "\n",
              "        async function convertToInteractive(key) {\n",
              "          const element = document.querySelector('#df-30d18d9f-efbe-42a2-956c-31dc80c87afe');\n",
              "          const dataTable =\n",
              "            await google.colab.kernel.invokeFunction('convertToInteractive',\n",
              "                                                     [key], {});\n",
              "          if (!dataTable) return;\n",
              "\n",
              "          const docLinkHtml = 'Like what you see? Visit the ' +\n",
              "            '<a target=\"_blank\" href=https://colab.research.google.com/notebooks/data_table.ipynb>data table notebook</a>'\n",
              "            + ' to learn more about interactive tables.';\n",
              "          element.innerHTML = '';\n",
              "          dataTable['output_type'] = 'display_data';\n",
              "          await google.colab.output.renderOutput(dataTable, element);\n",
              "          const docLink = document.createElement('div');\n",
              "          docLink.innerHTML = docLinkHtml;\n",
              "          element.appendChild(docLink);\n",
              "        }\n",
              "      </script>\n",
              "    </div>\n",
              "  </div>\n",
              "  "
            ],
            "text/plain": [
              "   VendorID tpep_pickup_datetime tpep_dropoff_datetime  passenger_count  \\\n",
              "0         1  2017-01-01 00:36:42   2017-01-01 00:41:09              1.0   \n",
              "1         2  2017-01-01 00:27:02   2017-01-01 00:34:04              1.0   \n",
              "2         1  2017-01-01 00:29:02   2017-01-01 00:39:27              2.0   \n",
              "3         1  2017-01-01 00:47:05   2017-01-01 01:01:01              3.0   \n",
              "4         1  2017-01-01 00:12:32   2017-01-01 00:21:14              2.0   \n",
              "\n",
              "   trip_distance  RatecodeID store_and_fwd_flag  PULocationID  DOLocationID  \\\n",
              "0           1.10         1.0                  N            41            42   \n",
              "1           0.76         1.0                  N           237           141   \n",
              "2           1.20         1.0                  N           237           229   \n",
              "3           2.70         1.0                  N           148           256   \n",
              "4           0.90         1.0                  N            79            90   \n",
              "\n",
              "   payment_type  fare_amount  extra  mta_tax  tip_amount  tolls_amount  \\\n",
              "0             2          6.0    0.5      0.5        0.00           0.0   \n",
              "1             2          6.0    0.5      0.5        0.00           0.0   \n",
              "2             1          8.0    0.5      0.5        3.00           0.0   \n",
              "3             2         12.5    0.5      0.5        0.00           0.0   \n",
              "4             1          7.0    0.5      0.5        1.65           0.0   \n",
              "\n",
              "   improvement_surcharge  total_amount  congestion_surcharge  airport_fee  \n",
              "0                    0.3          7.30                   NaN          NaN  \n",
              "1                    0.3          7.30                   NaN          NaN  \n",
              "2                    0.3         12.30                   NaN          NaN  \n",
              "3                    0.3         13.80                   NaN          NaN  \n",
              "4                    0.3          9.95                   NaN          NaN  "
            ]
          },
          "execution_count": 33,
          "metadata": {},
          "output_type": "execute_result"
        }
      ],
      "source": [
        "samdata_17.head()"
      ]
    },
    {
      "cell_type": "code",
      "execution_count": null,
      "metadata": {
        "id": "gXEu3ugTK3x4"
      },
      "outputs": [],
      "source": [
        "samdata_18 = pd.concat(df2018)\n",
        "samdata_19 = pd.concat(df2019)\n",
        "samdata_20 = pd.concat(df2020)\n",
        "samdata_21 = pd.concat(df2021)"
      ]
    },
    {
      "cell_type": "code",
      "execution_count": null,
      "metadata": {
        "colab": {
          "base_uri": "https://localhost:8080/",
          "height": 270
        },
        "id": "hbvWg6Rb18U8",
        "outputId": "553c1def-71f1-4d14-8ff2-527f281d6aba"
      },
      "outputs": [
        {
          "data": {
            "text/html": [
              "\n",
              "  <div id=\"df-c6e32cd1-361b-47a7-a13d-8a41b326df9f\">\n",
              "    <div class=\"colab-df-container\">\n",
              "      <div>\n",
              "<style scoped>\n",
              "    .dataframe tbody tr th:only-of-type {\n",
              "        vertical-align: middle;\n",
              "    }\n",
              "\n",
              "    .dataframe tbody tr th {\n",
              "        vertical-align: top;\n",
              "    }\n",
              "\n",
              "    .dataframe thead th {\n",
              "        text-align: right;\n",
              "    }\n",
              "</style>\n",
              "<table border=\"1\" class=\"dataframe\">\n",
              "  <thead>\n",
              "    <tr style=\"text-align: right;\">\n",
              "      <th></th>\n",
              "      <th>VendorID</th>\n",
              "      <th>tpep_pickup_datetime</th>\n",
              "      <th>tpep_dropoff_datetime</th>\n",
              "      <th>passenger_count</th>\n",
              "      <th>trip_distance</th>\n",
              "      <th>RatecodeID</th>\n",
              "      <th>store_and_fwd_flag</th>\n",
              "      <th>PULocationID</th>\n",
              "      <th>DOLocationID</th>\n",
              "      <th>payment_type</th>\n",
              "      <th>fare_amount</th>\n",
              "      <th>extra</th>\n",
              "      <th>mta_tax</th>\n",
              "      <th>tip_amount</th>\n",
              "      <th>tolls_amount</th>\n",
              "      <th>improvement_surcharge</th>\n",
              "      <th>total_amount</th>\n",
              "      <th>congestion_surcharge</th>\n",
              "      <th>airport_fee</th>\n",
              "    </tr>\n",
              "  </thead>\n",
              "  <tbody>\n",
              "    <tr>\n",
              "      <th>255297</th>\n",
              "      <td>1</td>\n",
              "      <td>2017-12-31 23:23:34</td>\n",
              "      <td>2017-12-31 23:29:36</td>\n",
              "      <td>2.0</td>\n",
              "      <td>1.00</td>\n",
              "      <td>1.0</td>\n",
              "      <td>N</td>\n",
              "      <td>161</td>\n",
              "      <td>162</td>\n",
              "      <td>2</td>\n",
              "      <td>6.0</td>\n",
              "      <td>0.5</td>\n",
              "      <td>0.5</td>\n",
              "      <td>0.00</td>\n",
              "      <td>0.0</td>\n",
              "      <td>0.3</td>\n",
              "      <td>7.30</td>\n",
              "      <td>NaN</td>\n",
              "      <td>NaN</td>\n",
              "    </tr>\n",
              "    <tr>\n",
              "      <th>255298</th>\n",
              "      <td>1</td>\n",
              "      <td>2017-12-31 23:45:21</td>\n",
              "      <td>2017-12-31 23:47:26</td>\n",
              "      <td>1.0</td>\n",
              "      <td>0.60</td>\n",
              "      <td>1.0</td>\n",
              "      <td>N</td>\n",
              "      <td>193</td>\n",
              "      <td>146</td>\n",
              "      <td>2</td>\n",
              "      <td>4.0</td>\n",
              "      <td>0.5</td>\n",
              "      <td>0.5</td>\n",
              "      <td>0.00</td>\n",
              "      <td>0.0</td>\n",
              "      <td>0.3</td>\n",
              "      <td>5.30</td>\n",
              "      <td>NaN</td>\n",
              "      <td>NaN</td>\n",
              "    </tr>\n",
              "    <tr>\n",
              "      <th>255299</th>\n",
              "      <td>2</td>\n",
              "      <td>2017-12-01 00:00:06</td>\n",
              "      <td>2017-12-01 00:05:12</td>\n",
              "      <td>3.0</td>\n",
              "      <td>1.39</td>\n",
              "      <td>1.0</td>\n",
              "      <td>N</td>\n",
              "      <td>79</td>\n",
              "      <td>137</td>\n",
              "      <td>1</td>\n",
              "      <td>6.5</td>\n",
              "      <td>0.5</td>\n",
              "      <td>0.5</td>\n",
              "      <td>1.17</td>\n",
              "      <td>0.0</td>\n",
              "      <td>0.3</td>\n",
              "      <td>8.97</td>\n",
              "      <td>NaN</td>\n",
              "      <td>NaN</td>\n",
              "    </tr>\n",
              "    <tr>\n",
              "      <th>255300</th>\n",
              "      <td>2</td>\n",
              "      <td>2017-12-01 00:09:45</td>\n",
              "      <td>2017-12-01 00:17:02</td>\n",
              "      <td>1.0</td>\n",
              "      <td>1.60</td>\n",
              "      <td>1.0</td>\n",
              "      <td>N</td>\n",
              "      <td>75</td>\n",
              "      <td>41</td>\n",
              "      <td>1</td>\n",
              "      <td>7.5</td>\n",
              "      <td>0.5</td>\n",
              "      <td>0.5</td>\n",
              "      <td>0.00</td>\n",
              "      <td>0.0</td>\n",
              "      <td>0.3</td>\n",
              "      <td>8.80</td>\n",
              "      <td>NaN</td>\n",
              "      <td>NaN</td>\n",
              "    </tr>\n",
              "    <tr>\n",
              "      <th>255301</th>\n",
              "      <td>2</td>\n",
              "      <td>2017-12-01 00:00:46</td>\n",
              "      <td>2017-12-01 00:10:59</td>\n",
              "      <td>1.0</td>\n",
              "      <td>1.76</td>\n",
              "      <td>1.0</td>\n",
              "      <td>N</td>\n",
              "      <td>52</td>\n",
              "      <td>181</td>\n",
              "      <td>1</td>\n",
              "      <td>9.0</td>\n",
              "      <td>0.5</td>\n",
              "      <td>0.5</td>\n",
              "      <td>3.09</td>\n",
              "      <td>0.0</td>\n",
              "      <td>0.3</td>\n",
              "      <td>13.39</td>\n",
              "      <td>NaN</td>\n",
              "      <td>NaN</td>\n",
              "    </tr>\n",
              "  </tbody>\n",
              "</table>\n",
              "</div>\n",
              "      <button class=\"colab-df-convert\" onclick=\"convertToInteractive('df-c6e32cd1-361b-47a7-a13d-8a41b326df9f')\"\n",
              "              title=\"Convert this dataframe to an interactive table.\"\n",
              "              style=\"display:none;\">\n",
              "        \n",
              "  <svg xmlns=\"http://www.w3.org/2000/svg\" height=\"24px\"viewBox=\"0 0 24 24\"\n",
              "       width=\"24px\">\n",
              "    <path d=\"M0 0h24v24H0V0z\" fill=\"none\"/>\n",
              "    <path d=\"M18.56 5.44l.94 2.06.94-2.06 2.06-.94-2.06-.94-.94-2.06-.94 2.06-2.06.94zm-11 1L8.5 8.5l.94-2.06 2.06-.94-2.06-.94L8.5 2.5l-.94 2.06-2.06.94zm10 10l.94 2.06.94-2.06 2.06-.94-2.06-.94-.94-2.06-.94 2.06-2.06.94z\"/><path d=\"M17.41 7.96l-1.37-1.37c-.4-.4-.92-.59-1.43-.59-.52 0-1.04.2-1.43.59L10.3 9.45l-7.72 7.72c-.78.78-.78 2.05 0 2.83L4 21.41c.39.39.9.59 1.41.59.51 0 1.02-.2 1.41-.59l7.78-7.78 2.81-2.81c.8-.78.8-2.07 0-2.86zM5.41 20L4 18.59l7.72-7.72 1.47 1.35L5.41 20z\"/>\n",
              "  </svg>\n",
              "      </button>\n",
              "      \n",
              "  <style>\n",
              "    .colab-df-container {\n",
              "      display:flex;\n",
              "      flex-wrap:wrap;\n",
              "      gap: 12px;\n",
              "    }\n",
              "\n",
              "    .colab-df-convert {\n",
              "      background-color: #E8F0FE;\n",
              "      border: none;\n",
              "      border-radius: 50%;\n",
              "      cursor: pointer;\n",
              "      display: none;\n",
              "      fill: #1967D2;\n",
              "      height: 32px;\n",
              "      padding: 0 0 0 0;\n",
              "      width: 32px;\n",
              "    }\n",
              "\n",
              "    .colab-df-convert:hover {\n",
              "      background-color: #E2EBFA;\n",
              "      box-shadow: 0px 1px 2px rgba(60, 64, 67, 0.3), 0px 1px 3px 1px rgba(60, 64, 67, 0.15);\n",
              "      fill: #174EA6;\n",
              "    }\n",
              "\n",
              "    [theme=dark] .colab-df-convert {\n",
              "      background-color: #3B4455;\n",
              "      fill: #D2E3FC;\n",
              "    }\n",
              "\n",
              "    [theme=dark] .colab-df-convert:hover {\n",
              "      background-color: #434B5C;\n",
              "      box-shadow: 0px 1px 3px 1px rgba(0, 0, 0, 0.15);\n",
              "      filter: drop-shadow(0px 1px 2px rgba(0, 0, 0, 0.3));\n",
              "      fill: #FFFFFF;\n",
              "    }\n",
              "  </style>\n",
              "\n",
              "      <script>\n",
              "        const buttonEl =\n",
              "          document.querySelector('#df-c6e32cd1-361b-47a7-a13d-8a41b326df9f button.colab-df-convert');\n",
              "        buttonEl.style.display =\n",
              "          google.colab.kernel.accessAllowed ? 'block' : 'none';\n",
              "\n",
              "        async function convertToInteractive(key) {\n",
              "          const element = document.querySelector('#df-c6e32cd1-361b-47a7-a13d-8a41b326df9f');\n",
              "          const dataTable =\n",
              "            await google.colab.kernel.invokeFunction('convertToInteractive',\n",
              "                                                     [key], {});\n",
              "          if (!dataTable) return;\n",
              "\n",
              "          const docLinkHtml = 'Like what you see? Visit the ' +\n",
              "            '<a target=\"_blank\" href=https://colab.research.google.com/notebooks/data_table.ipynb>data table notebook</a>'\n",
              "            + ' to learn more about interactive tables.';\n",
              "          element.innerHTML = '';\n",
              "          dataTable['output_type'] = 'display_data';\n",
              "          await google.colab.output.renderOutput(dataTable, element);\n",
              "          const docLink = document.createElement('div');\n",
              "          docLink.innerHTML = docLinkHtml;\n",
              "          element.appendChild(docLink);\n",
              "        }\n",
              "      </script>\n",
              "    </div>\n",
              "  </div>\n",
              "  "
            ],
            "text/plain": [
              "        VendorID tpep_pickup_datetime tpep_dropoff_datetime  passenger_count  \\\n",
              "255297         1  2017-12-31 23:23:34   2017-12-31 23:29:36              2.0   \n",
              "255298         1  2017-12-31 23:45:21   2017-12-31 23:47:26              1.0   \n",
              "255299         2  2017-12-01 00:00:06   2017-12-01 00:05:12              3.0   \n",
              "255300         2  2017-12-01 00:09:45   2017-12-01 00:17:02              1.0   \n",
              "255301         2  2017-12-01 00:00:46   2017-12-01 00:10:59              1.0   \n",
              "\n",
              "        trip_distance  RatecodeID store_and_fwd_flag  PULocationID  \\\n",
              "255297           1.00         1.0                  N           161   \n",
              "255298           0.60         1.0                  N           193   \n",
              "255299           1.39         1.0                  N            79   \n",
              "255300           1.60         1.0                  N            75   \n",
              "255301           1.76         1.0                  N            52   \n",
              "\n",
              "        DOLocationID  payment_type  fare_amount  extra  mta_tax  tip_amount  \\\n",
              "255297           162             2          6.0    0.5      0.5        0.00   \n",
              "255298           146             2          4.0    0.5      0.5        0.00   \n",
              "255299           137             1          6.5    0.5      0.5        1.17   \n",
              "255300            41             1          7.5    0.5      0.5        0.00   \n",
              "255301           181             1          9.0    0.5      0.5        3.09   \n",
              "\n",
              "        tolls_amount  improvement_surcharge  total_amount  \\\n",
              "255297           0.0                    0.3          7.30   \n",
              "255298           0.0                    0.3          5.30   \n",
              "255299           0.0                    0.3          8.97   \n",
              "255300           0.0                    0.3          8.80   \n",
              "255301           0.0                    0.3         13.39   \n",
              "\n",
              "        congestion_surcharge  airport_fee  \n",
              "255297                   NaN          NaN  \n",
              "255298                   NaN          NaN  \n",
              "255299                   NaN          NaN  \n",
              "255300                   NaN          NaN  \n",
              "255301                   NaN          NaN  "
            ]
          },
          "execution_count": 34,
          "metadata": {},
          "output_type": "execute_result"
        }
      ],
      "source": [
        "samdata_17.tail()"
      ]
    },
    {
      "cell_type": "code",
      "execution_count": null,
      "metadata": {
        "id": "eRpPP3uc1Uut"
      },
      "outputs": [],
      "source": [
        "# samdata_17.to_parquet('/content/gdrive/MyDrive/NYC/samdata_17.parquet.gzip',compression='gzip')"
      ]
    },
    {
      "cell_type": "code",
      "execution_count": null,
      "metadata": {
        "id": "-RWZ68d_1qLu"
      },
      "outputs": [],
      "source": [
        "# samdata_18.to_parquet('/content/gdrive/MyDrive/NYC/samdata_18.parquet.gzip',compression='gzip')\n",
        "# samdata_19.to_parquet('/content/gdrive/MyDrive/NYC/samdata_19.parquet.gzip',compression='gzip')\n",
        "# samdata_20.to_parquet('/content/gdrive/MyDrive/NYC/samdata_20.parquet.gzip',compression='gzip')\n",
        "# samdata_21.to_parquet('/content/gdrive/MyDrive/NYC/samdata_21.parquet.gzip',compression='gzip')"
      ]
    },
    {
      "cell_type": "markdown",
      "metadata": {
        "id": "FJlIT8oGj5fD"
      },
      "source": [
        "# **Union Section**"
      ]
    },
    {
      "cell_type": "code",
      "execution_count": null,
      "metadata": {
        "id": "0kMjg0h2j_Cy"
      },
      "outputs": [],
      "source": [
        "df17 = pd.read_parquet(\"/content/gdrive/MyDrive/dataForBigdata/samdata_17.parquet.gzip\")\n",
        "df18 = pd.read_parquet(\"/content/gdrive/MyDrive/dataForBigdata/samdata_18.parquet.gzip\")\n",
        "df19 = pd.read_parquet(\"/content/gdrive/MyDrive/dataForBigdata/samdata_19.parquet.gzip\")\n",
        "df20 = pd.read_parquet(\"/content/gdrive/MyDrive/dataForBigdata/samdata_20.parquet.gzip\")\n",
        "df21 = pd.read_parquet(\"/content/gdrive/MyDrive/dataForBigdata/samdata_21.parquet.gzip\")\n"
      ]
    },
    {
      "cell_type": "code",
      "execution_count": null,
      "metadata": {
        "id": "cjuTbIR1kpS9"
      },
      "outputs": [],
      "source": [
        "df17_21 = [df17,df18,df19,df20,df21]\n",
        "samdata17_21 = pd.concat(df17_21)"
      ]
    },
    {
      "cell_type": "code",
      "execution_count": null,
      "metadata": {
        "colab": {
          "base_uri": "https://localhost:8080/"
        },
        "id": "UYoJPFAdnWXk",
        "outputId": "fc5318fe-d0e9-4580-a049-1c8d1e1d5fa2"
      },
      "outputs": [
        {
          "output_type": "stream",
          "name": "stdout",
          "text": [
            "VendorID                 3078048\n",
            "tpep_pickup_datetime     3078048\n",
            "tpep_dropoff_datetime    3078048\n",
            "passenger_count          3078048\n",
            "trip_distance            3078048\n",
            "RatecodeID               3078048\n",
            "store_and_fwd_flag       3078048\n",
            "PULocationID             3078048\n",
            "DOLocationID             3078048\n",
            "payment_type             3078048\n",
            "fare_amount              3078048\n",
            "extra                    3078048\n",
            "mta_tax                  3078048\n",
            "tip_amount               3078048\n",
            "tolls_amount             3078048\n",
            "improvement_surcharge    3078048\n",
            "total_amount             3078048\n",
            "congestion_surcharge           0\n",
            "airport_fee                    0\n",
            "dtype: int64 VendorID                 2462031\n",
            "tpep_pickup_datetime     2462031\n",
            "tpep_dropoff_datetime    2462031\n",
            "passenger_count          2462031\n",
            "trip_distance            2462031\n",
            "RatecodeID               2462031\n",
            "store_and_fwd_flag       2462031\n",
            "PULocationID             2462031\n",
            "DOLocationID             2462031\n",
            "payment_type             2462031\n",
            "fare_amount              2462031\n",
            "extra                    2462031\n",
            "mta_tax                  2462031\n",
            "tip_amount               2462031\n",
            "tolls_amount             2462031\n",
            "improvement_surcharge    2462031\n",
            "total_amount             2462031\n",
            "congestion_surcharge           1\n",
            "airport_fee                    0\n",
            "dtype: int64 VendorID                 1623458\n",
            "tpep_pickup_datetime     1623458\n",
            "tpep_dropoff_datetime    1623458\n",
            "passenger_count          1623458\n",
            "trip_distance            1623458\n",
            "RatecodeID               1623458\n",
            "store_and_fwd_flag       1623458\n",
            "PULocationID             1623458\n",
            "DOLocationID             1623458\n",
            "payment_type             1623458\n",
            "fare_amount              1623458\n",
            "extra                    1623458\n",
            "mta_tax                  1623458\n",
            "tip_amount               1623458\n",
            "tolls_amount             1623458\n",
            "improvement_surcharge    1623458\n",
            "total_amount             1623458\n",
            "congestion_surcharge     1522089\n",
            "airport_fee                    0\n",
            "dtype: int64 VendorID                 266574\n",
            "tpep_pickup_datetime     266574\n",
            "tpep_dropoff_datetime    266574\n",
            "passenger_count          266574\n",
            "trip_distance            266574\n",
            "RatecodeID               266574\n",
            "store_and_fwd_flag       266574\n",
            "PULocationID             266574\n",
            "DOLocationID             266574\n",
            "payment_type             266574\n",
            "fare_amount              266574\n",
            "extra                    266574\n",
            "mta_tax                  266574\n",
            "tip_amount               266574\n",
            "tolls_amount             266574\n",
            "improvement_surcharge    266574\n",
            "total_amount             266574\n",
            "congestion_surcharge     266574\n",
            "airport_fee                   1\n",
            "dtype: int64 VendorID                 209233\n",
            "tpep_pickup_datetime     209233\n",
            "tpep_dropoff_datetime    209233\n",
            "passenger_count          209233\n",
            "trip_distance            209233\n",
            "RatecodeID               209233\n",
            "store_and_fwd_flag       209233\n",
            "PULocationID             209233\n",
            "DOLocationID             209233\n",
            "payment_type             209233\n",
            "fare_amount              209233\n",
            "extra                    209233\n",
            "mta_tax                  209233\n",
            "tip_amount               209233\n",
            "tolls_amount             209233\n",
            "improvement_surcharge    209233\n",
            "total_amount             209233\n",
            "congestion_surcharge     209233\n",
            "airport_fee              192711\n",
            "dtype: int64\n"
          ]
        }
      ],
      "source": [
        "print(df17.count(),df18.count(),df19.count(),df20.count(),df21.count())"
      ]
    },
    {
      "cell_type": "code",
      "execution_count": null,
      "metadata": {
        "colab": {
          "base_uri": "https://localhost:8080/"
        },
        "id": "nag7bL78mOo-",
        "outputId": "ec22afe3-f15c-41be-dba5-a10598e4a678"
      },
      "outputs": [
        {
          "data": {
            "text/plain": [
              "VendorID                 7639344\n",
              "tpep_pickup_datetime     7639344\n",
              "tpep_dropoff_datetime    7639344\n",
              "passenger_count          7639344\n",
              "trip_distance            7639344\n",
              "RatecodeID               7639344\n",
              "store_and_fwd_flag       7639344\n",
              "PULocationID             7639344\n",
              "DOLocationID             7639344\n",
              "payment_type             7639344\n",
              "fare_amount              7639344\n",
              "extra                    7639344\n",
              "mta_tax                  7639344\n",
              "tip_amount               7639344\n",
              "tolls_amount             7639344\n",
              "improvement_surcharge    7639344\n",
              "total_amount             7639344\n",
              "congestion_surcharge     1997897\n",
              "airport_fee               192712\n",
              "dtype: int64"
            ]
          },
          "execution_count": 60,
          "metadata": {},
          "output_type": "execute_result"
        }
      ],
      "source": [
        "samdata17_21.count()"
      ]
    },
    {
      "cell_type": "code",
      "execution_count": null,
      "metadata": {
        "id": "FAuObRBXms13"
      },
      "outputs": [],
      "source": [
        "# samdata17_21.to_parquet('/content/gdrive/MyDrive/dataForBigdata/samdata17_21.parquet')"
      ]
    },
    {
      "cell_type": "code",
      "execution_count": null,
      "metadata": {
        "id": "S6DVtELS2ug3"
      },
      "outputs": [],
      "source": [
        "samdata17_21.describe().show()"
      ]
    },
    {
      "cell_type": "markdown",
      "metadata": {
        "id": "cqSJjuvCqiBA"
      },
      "source": [
        "# **EDA (Sample data) PANDAS VER.**"
      ]
    },
    {
      "cell_type": "markdown",
      "metadata": {
        "id": "UsLuBBPaj_h3"
      },
      "source": [
        "## Read data\n"
      ]
    },
    {
      "cell_type": "code",
      "execution_count": null,
      "metadata": {
        "id": "0vDAlGelOg0Z"
      },
      "outputs": [],
      "source": [
        "# df17 = pd.read_parquet('/content/gdrive/MyDrive/NYC/samdata_17.parquet.gzip')\n",
        "df17_21 = pd.read_parquet('/content/gdrive/MyDrive/dataForBigdata/samdata17_21.parquet.gzip') #pandas ver.\n",
        "# sdf17_21 = spark.read.parquet('/content/gdrive/MyDrive/dataForBigdata/samdata17_21.parquet')  #spark ver."
      ]
    },
    {
      "cell_type": "code",
      "execution_count": null,
      "metadata": {
        "colab": {
          "base_uri": "https://localhost:8080/",
          "height": 488
        },
        "id": "53MBrqWrbBwD",
        "outputId": "e00e2182-bf0c-4504-b981-82c2ba6b0c73"
      },
      "outputs": [
        {
          "output_type": "execute_result",
          "data": {
            "text/plain": [
              "       VendorID tpep_pickup_datetime tpep_dropoff_datetime  passenger_count  \\\n",
              "0             1  2017-01-01 00:36:42   2017-01-01 00:41:09              1.0   \n",
              "1             2  2017-01-01 00:27:02   2017-01-01 00:34:04              1.0   \n",
              "2             1  2017-01-01 00:29:02   2017-01-01 00:39:27              2.0   \n",
              "3             1  2017-01-01 00:47:05   2017-01-01 01:01:01              3.0   \n",
              "4             1  2017-01-01 00:12:32   2017-01-01 00:21:14              2.0   \n",
              "...         ...                  ...                   ...              ...   \n",
              "25984         2  2021-12-31 23:40:48   2021-12-31 23:41:23              1.0   \n",
              "25985         1  2021-12-31 23:58:37   2022-01-01 00:03:00              2.0   \n",
              "25986         2  2021-12-31 23:19:37   2021-12-31 23:25:28              2.0   \n",
              "25987         1  2021-12-31 23:36:06   2021-12-31 23:52:29              2.0   \n",
              "25988         2  2021-12-31 23:29:55   2021-12-31 23:38:52              1.0   \n",
              "\n",
              "       trip_distance  RatecodeID store_and_fwd_flag  PULocationID  \\\n",
              "0               1.10         1.0                  N            41   \n",
              "1               0.76         1.0                  N           237   \n",
              "2               1.20         1.0                  N           237   \n",
              "3               2.70         1.0                  N           148   \n",
              "4               0.90         1.0                  N            79   \n",
              "...              ...         ...                ...           ...   \n",
              "25984           0.06         1.0                  N           186   \n",
              "25985           0.70         1.0                  N           231   \n",
              "25986           1.63         1.0                  N           263   \n",
              "25987           3.40         1.0                  N           249   \n",
              "25988           1.42         1.0                  N            41   \n",
              "\n",
              "       DOLocationID  payment_type  fare_amount  extra  mta_tax  tip_amount  \\\n",
              "0                42             2          6.0    0.5      0.5        0.00   \n",
              "1               141             2          6.0    0.5      0.5        0.00   \n",
              "2               229             1          8.0    0.5      0.5        3.00   \n",
              "3               256             2         12.5    0.5      0.5        0.00   \n",
              "4                90             1          7.0    0.5      0.5        1.65   \n",
              "...             ...           ...          ...    ...      ...         ...   \n",
              "25984           186             2          2.5    0.5      0.5        0.00   \n",
              "25985            87             1          5.0    3.0      0.5        1.75   \n",
              "25986           162             1          7.0    0.5      0.5        2.16   \n",
              "25987           229             2         13.5    3.0      0.5        0.00   \n",
              "25988            42             2          8.0    0.5      0.5        0.00   \n",
              "\n",
              "       tolls_amount  improvement_surcharge  total_amount  \\\n",
              "0               0.0                    0.3          7.30   \n",
              "1               0.0                    0.3          7.30   \n",
              "2               0.0                    0.3         12.30   \n",
              "3               0.0                    0.3         13.80   \n",
              "4               0.0                    0.3          9.95   \n",
              "...             ...                    ...           ...   \n",
              "25984           0.0                    0.3          6.30   \n",
              "25985           0.0                    0.3         10.55   \n",
              "25986           0.0                    0.3         12.96   \n",
              "25987           0.0                    0.3         17.30   \n",
              "25988           0.0                    0.3          9.30   \n",
              "\n",
              "       congestion_surcharge  airport_fee  \n",
              "0                       NaN          NaN  \n",
              "1                       NaN          NaN  \n",
              "2                       NaN          NaN  \n",
              "3                       NaN          NaN  \n",
              "4                       NaN          NaN  \n",
              "...                     ...          ...  \n",
              "25984                   2.5          0.0  \n",
              "25985                   2.5          0.0  \n",
              "25986                   2.5          0.0  \n",
              "25987                   2.5          0.0  \n",
              "25988                   0.0          0.0  \n",
              "\n",
              "[7639344 rows x 19 columns]"
            ],
            "text/html": [
              "\n",
              "  <div id=\"df-7d32da8c-02ca-41f9-a235-3bed5bf42bbf\">\n",
              "    <div class=\"colab-df-container\">\n",
              "      <div>\n",
              "<style scoped>\n",
              "    .dataframe tbody tr th:only-of-type {\n",
              "        vertical-align: middle;\n",
              "    }\n",
              "\n",
              "    .dataframe tbody tr th {\n",
              "        vertical-align: top;\n",
              "    }\n",
              "\n",
              "    .dataframe thead th {\n",
              "        text-align: right;\n",
              "    }\n",
              "</style>\n",
              "<table border=\"1\" class=\"dataframe\">\n",
              "  <thead>\n",
              "    <tr style=\"text-align: right;\">\n",
              "      <th></th>\n",
              "      <th>VendorID</th>\n",
              "      <th>tpep_pickup_datetime</th>\n",
              "      <th>tpep_dropoff_datetime</th>\n",
              "      <th>passenger_count</th>\n",
              "      <th>trip_distance</th>\n",
              "      <th>RatecodeID</th>\n",
              "      <th>store_and_fwd_flag</th>\n",
              "      <th>PULocationID</th>\n",
              "      <th>DOLocationID</th>\n",
              "      <th>payment_type</th>\n",
              "      <th>fare_amount</th>\n",
              "      <th>extra</th>\n",
              "      <th>mta_tax</th>\n",
              "      <th>tip_amount</th>\n",
              "      <th>tolls_amount</th>\n",
              "      <th>improvement_surcharge</th>\n",
              "      <th>total_amount</th>\n",
              "      <th>congestion_surcharge</th>\n",
              "      <th>airport_fee</th>\n",
              "    </tr>\n",
              "  </thead>\n",
              "  <tbody>\n",
              "    <tr>\n",
              "      <th>0</th>\n",
              "      <td>1</td>\n",
              "      <td>2017-01-01 00:36:42</td>\n",
              "      <td>2017-01-01 00:41:09</td>\n",
              "      <td>1.0</td>\n",
              "      <td>1.10</td>\n",
              "      <td>1.0</td>\n",
              "      <td>N</td>\n",
              "      <td>41</td>\n",
              "      <td>42</td>\n",
              "      <td>2</td>\n",
              "      <td>6.0</td>\n",
              "      <td>0.5</td>\n",
              "      <td>0.5</td>\n",
              "      <td>0.00</td>\n",
              "      <td>0.0</td>\n",
              "      <td>0.3</td>\n",
              "      <td>7.30</td>\n",
              "      <td>NaN</td>\n",
              "      <td>NaN</td>\n",
              "    </tr>\n",
              "    <tr>\n",
              "      <th>1</th>\n",
              "      <td>2</td>\n",
              "      <td>2017-01-01 00:27:02</td>\n",
              "      <td>2017-01-01 00:34:04</td>\n",
              "      <td>1.0</td>\n",
              "      <td>0.76</td>\n",
              "      <td>1.0</td>\n",
              "      <td>N</td>\n",
              "      <td>237</td>\n",
              "      <td>141</td>\n",
              "      <td>2</td>\n",
              "      <td>6.0</td>\n",
              "      <td>0.5</td>\n",
              "      <td>0.5</td>\n",
              "      <td>0.00</td>\n",
              "      <td>0.0</td>\n",
              "      <td>0.3</td>\n",
              "      <td>7.30</td>\n",
              "      <td>NaN</td>\n",
              "      <td>NaN</td>\n",
              "    </tr>\n",
              "    <tr>\n",
              "      <th>2</th>\n",
              "      <td>1</td>\n",
              "      <td>2017-01-01 00:29:02</td>\n",
              "      <td>2017-01-01 00:39:27</td>\n",
              "      <td>2.0</td>\n",
              "      <td>1.20</td>\n",
              "      <td>1.0</td>\n",
              "      <td>N</td>\n",
              "      <td>237</td>\n",
              "      <td>229</td>\n",
              "      <td>1</td>\n",
              "      <td>8.0</td>\n",
              "      <td>0.5</td>\n",
              "      <td>0.5</td>\n",
              "      <td>3.00</td>\n",
              "      <td>0.0</td>\n",
              "      <td>0.3</td>\n",
              "      <td>12.30</td>\n",
              "      <td>NaN</td>\n",
              "      <td>NaN</td>\n",
              "    </tr>\n",
              "    <tr>\n",
              "      <th>3</th>\n",
              "      <td>1</td>\n",
              "      <td>2017-01-01 00:47:05</td>\n",
              "      <td>2017-01-01 01:01:01</td>\n",
              "      <td>3.0</td>\n",
              "      <td>2.70</td>\n",
              "      <td>1.0</td>\n",
              "      <td>N</td>\n",
              "      <td>148</td>\n",
              "      <td>256</td>\n",
              "      <td>2</td>\n",
              "      <td>12.5</td>\n",
              "      <td>0.5</td>\n",
              "      <td>0.5</td>\n",
              "      <td>0.00</td>\n",
              "      <td>0.0</td>\n",
              "      <td>0.3</td>\n",
              "      <td>13.80</td>\n",
              "      <td>NaN</td>\n",
              "      <td>NaN</td>\n",
              "    </tr>\n",
              "    <tr>\n",
              "      <th>4</th>\n",
              "      <td>1</td>\n",
              "      <td>2017-01-01 00:12:32</td>\n",
              "      <td>2017-01-01 00:21:14</td>\n",
              "      <td>2.0</td>\n",
              "      <td>0.90</td>\n",
              "      <td>1.0</td>\n",
              "      <td>N</td>\n",
              "      <td>79</td>\n",
              "      <td>90</td>\n",
              "      <td>1</td>\n",
              "      <td>7.0</td>\n",
              "      <td>0.5</td>\n",
              "      <td>0.5</td>\n",
              "      <td>1.65</td>\n",
              "      <td>0.0</td>\n",
              "      <td>0.3</td>\n",
              "      <td>9.95</td>\n",
              "      <td>NaN</td>\n",
              "      <td>NaN</td>\n",
              "    </tr>\n",
              "    <tr>\n",
              "      <th>...</th>\n",
              "      <td>...</td>\n",
              "      <td>...</td>\n",
              "      <td>...</td>\n",
              "      <td>...</td>\n",
              "      <td>...</td>\n",
              "      <td>...</td>\n",
              "      <td>...</td>\n",
              "      <td>...</td>\n",
              "      <td>...</td>\n",
              "      <td>...</td>\n",
              "      <td>...</td>\n",
              "      <td>...</td>\n",
              "      <td>...</td>\n",
              "      <td>...</td>\n",
              "      <td>...</td>\n",
              "      <td>...</td>\n",
              "      <td>...</td>\n",
              "      <td>...</td>\n",
              "      <td>...</td>\n",
              "    </tr>\n",
              "    <tr>\n",
              "      <th>25984</th>\n",
              "      <td>2</td>\n",
              "      <td>2021-12-31 23:40:48</td>\n",
              "      <td>2021-12-31 23:41:23</td>\n",
              "      <td>1.0</td>\n",
              "      <td>0.06</td>\n",
              "      <td>1.0</td>\n",
              "      <td>N</td>\n",
              "      <td>186</td>\n",
              "      <td>186</td>\n",
              "      <td>2</td>\n",
              "      <td>2.5</td>\n",
              "      <td>0.5</td>\n",
              "      <td>0.5</td>\n",
              "      <td>0.00</td>\n",
              "      <td>0.0</td>\n",
              "      <td>0.3</td>\n",
              "      <td>6.30</td>\n",
              "      <td>2.5</td>\n",
              "      <td>0.0</td>\n",
              "    </tr>\n",
              "    <tr>\n",
              "      <th>25985</th>\n",
              "      <td>1</td>\n",
              "      <td>2021-12-31 23:58:37</td>\n",
              "      <td>2022-01-01 00:03:00</td>\n",
              "      <td>2.0</td>\n",
              "      <td>0.70</td>\n",
              "      <td>1.0</td>\n",
              "      <td>N</td>\n",
              "      <td>231</td>\n",
              "      <td>87</td>\n",
              "      <td>1</td>\n",
              "      <td>5.0</td>\n",
              "      <td>3.0</td>\n",
              "      <td>0.5</td>\n",
              "      <td>1.75</td>\n",
              "      <td>0.0</td>\n",
              "      <td>0.3</td>\n",
              "      <td>10.55</td>\n",
              "      <td>2.5</td>\n",
              "      <td>0.0</td>\n",
              "    </tr>\n",
              "    <tr>\n",
              "      <th>25986</th>\n",
              "      <td>2</td>\n",
              "      <td>2021-12-31 23:19:37</td>\n",
              "      <td>2021-12-31 23:25:28</td>\n",
              "      <td>2.0</td>\n",
              "      <td>1.63</td>\n",
              "      <td>1.0</td>\n",
              "      <td>N</td>\n",
              "      <td>263</td>\n",
              "      <td>162</td>\n",
              "      <td>1</td>\n",
              "      <td>7.0</td>\n",
              "      <td>0.5</td>\n",
              "      <td>0.5</td>\n",
              "      <td>2.16</td>\n",
              "      <td>0.0</td>\n",
              "      <td>0.3</td>\n",
              "      <td>12.96</td>\n",
              "      <td>2.5</td>\n",
              "      <td>0.0</td>\n",
              "    </tr>\n",
              "    <tr>\n",
              "      <th>25987</th>\n",
              "      <td>1</td>\n",
              "      <td>2021-12-31 23:36:06</td>\n",
              "      <td>2021-12-31 23:52:29</td>\n",
              "      <td>2.0</td>\n",
              "      <td>3.40</td>\n",
              "      <td>1.0</td>\n",
              "      <td>N</td>\n",
              "      <td>249</td>\n",
              "      <td>229</td>\n",
              "      <td>2</td>\n",
              "      <td>13.5</td>\n",
              "      <td>3.0</td>\n",
              "      <td>0.5</td>\n",
              "      <td>0.00</td>\n",
              "      <td>0.0</td>\n",
              "      <td>0.3</td>\n",
              "      <td>17.30</td>\n",
              "      <td>2.5</td>\n",
              "      <td>0.0</td>\n",
              "    </tr>\n",
              "    <tr>\n",
              "      <th>25988</th>\n",
              "      <td>2</td>\n",
              "      <td>2021-12-31 23:29:55</td>\n",
              "      <td>2021-12-31 23:38:52</td>\n",
              "      <td>1.0</td>\n",
              "      <td>1.42</td>\n",
              "      <td>1.0</td>\n",
              "      <td>N</td>\n",
              "      <td>41</td>\n",
              "      <td>42</td>\n",
              "      <td>2</td>\n",
              "      <td>8.0</td>\n",
              "      <td>0.5</td>\n",
              "      <td>0.5</td>\n",
              "      <td>0.00</td>\n",
              "      <td>0.0</td>\n",
              "      <td>0.3</td>\n",
              "      <td>9.30</td>\n",
              "      <td>0.0</td>\n",
              "      <td>0.0</td>\n",
              "    </tr>\n",
              "  </tbody>\n",
              "</table>\n",
              "<p>7639344 rows × 19 columns</p>\n",
              "</div>\n",
              "      <button class=\"colab-df-convert\" onclick=\"convertToInteractive('df-7d32da8c-02ca-41f9-a235-3bed5bf42bbf')\"\n",
              "              title=\"Convert this dataframe to an interactive table.\"\n",
              "              style=\"display:none;\">\n",
              "        \n",
              "  <svg xmlns=\"http://www.w3.org/2000/svg\" height=\"24px\"viewBox=\"0 0 24 24\"\n",
              "       width=\"24px\">\n",
              "    <path d=\"M0 0h24v24H0V0z\" fill=\"none\"/>\n",
              "    <path d=\"M18.56 5.44l.94 2.06.94-2.06 2.06-.94-2.06-.94-.94-2.06-.94 2.06-2.06.94zm-11 1L8.5 8.5l.94-2.06 2.06-.94-2.06-.94L8.5 2.5l-.94 2.06-2.06.94zm10 10l.94 2.06.94-2.06 2.06-.94-2.06-.94-.94-2.06-.94 2.06-2.06.94z\"/><path d=\"M17.41 7.96l-1.37-1.37c-.4-.4-.92-.59-1.43-.59-.52 0-1.04.2-1.43.59L10.3 9.45l-7.72 7.72c-.78.78-.78 2.05 0 2.83L4 21.41c.39.39.9.59 1.41.59.51 0 1.02-.2 1.41-.59l7.78-7.78 2.81-2.81c.8-.78.8-2.07 0-2.86zM5.41 20L4 18.59l7.72-7.72 1.47 1.35L5.41 20z\"/>\n",
              "  </svg>\n",
              "      </button>\n",
              "      \n",
              "  <style>\n",
              "    .colab-df-container {\n",
              "      display:flex;\n",
              "      flex-wrap:wrap;\n",
              "      gap: 12px;\n",
              "    }\n",
              "\n",
              "    .colab-df-convert {\n",
              "      background-color: #E8F0FE;\n",
              "      border: none;\n",
              "      border-radius: 50%;\n",
              "      cursor: pointer;\n",
              "      display: none;\n",
              "      fill: #1967D2;\n",
              "      height: 32px;\n",
              "      padding: 0 0 0 0;\n",
              "      width: 32px;\n",
              "    }\n",
              "\n",
              "    .colab-df-convert:hover {\n",
              "      background-color: #E2EBFA;\n",
              "      box-shadow: 0px 1px 2px rgba(60, 64, 67, 0.3), 0px 1px 3px 1px rgba(60, 64, 67, 0.15);\n",
              "      fill: #174EA6;\n",
              "    }\n",
              "\n",
              "    [theme=dark] .colab-df-convert {\n",
              "      background-color: #3B4455;\n",
              "      fill: #D2E3FC;\n",
              "    }\n",
              "\n",
              "    [theme=dark] .colab-df-convert:hover {\n",
              "      background-color: #434B5C;\n",
              "      box-shadow: 0px 1px 3px 1px rgba(0, 0, 0, 0.15);\n",
              "      filter: drop-shadow(0px 1px 2px rgba(0, 0, 0, 0.3));\n",
              "      fill: #FFFFFF;\n",
              "    }\n",
              "  </style>\n",
              "\n",
              "      <script>\n",
              "        const buttonEl =\n",
              "          document.querySelector('#df-7d32da8c-02ca-41f9-a235-3bed5bf42bbf button.colab-df-convert');\n",
              "        buttonEl.style.display =\n",
              "          google.colab.kernel.accessAllowed ? 'block' : 'none';\n",
              "\n",
              "        async function convertToInteractive(key) {\n",
              "          const element = document.querySelector('#df-7d32da8c-02ca-41f9-a235-3bed5bf42bbf');\n",
              "          const dataTable =\n",
              "            await google.colab.kernel.invokeFunction('convertToInteractive',\n",
              "                                                     [key], {});\n",
              "          if (!dataTable) return;\n",
              "\n",
              "          const docLinkHtml = 'Like what you see? Visit the ' +\n",
              "            '<a target=\"_blank\" href=https://colab.research.google.com/notebooks/data_table.ipynb>data table notebook</a>'\n",
              "            + ' to learn more about interactive tables.';\n",
              "          element.innerHTML = '';\n",
              "          dataTable['output_type'] = 'display_data';\n",
              "          await google.colab.output.renderOutput(dataTable, element);\n",
              "          const docLink = document.createElement('div');\n",
              "          docLink.innerHTML = docLinkHtml;\n",
              "          element.appendChild(docLink);\n",
              "        }\n",
              "      </script>\n",
              "    </div>\n",
              "  </div>\n",
              "  "
            ]
          },
          "metadata": {},
          "execution_count": 11
        }
      ],
      "source": [
        "# df17_21 = sdf17_21.toPandas()\n",
        "df17_21"
      ]
    },
    {
      "cell_type": "code",
      "execution_count": null,
      "metadata": {
        "id": "VbzF0VQbzKwf"
      },
      "outputs": [],
      "source": [
        "# sdf17_21.show()"
      ]
    },
    {
      "cell_type": "code",
      "execution_count": null,
      "metadata": {
        "id": "fLIBMQyzqs9O"
      },
      "outputs": [],
      "source": [
        "# sdf17_21.show()\n",
        "# df17_21.toPandas()"
      ]
    },
    {
      "cell_type": "markdown",
      "metadata": {
        "id": "DGpTQZftnuTJ"
      },
      "source": [
        "*Most taxi rides have 1 passenger.***"
      ]
    },
    {
      "cell_type": "code",
      "execution_count": null,
      "metadata": {
        "colab": {
          "base_uri": "https://localhost:8080/",
          "height": 439
        },
        "id": "ZwdX-rRAADSr",
        "outputId": "56c720f9-0d62-40bb-891a-cd63c041dfc6"
      },
      "outputs": [
        {
          "output_type": "stream",
          "name": "stderr",
          "text": [
            "/usr/local/lib/python3.7/dist-packages/seaborn/_decorators.py:43: FutureWarning: Pass the following variable as a keyword arg: x. From version 0.12, the only valid positional argument will be `data`, and passing other arguments without an explicit keyword will result in an error or misinterpretation.\n",
            "  FutureWarning\n",
            "/usr/local/lib/python3.7/dist-packages/seaborn/_decorators.py:43: FutureWarning: Pass the following variables as keyword args: x, y. From version 0.12, the only valid positional argument will be `data`, and passing other arguments without an explicit keyword will result in an error or misinterpretation.\n",
            "  FutureWarning\n"
          ]
        },
        {
          "output_type": "display_data",
          "data": {
            "text/plain": [
              "<Figure size 1080x360 with 2 Axes>"
            ],
            "image/png": "[encoded data removed]"
          },
          "metadata": {
            "needs_background": "light"
          }
        }
      ],
      "source": [
        "fig, ax = plt.subplots(1,2, figsize=(15,5))\n",
        "sns.countplot(df17_21.passenger_count, ax=ax[0])\n",
        "ax[0].set_xlabel('Passenger Count')\n",
        "ax[0].set_ylabel('Frequency')\n",
        "ax[0].set_title('Distribution of Passenger Count')\n",
        "sns.barplot(df17_21.passenger_count, df17_21.fare_amount, ax=ax[1], ci=None)\n",
        "ax[1].set_xlabel('Passenger Count')\n",
        "ax[1].set_ylabel('Fare ($)')\n",
        "ax[1].set_title('Average Fare by Passenger Count')\n",
        "fig.show()"
      ]
    },
    {
      "cell_type": "markdown",
      "metadata": {
        "id": "kVkSaPF3ny1X"
      },
      "source": [
        "***Average fare saw a large increase between 2017 and 2021***"
      ]
    },
    {
      "cell_type": "code",
      "execution_count": null,
      "metadata": {
        "colab": {
          "base_uri": "https://localhost:8080/",
          "height": 351
        },
        "id": "fYgPODEO3FBr",
        "outputId": "db556064-4cd2-419a-be8a-948444405e9d"
      },
      "outputs": [
        {
          "output_type": "execute_result",
          "data": {
            "text/plain": [
              "Text(0, 0.5, 'Fare ($)')"
            ]
          },
          "metadata": {},
          "execution_count": 15
        },
        {
          "output_type": "display_data",
          "data": {
            "text/plain": [
              "<Figure size 864x360 with 1 Axes>"
            ],
            "image/png": "[encoded data removed]"
          },
          "metadata": {
            "needs_background": "light"
          }
        }
      ],
      "source": [
        "fig = plt.figure(figsize=(12, 5))\n",
        "sns.scatterplot(data=df17_21,x='trip_distance', y='fare_amount')\n",
        "plt.xlabel('Distance (m)')\n",
        "plt.ylabel('Fare ($)')"
      ]
    },
    {
      "cell_type": "markdown",
      "metadata": {
        "id": "Wu3zl42OZRS9"
      },
      "source": [
        "## *Drop out liner*"
      ]
    },
    {
      "cell_type": "code",
      "execution_count": null,
      "metadata": {
        "id": "DpLXk3kQdEc-"
      },
      "outputs": [],
      "source": [
        "filter1 = df17_21[\"fare_amount\"] < 1000"
      ]
    },
    {
      "cell_type": "code",
      "execution_count": null,
      "metadata": {
        "id": "3o0upYgpiDH7"
      },
      "outputs": [],
      "source": [
        "df17_21f = df17_21"
      ]
    },
    {
      "cell_type": "code",
      "execution_count": null,
      "metadata": {
        "id": "yU2Xtky7xz9A"
      },
      "outputs": [],
      "source": [
        "df17_21f.where(filter1,inplace=True)"
      ]
    },
    {
      "cell_type": "code",
      "execution_count": null,
      "metadata": {
        "id": "V_qnaG7v0QVo"
      },
      "outputs": [],
      "source": [
        "df17_21f['elapsed_time'] = df17_21f['tpep_dropoff_datetime'] - df17_21f['tpep_pickup_datetime']"
      ]
    },
    {
      "cell_type": "code",
      "execution_count": null,
      "metadata": {
        "id": "N4gtTWrr0QX_"
      },
      "outputs": [],
      "source": [
        "df17_21f['avg_speed'] = df17_21f['trip_distance'] / (df17_21f['elapsed_time'].dt.total_seconds()/60 )"
      ]
    },
    {
      "cell_type": "code",
      "execution_count": null,
      "metadata": {
        "colab": {
          "base_uri": "https://localhost:8080/"
        },
        "id": "EwcxWiWS98_p",
        "outputId": "b6e6ca23-2e39-4384-ce08-48928454945a"
      },
      "outputs": [
        {
          "output_type": "execute_result",
          "data": {
            "text/plain": [
              "0        267.0\n",
              "1        422.0\n",
              "2        625.0\n",
              "3        836.0\n",
              "4        522.0\n",
              "         ...  \n",
              "25984     35.0\n",
              "25985    263.0\n",
              "25986    351.0\n",
              "25987    983.0\n",
              "25988    537.0\n",
              "Name: elapsed_time, Length: 7639344, dtype: float64"
            ]
          },
          "metadata": {},
          "execution_count": 21
        }
      ],
      "source": [
        "df17_21f['elapsed_time'].dt.total_seconds()"
      ]
    },
    {
      "cell_type": "code",
      "execution_count": null,
      "metadata": {
        "colab": {
          "base_uri": "https://localhost:8080/"
        },
        "id": "twuXOSTFlN-z",
        "outputId": "1af1d1aa-1bd4-4a70-d43a-5e565f171bf7"
      },
      "outputs": [
        {
          "output_type": "execute_result",
          "data": {
            "text/plain": [
              "VendorID                         float64\n",
              "tpep_pickup_datetime      datetime64[ns]\n",
              "tpep_dropoff_datetime     datetime64[ns]\n",
              "passenger_count                  float64\n",
              "trip_distance                    float64\n",
              "RatecodeID                       float64\n",
              "store_and_fwd_flag                object\n",
              "PULocationID                     float64\n",
              "DOLocationID                     float64\n",
              "payment_type                     float64\n",
              "fare_amount                      float64\n",
              "extra                            float64\n",
              "mta_tax                          float64\n",
              "tip_amount                       float64\n",
              "tolls_amount                     float64\n",
              "improvement_surcharge            float64\n",
              "total_amount                     float64\n",
              "congestion_surcharge             float64\n",
              "airport_fee                      float64\n",
              "elapsed_time             timedelta64[ns]\n",
              "avg_speed                        float64\n",
              "dtype: object"
            ]
          },
          "metadata": {},
          "execution_count": 22
        }
      ],
      "source": [
        "df17_21f.dtypes"
      ]
    },
    {
      "cell_type": "code",
      "execution_count": null,
      "metadata": {
        "colab": {
          "base_uri": "https://localhost:8080/",
          "height": 661
        },
        "id": "bgRZYMM72sZA",
        "outputId": "7455bc94-72ec-4431-a77b-52fcb302c1d3"
      },
      "outputs": [
        {
          "output_type": "execute_result",
          "data": {
            "text/plain": [
              "       VendorID tpep_pickup_datetime tpep_dropoff_datetime  passenger_count  \\\n",
              "0           1.0  2017-01-01 00:36:42   2017-01-01 00:41:09              1.0   \n",
              "1           2.0  2017-01-01 00:27:02   2017-01-01 00:34:04              1.0   \n",
              "2           1.0  2017-01-01 00:29:02   2017-01-01 00:39:27              2.0   \n",
              "3           1.0  2017-01-01 00:47:05   2017-01-01 01:01:01              3.0   \n",
              "4           1.0  2017-01-01 00:12:32   2017-01-01 00:21:14              2.0   \n",
              "...         ...                  ...                   ...              ...   \n",
              "25984       2.0  2021-12-31 23:40:48   2021-12-31 23:41:23              1.0   \n",
              "25985       1.0  2021-12-31 23:58:37   2022-01-01 00:03:00              2.0   \n",
              "25986       2.0  2021-12-31 23:19:37   2021-12-31 23:25:28              2.0   \n",
              "25987       1.0  2021-12-31 23:36:06   2021-12-31 23:52:29              2.0   \n",
              "25988       2.0  2021-12-31 23:29:55   2021-12-31 23:38:52              1.0   \n",
              "\n",
              "       trip_distance  RatecodeID store_and_fwd_flag  PULocationID  \\\n",
              "0               1.10         1.0                  N          41.0   \n",
              "1               0.76         1.0                  N         237.0   \n",
              "2               1.20         1.0                  N         237.0   \n",
              "3               2.70         1.0                  N         148.0   \n",
              "4               0.90         1.0                  N          79.0   \n",
              "...              ...         ...                ...           ...   \n",
              "25984           0.06         1.0                  N         186.0   \n",
              "25985           0.70         1.0                  N         231.0   \n",
              "25986           1.63         1.0                  N         263.0   \n",
              "25987           3.40         1.0                  N         249.0   \n",
              "25988           1.42         1.0                  N          41.0   \n",
              "\n",
              "       DOLocationID  payment_type  ...  extra  mta_tax  tip_amount  \\\n",
              "0              42.0           2.0  ...    0.5      0.5        0.00   \n",
              "1             141.0           2.0  ...    0.5      0.5        0.00   \n",
              "2             229.0           1.0  ...    0.5      0.5        3.00   \n",
              "3             256.0           2.0  ...    0.5      0.5        0.00   \n",
              "4              90.0           1.0  ...    0.5      0.5        1.65   \n",
              "...             ...           ...  ...    ...      ...         ...   \n",
              "25984         186.0           2.0  ...    0.5      0.5        0.00   \n",
              "25985          87.0           1.0  ...    3.0      0.5        1.75   \n",
              "25986         162.0           1.0  ...    0.5      0.5        2.16   \n",
              "25987         229.0           2.0  ...    3.0      0.5        0.00   \n",
              "25988          42.0           2.0  ...    0.5      0.5        0.00   \n",
              "\n",
              "       tolls_amount  improvement_surcharge  total_amount  \\\n",
              "0               0.0                    0.3          7.30   \n",
              "1               0.0                    0.3          7.30   \n",
              "2               0.0                    0.3         12.30   \n",
              "3               0.0                    0.3         13.80   \n",
              "4               0.0                    0.3          9.95   \n",
              "...             ...                    ...           ...   \n",
              "25984           0.0                    0.3          6.30   \n",
              "25985           0.0                    0.3         10.55   \n",
              "25986           0.0                    0.3         12.96   \n",
              "25987           0.0                    0.3         17.30   \n",
              "25988           0.0                    0.3          9.30   \n",
              "\n",
              "       congestion_surcharge  airport_fee    elapsed_time avg_speed  \n",
              "0                       NaN          NaN 0 days 00:04:27  0.247191  \n",
              "1                       NaN          NaN 0 days 00:07:02  0.108057  \n",
              "2                       NaN          NaN 0 days 00:10:25  0.115200  \n",
              "3                       NaN          NaN 0 days 00:13:56  0.193780  \n",
              "4                       NaN          NaN 0 days 00:08:42  0.103448  \n",
              "...                     ...          ...             ...       ...  \n",
              "25984                   2.5          0.0 0 days 00:00:35  0.102857  \n",
              "25985                   2.5          0.0 0 days 00:04:23  0.159696  \n",
              "25986                   2.5          0.0 0 days 00:05:51  0.278632  \n",
              "25987                   2.5          0.0 0 days 00:16:23  0.207528  \n",
              "25988                   0.0          0.0 0 days 00:08:57  0.158659  \n",
              "\n",
              "[7639344 rows x 21 columns]"
            ],
            "text/html": [
              "\n",
              "  <div id=\"df-d6760914-d3d0-4236-bcc4-e27ad0f3cb14\">\n",
              "    <div class=\"colab-df-container\">\n",
              "      <div>\n",
              "<style scoped>\n",
              "    .dataframe tbody tr th:only-of-type {\n",
              "        vertical-align: middle;\n",
              "    }\n",
              "\n",
              "    .dataframe tbody tr th {\n",
              "        vertical-align: top;\n",
              "    }\n",
              "\n",
              "    .dataframe thead th {\n",
              "        text-align: right;\n",
              "    }\n",
              "</style>\n",
              "<table border=\"1\" class=\"dataframe\">\n",
              "  <thead>\n",
              "    <tr style=\"text-align: right;\">\n",
              "      <th></th>\n",
              "      <th>VendorID</th>\n",
              "      <th>tpep_pickup_datetime</th>\n",
              "      <th>tpep_dropoff_datetime</th>\n",
              "      <th>passenger_count</th>\n",
              "      <th>trip_distance</th>\n",
              "      <th>RatecodeID</th>\n",
              "      <th>store_and_fwd_flag</th>\n",
              "      <th>PULocationID</th>\n",
              "      <th>DOLocationID</th>\n",
              "      <th>payment_type</th>\n",
              "      <th>...</th>\n",
              "      <th>extra</th>\n",
              "      <th>mta_tax</th>\n",
              "      <th>tip_amount</th>\n",
              "      <th>tolls_amount</th>\n",
              "      <th>improvement_surcharge</th>\n",
              "      <th>total_amount</th>\n",
              "      <th>congestion_surcharge</th>\n",
              "      <th>airport_fee</th>\n",
              "      <th>elapsed_time</th>\n",
              "      <th>avg_speed</th>\n",
              "    </tr>\n",
              "  </thead>\n",
              "  <tbody>\n",
              "    <tr>\n",
              "      <th>0</th>\n",
              "      <td>1.0</td>\n",
              "      <td>2017-01-01 00:36:42</td>\n",
              "      <td>2017-01-01 00:41:09</td>\n",
              "      <td>1.0</td>\n",
              "      <td>1.10</td>\n",
              "      <td>1.0</td>\n",
              "      <td>N</td>\n",
              "      <td>41.0</td>\n",
              "      <td>42.0</td>\n",
              "      <td>2.0</td>\n",
              "      <td>...</td>\n",
              "      <td>0.5</td>\n",
              "      <td>0.5</td>\n",
              "      <td>0.00</td>\n",
              "      <td>0.0</td>\n",
              "      <td>0.3</td>\n",
              "      <td>7.30</td>\n",
              "      <td>NaN</td>\n",
              "      <td>NaN</td>\n",
              "      <td>0 days 00:04:27</td>\n",
              "      <td>0.247191</td>\n",
              "    </tr>\n",
              "    <tr>\n",
              "      <th>1</th>\n",
              "      <td>2.0</td>\n",
              "      <td>2017-01-01 00:27:02</td>\n",
              "      <td>2017-01-01 00:34:04</td>\n",
              "      <td>1.0</td>\n",
              "      <td>0.76</td>\n",
              "      <td>1.0</td>\n",
              "      <td>N</td>\n",
              "      <td>237.0</td>\n",
              "      <td>141.0</td>\n",
              "      <td>2.0</td>\n",
              "      <td>...</td>\n",
              "      <td>0.5</td>\n",
              "      <td>0.5</td>\n",
              "      <td>0.00</td>\n",
              "      <td>0.0</td>\n",
              "      <td>0.3</td>\n",
              "      <td>7.30</td>\n",
              "      <td>NaN</td>\n",
              "      <td>NaN</td>\n",
              "      <td>0 days 00:07:02</td>\n",
              "      <td>0.108057</td>\n",
              "    </tr>\n",
              "    <tr>\n",
              "      <th>2</th>\n",
              "      <td>1.0</td>\n",
              "      <td>2017-01-01 00:29:02</td>\n",
              "      <td>2017-01-01 00:39:27</td>\n",
              "      <td>2.0</td>\n",
              "      <td>1.20</td>\n",
              "      <td>1.0</td>\n",
              "      <td>N</td>\n",
              "      <td>237.0</td>\n",
              "      <td>229.0</td>\n",
              "      <td>1.0</td>\n",
              "      <td>...</td>\n",
              "      <td>0.5</td>\n",
              "      <td>0.5</td>\n",
              "      <td>3.00</td>\n",
              "      <td>0.0</td>\n",
              "      <td>0.3</td>\n",
              "      <td>12.30</td>\n",
              "      <td>NaN</td>\n",
              "      <td>NaN</td>\n",
              "      <td>0 days 00:10:25</td>\n",
              "      <td>0.115200</td>\n",
              "    </tr>\n",
              "    <tr>\n",
              "      <th>3</th>\n",
              "      <td>1.0</td>\n",
              "      <td>2017-01-01 00:47:05</td>\n",
              "      <td>2017-01-01 01:01:01</td>\n",
              "      <td>3.0</td>\n",
              "      <td>2.70</td>\n",
              "      <td>1.0</td>\n",
              "      <td>N</td>\n",
              "      <td>148.0</td>\n",
              "      <td>256.0</td>\n",
              "      <td>2.0</td>\n",
              "      <td>...</td>\n",
              "      <td>0.5</td>\n",
              "      <td>0.5</td>\n",
              "      <td>0.00</td>\n",
              "      <td>0.0</td>\n",
              "      <td>0.3</td>\n",
              "      <td>13.80</td>\n",
              "      <td>NaN</td>\n",
              "      <td>NaN</td>\n",
              "      <td>0 days 00:13:56</td>\n",
              "      <td>0.193780</td>\n",
              "    </tr>\n",
              "    <tr>\n",
              "      <th>4</th>\n",
              "      <td>1.0</td>\n",
              "      <td>2017-01-01 00:12:32</td>\n",
              "      <td>2017-01-01 00:21:14</td>\n",
              "      <td>2.0</td>\n",
              "      <td>0.90</td>\n",
              "      <td>1.0</td>\n",
              "      <td>N</td>\n",
              "      <td>79.0</td>\n",
              "      <td>90.0</td>\n",
              "      <td>1.0</td>\n",
              "      <td>...</td>\n",
              "      <td>0.5</td>\n",
              "      <td>0.5</td>\n",
              "      <td>1.65</td>\n",
              "      <td>0.0</td>\n",
              "      <td>0.3</td>\n",
              "      <td>9.95</td>\n",
              "      <td>NaN</td>\n",
              "      <td>NaN</td>\n",
              "      <td>0 days 00:08:42</td>\n",
              "      <td>0.103448</td>\n",
              "    </tr>\n",
              "    <tr>\n",
              "      <th>...</th>\n",
              "      <td>...</td>\n",
              "      <td>...</td>\n",
              "      <td>...</td>\n",
              "      <td>...</td>\n",
              "      <td>...</td>\n",
              "      <td>...</td>\n",
              "      <td>...</td>\n",
              "      <td>...</td>\n",
              "      <td>...</td>\n",
              "      <td>...</td>\n",
              "      <td>...</td>\n",
              "      <td>...</td>\n",
              "      <td>...</td>\n",
              "      <td>...</td>\n",
              "      <td>...</td>\n",
              "      <td>...</td>\n",
              "      <td>...</td>\n",
              "      <td>...</td>\n",
              "      <td>...</td>\n",
              "      <td>...</td>\n",
              "      <td>...</td>\n",
              "    </tr>\n",
              "    <tr>\n",
              "      <th>25984</th>\n",
              "      <td>2.0</td>\n",
              "      <td>2021-12-31 23:40:48</td>\n",
              "      <td>2021-12-31 23:41:23</td>\n",
              "      <td>1.0</td>\n",
              "      <td>0.06</td>\n",
              "      <td>1.0</td>\n",
              "      <td>N</td>\n",
              "      <td>186.0</td>\n",
              "      <td>186.0</td>\n",
              "      <td>2.0</td>\n",
              "      <td>...</td>\n",
              "      <td>0.5</td>\n",
              "      <td>0.5</td>\n",
              "      <td>0.00</td>\n",
              "      <td>0.0</td>\n",
              "      <td>0.3</td>\n",
              "      <td>6.30</td>\n",
              "      <td>2.5</td>\n",
              "      <td>0.0</td>\n",
              "      <td>0 days 00:00:35</td>\n",
              "      <td>0.102857</td>\n",
              "    </tr>\n",
              "    <tr>\n",
              "      <th>25985</th>\n",
              "      <td>1.0</td>\n",
              "      <td>2021-12-31 23:58:37</td>\n",
              "      <td>2022-01-01 00:03:00</td>\n",
              "      <td>2.0</td>\n",
              "      <td>0.70</td>\n",
              "      <td>1.0</td>\n",
              "      <td>N</td>\n",
              "      <td>231.0</td>\n",
              "      <td>87.0</td>\n",
              "      <td>1.0</td>\n",
              "      <td>...</td>\n",
              "      <td>3.0</td>\n",
              "      <td>0.5</td>\n",
              "      <td>1.75</td>\n",
              "      <td>0.0</td>\n",
              "      <td>0.3</td>\n",
              "      <td>10.55</td>\n",
              "      <td>2.5</td>\n",
              "      <td>0.0</td>\n",
              "      <td>0 days 00:04:23</td>\n",
              "      <td>0.159696</td>\n",
              "    </tr>\n",
              "    <tr>\n",
              "      <th>25986</th>\n",
              "      <td>2.0</td>\n",
              "      <td>2021-12-31 23:19:37</td>\n",
              "      <td>2021-12-31 23:25:28</td>\n",
              "      <td>2.0</td>\n",
              "      <td>1.63</td>\n",
              "      <td>1.0</td>\n",
              "      <td>N</td>\n",
              "      <td>263.0</td>\n",
              "      <td>162.0</td>\n",
              "      <td>1.0</td>\n",
              "      <td>...</td>\n",
              "      <td>0.5</td>\n",
              "      <td>0.5</td>\n",
              "      <td>2.16</td>\n",
              "      <td>0.0</td>\n",
              "      <td>0.3</td>\n",
              "      <td>12.96</td>\n",
              "      <td>2.5</td>\n",
              "      <td>0.0</td>\n",
              "      <td>0 days 00:05:51</td>\n",
              "      <td>0.278632</td>\n",
              "    </tr>\n",
              "    <tr>\n",
              "      <th>25987</th>\n",
              "      <td>1.0</td>\n",
              "      <td>2021-12-31 23:36:06</td>\n",
              "      <td>2021-12-31 23:52:29</td>\n",
              "      <td>2.0</td>\n",
              "      <td>3.40</td>\n",
              "      <td>1.0</td>\n",
              "      <td>N</td>\n",
              "      <td>249.0</td>\n",
              "      <td>229.0</td>\n",
              "      <td>2.0</td>\n",
              "      <td>...</td>\n",
              "      <td>3.0</td>\n",
              "      <td>0.5</td>\n",
              "      <td>0.00</td>\n",
              "      <td>0.0</td>\n",
              "      <td>0.3</td>\n",
              "      <td>17.30</td>\n",
              "      <td>2.5</td>\n",
              "      <td>0.0</td>\n",
              "      <td>0 days 00:16:23</td>\n",
              "      <td>0.207528</td>\n",
              "    </tr>\n",
              "    <tr>\n",
              "      <th>25988</th>\n",
              "      <td>2.0</td>\n",
              "      <td>2021-12-31 23:29:55</td>\n",
              "      <td>2021-12-31 23:38:52</td>\n",
              "      <td>1.0</td>\n",
              "      <td>1.42</td>\n",
              "      <td>1.0</td>\n",
              "      <td>N</td>\n",
              "      <td>41.0</td>\n",
              "      <td>42.0</td>\n",
              "      <td>2.0</td>\n",
              "      <td>...</td>\n",
              "      <td>0.5</td>\n",
              "      <td>0.5</td>\n",
              "      <td>0.00</td>\n",
              "      <td>0.0</td>\n",
              "      <td>0.3</td>\n",
              "      <td>9.30</td>\n",
              "      <td>0.0</td>\n",
              "      <td>0.0</td>\n",
              "      <td>0 days 00:08:57</td>\n",
              "      <td>0.158659</td>\n",
              "    </tr>\n",
              "  </tbody>\n",
              "</table>\n",
              "<p>7639344 rows × 21 columns</p>\n",
              "</div>\n",
              "      <button class=\"colab-df-convert\" onclick=\"convertToInteractive('df-d6760914-d3d0-4236-bcc4-e27ad0f3cb14')\"\n",
              "              title=\"Convert this dataframe to an interactive table.\"\n",
              "              style=\"display:none;\">\n",
              "        \n",
              "  <svg xmlns=\"http://www.w3.org/2000/svg\" height=\"24px\"viewBox=\"0 0 24 24\"\n",
              "       width=\"24px\">\n",
              "    <path d=\"M0 0h24v24H0V0z\" fill=\"none\"/>\n",
              "    <path d=\"M18.56 5.44l.94 2.06.94-2.06 2.06-.94-2.06-.94-.94-2.06-.94 2.06-2.06.94zm-11 1L8.5 8.5l.94-2.06 2.06-.94-2.06-.94L8.5 2.5l-.94 2.06-2.06.94zm10 10l.94 2.06.94-2.06 2.06-.94-2.06-.94-.94-2.06-.94 2.06-2.06.94z\"/><path d=\"M17.41 7.96l-1.37-1.37c-.4-.4-.92-.59-1.43-.59-.52 0-1.04.2-1.43.59L10.3 9.45l-7.72 7.72c-.78.78-.78 2.05 0 2.83L4 21.41c.39.39.9.59 1.41.59.51 0 1.02-.2 1.41-.59l7.78-7.78 2.81-2.81c.8-.78.8-2.07 0-2.86zM5.41 20L4 18.59l7.72-7.72 1.47 1.35L5.41 20z\"/>\n",
              "  </svg>\n",
              "      </button>\n",
              "      \n",
              "  <style>\n",
              "    .colab-df-container {\n",
              "      display:flex;\n",
              "      flex-wrap:wrap;\n",
              "      gap: 12px;\n",
              "    }\n",
              "\n",
              "    .colab-df-convert {\n",
              "      background-color: #E8F0FE;\n",
              "      border: none;\n",
              "      border-radius: 50%;\n",
              "      cursor: pointer;\n",
              "      display: none;\n",
              "      fill: #1967D2;\n",
              "      height: 32px;\n",
              "      padding: 0 0 0 0;\n",
              "      width: 32px;\n",
              "    }\n",
              "\n",
              "    .colab-df-convert:hover {\n",
              "      background-color: #E2EBFA;\n",
              "      box-shadow: 0px 1px 2px rgba(60, 64, 67, 0.3), 0px 1px 3px 1px rgba(60, 64, 67, 0.15);\n",
              "      fill: #174EA6;\n",
              "    }\n",
              "\n",
              "    [theme=dark] .colab-df-convert {\n",
              "      background-color: #3B4455;\n",
              "      fill: #D2E3FC;\n",
              "    }\n",
              "\n",
              "    [theme=dark] .colab-df-convert:hover {\n",
              "      background-color: #434B5C;\n",
              "      box-shadow: 0px 1px 3px 1px rgba(0, 0, 0, 0.15);\n",
              "      filter: drop-shadow(0px 1px 2px rgba(0, 0, 0, 0.3));\n",
              "      fill: #FFFFFF;\n",
              "    }\n",
              "  </style>\n",
              "\n",
              "      <script>\n",
              "        const buttonEl =\n",
              "          document.querySelector('#df-d6760914-d3d0-4236-bcc4-e27ad0f3cb14 button.colab-df-convert');\n",
              "        buttonEl.style.display =\n",
              "          google.colab.kernel.accessAllowed ? 'block' : 'none';\n",
              "\n",
              "        async function convertToInteractive(key) {\n",
              "          const element = document.querySelector('#df-d6760914-d3d0-4236-bcc4-e27ad0f3cb14');\n",
              "          const dataTable =\n",
              "            await google.colab.kernel.invokeFunction('convertToInteractive',\n",
              "                                                     [key], {});\n",
              "          if (!dataTable) return;\n",
              "\n",
              "          const docLinkHtml = 'Like what you see? Visit the ' +\n",
              "            '<a target=\"_blank\" href=https://colab.research.google.com/notebooks/data_table.ipynb>data table notebook</a>'\n",
              "            + ' to learn more about interactive tables.';\n",
              "          element.innerHTML = '';\n",
              "          dataTable['output_type'] = 'display_data';\n",
              "          await google.colab.output.renderOutput(dataTable, element);\n",
              "          const docLink = document.createElement('div');\n",
              "          docLink.innerHTML = docLinkHtml;\n",
              "          element.appendChild(docLink);\n",
              "        }\n",
              "      </script>\n",
              "    </div>\n",
              "  </div>\n",
              "  "
            ]
          },
          "metadata": {},
          "execution_count": 23
        }
      ],
      "source": [
        "df17_21f"
      ]
    },
    {
      "cell_type": "code",
      "execution_count": null,
      "metadata": {
        "colab": {
          "base_uri": "https://localhost:8080/",
          "height": 439
        },
        "id": "w08ngcFP5RLd",
        "outputId": "2d1d5941-8dba-48a2-8c3c-f79021dc6910"
      },
      "outputs": [
        {
          "output_type": "stream",
          "name": "stderr",
          "text": [
            "/usr/local/lib/python3.7/dist-packages/seaborn/_decorators.py:43: FutureWarning: Pass the following variable as a keyword arg: x. From version 0.12, the only valid positional argument will be `data`, and passing other arguments without an explicit keyword will result in an error or misinterpretation.\n",
            "  FutureWarning\n",
            "/usr/local/lib/python3.7/dist-packages/seaborn/_decorators.py:43: FutureWarning: Pass the following variables as keyword args: x, y. From version 0.12, the only valid positional argument will be `data`, and passing other arguments without an explicit keyword will result in an error or misinterpretation.\n",
            "  FutureWarning\n"
          ]
        },
        {
          "output_type": "display_data",
          "data": {
            "text/plain": [
              "<Figure size 1080x360 with 2 Axes>"
            ],
            "image/png": "[encoded data removed]"
          },
          "metadata": {
            "needs_background": "light"
          }
        }
      ],
      "source": [
        "fig, ax = plt.subplots(1,2, figsize=(15,5))\n",
        "sns.countplot(df17_21f.passenger_count, ax=ax[0])\n",
        "ax[0].set_xlabel('Passenger Count')\n",
        "ax[0].set_ylabel('Frequency')\n",
        "ax[0].set_title('Distribution of Passenger Count')\n",
        "sns.barplot(df17_21f.passenger_count, df17_21f.fare_amount, ax=ax[1], ci=None)\n",
        "ax[1].set_xlabel('Passenger Count')\n",
        "ax[1].set_ylabel('Fare ($)')\n",
        "ax[1].set_title('Average Fare by Passenger Count')\n",
        "fig.show()"
      ]
    },
    {
      "cell_type": "code",
      "execution_count": null,
      "metadata": {
        "colab": {
          "base_uri": "https://localhost:8080/",
          "height": 351
        },
        "id": "qNFLH7A1ZWxq",
        "outputId": "a400d68c-6f77-4846-dd65-70e4b82b1c68"
      },
      "outputs": [
        {
          "output_type": "execute_result",
          "data": {
            "text/plain": [
              "Text(0, 0.5, 'Fare ($)')"
            ]
          },
          "metadata": {},
          "execution_count": 25
        },
        {
          "output_type": "display_data",
          "data": {
            "text/plain": [
              "<Figure size 864x360 with 1 Axes>"
            ],
            "image/png": "[encoded data removed]"
          },
          "metadata": {
            "needs_background": "light"
          }
        }
      ],
      "source": [
        "fig = plt.figure(figsize=(12, 5))\n",
        "sns.scatterplot(data=df17_21f,x='trip_distance', y='fare_amount')\n",
        "plt.xlabel('Distance (mile)')\n",
        "plt.ylabel('Fare ($)')"
      ]
    },
    {
      "cell_type": "markdown",
      "metadata": {
        "id": "1LBhtAsy2xUp"
      },
      "source": [
        "## Correlation"
      ]
    },
    {
      "cell_type": "code",
      "execution_count": null,
      "metadata": {
        "colab": {
          "base_uri": "https://localhost:8080/",
          "height": 646
        },
        "id": "6vWTYsRAG25Y",
        "outputId": "083443de-91f5-4c0d-889c-52fcba4db7c1"
      },
      "outputs": [
        {
          "output_type": "execute_result",
          "data": {
            "text/plain": [
              "                       VendorID  passenger_count  trip_distance  RatecodeID  \\\n",
              "VendorID                   1.00             0.23           0.03        0.02   \n",
              "passenger_count            0.23             1.00           0.01       -0.00   \n",
              "trip_distance              0.03             0.01           1.00        0.39   \n",
              "RatecodeID                 0.02            -0.00           0.39        1.00   \n",
              "PULocationID              -0.02            -0.01          -0.09       -0.02   \n",
              "DOLocationID              -0.01            -0.01          -0.09       -0.01   \n",
              "payment_type              -0.03             0.01          -0.04       -0.02   \n",
              "fare_amount                0.02             0.01           0.90        0.54   \n",
              "extra                     -0.29            -0.06           0.04        0.01   \n",
              "mta_tax                    0.01             0.01          -0.14       -0.62   \n",
              "tip_amount                 0.02            -0.00           0.54        0.31   \n",
              "tolls_amount               0.01             0.01           0.52        0.33   \n",
              "improvement_surcharge     -0.00             0.00           0.00       -0.08   \n",
              "total_amount               0.03             0.01           0.89        0.54   \n",
              "congestion_surcharge       0.00             0.01          -0.19       -0.19   \n",
              "airport_fee                0.01             0.01           0.61        0.23   \n",
              "avg_speed                 -0.01            -0.00           0.06        0.04   \n",
              "\n",
              "                       PULocationID  DOLocationID  payment_type  fare_amount  \\\n",
              "VendorID                      -0.02         -0.01         -0.03         0.02   \n",
              "passenger_count               -0.01         -0.01          0.01         0.01   \n",
              "trip_distance                 -0.09         -0.09         -0.04         0.90   \n",
              "RatecodeID                    -0.02         -0.01         -0.02         0.54   \n",
              "PULocationID                   1.00          0.11         -0.02        -0.08   \n",
              "DOLocationID                   0.11          1.00         -0.02        -0.08   \n",
              "payment_type                  -0.02         -0.02          1.00        -0.05   \n",
              "fare_amount                   -0.08         -0.08         -0.05         1.00   \n",
              "extra                          0.00          0.00         -0.03         0.02   \n",
              "mta_tax                       -0.00          0.04          0.00        -0.29   \n",
              "tip_amount                    -0.03         -0.04         -0.48         0.57   \n",
              "tolls_amount                  -0.04         -0.04         -0.03         0.51   \n",
              "improvement_surcharge         -0.00         -0.01         -0.01        -0.03   \n",
              "total_amount                  -0.07         -0.08         -0.14         0.98   \n",
              "congestion_surcharge           0.10          0.10         -0.09        -0.21   \n",
              "airport_fee                   -0.11         -0.05          0.03         0.54   \n",
              "avg_speed                     -0.00         -0.00          0.02         0.03   \n",
              "\n",
              "                       extra  mta_tax  tip_amount  tolls_amount  \\\n",
              "VendorID               -0.29     0.01        0.02          0.01   \n",
              "passenger_count        -0.06     0.01       -0.00          0.01   \n",
              "trip_distance           0.04    -0.14        0.54          0.52   \n",
              "RatecodeID              0.01    -0.62        0.31          0.33   \n",
              "PULocationID            0.00    -0.00       -0.03         -0.04   \n",
              "DOLocationID            0.00     0.04       -0.04         -0.04   \n",
              "payment_type           -0.03     0.00       -0.48         -0.03   \n",
              "fare_amount             0.02    -0.29        0.57          0.51   \n",
              "extra                   1.00     0.03        0.06          0.02   \n",
              "mta_tax                 0.03     1.00       -0.16         -0.26   \n",
              "tip_amount              0.06    -0.16        1.00          0.37   \n",
              "tolls_amount            0.02    -0.26        0.37          1.00   \n",
              "improvement_surcharge   0.00     0.09       -0.01         -0.00   \n",
              "total_amount            0.08    -0.29        0.70          0.60   \n",
              "congestion_surcharge    0.21     0.18       -0.02         -0.09   \n",
              "airport_fee             0.02    -0.02        0.34          0.44   \n",
              "avg_speed              -0.00    -0.03        0.02          0.02   \n",
              "\n",
              "                       improvement_surcharge  total_amount  \\\n",
              "VendorID                               -0.00          0.03   \n",
              "passenger_count                         0.00          0.01   \n",
              "trip_distance                           0.00          0.89   \n",
              "RatecodeID                             -0.08          0.54   \n",
              "PULocationID                           -0.00         -0.07   \n",
              "DOLocationID                           -0.01         -0.08   \n",
              "payment_type                           -0.01         -0.14   \n",
              "fare_amount                            -0.03          0.98   \n",
              "extra                                   0.00          0.08   \n",
              "mta_tax                                 0.09         -0.29   \n",
              "tip_amount                             -0.01          0.70   \n",
              "tolls_amount                           -0.00          0.60   \n",
              "improvement_surcharge                   1.00         -0.03   \n",
              "total_amount                           -0.03          1.00   \n",
              "congestion_surcharge                    0.04         -0.13   \n",
              "airport_fee                            -0.00          0.55   \n",
              "avg_speed                              -0.00          0.03   \n",
              "\n",
              "                       congestion_surcharge  airport_fee  avg_speed  \n",
              "VendorID                               0.00         0.01      -0.01  \n",
              "passenger_count                        0.01         0.01      -0.00  \n",
              "trip_distance                         -0.19         0.61       0.06  \n",
              "RatecodeID                            -0.19         0.23       0.04  \n",
              "PULocationID                           0.10        -0.11      -0.00  \n",
              "DOLocationID                           0.10        -0.05      -0.00  \n",
              "payment_type                          -0.09         0.03       0.02  \n",
              "fare_amount                           -0.21         0.54       0.03  \n",
              "extra                                  0.21         0.02      -0.00  \n",
              "mta_tax                                0.18        -0.02      -0.03  \n",
              "tip_amount                            -0.02         0.34       0.02  \n",
              "tolls_amount                          -0.09         0.44       0.02  \n",
              "improvement_surcharge                  0.04        -0.00      -0.00  \n",
              "total_amount                          -0.13         0.55       0.03  \n",
              "congestion_surcharge                   1.00        -0.41      -0.03  \n",
              "airport_fee                           -0.41         1.00       0.03  \n",
              "avg_speed                             -0.03         0.03       1.00  "
            ],
            "text/html": [
              "\n",
              "  <div id=\"df-60770184-373b-4df3-9099-7ce2dd1e4624\">\n",
              "    <div class=\"colab-df-container\">\n",
              "      <div>\n",
              "<style scoped>\n",
              "    .dataframe tbody tr th:only-of-type {\n",
              "        vertical-align: middle;\n",
              "    }\n",
              "\n",
              "    .dataframe tbody tr th {\n",
              "        vertical-align: top;\n",
              "    }\n",
              "\n",
              "    .dataframe thead th {\n",
              "        text-align: right;\n",
              "    }\n",
              "</style>\n",
              "<table border=\"1\" class=\"dataframe\">\n",
              "  <thead>\n",
              "    <tr style=\"text-align: right;\">\n",
              "      <th></th>\n",
              "      <th>VendorID</th>\n",
              "      <th>passenger_count</th>\n",
              "      <th>trip_distance</th>\n",
              "      <th>RatecodeID</th>\n",
              "      <th>PULocationID</th>\n",
              "      <th>DOLocationID</th>\n",
              "      <th>payment_type</th>\n",
              "      <th>fare_amount</th>\n",
              "      <th>extra</th>\n",
              "      <th>mta_tax</th>\n",
              "      <th>tip_amount</th>\n",
              "      <th>tolls_amount</th>\n",
              "      <th>improvement_surcharge</th>\n",
              "      <th>total_amount</th>\n",
              "      <th>congestion_surcharge</th>\n",
              "      <th>airport_fee</th>\n",
              "      <th>avg_speed</th>\n",
              "    </tr>\n",
              "  </thead>\n",
              "  <tbody>\n",
              "    <tr>\n",
              "      <th>VendorID</th>\n",
              "      <td>1.00</td>\n",
              "      <td>0.23</td>\n",
              "      <td>0.03</td>\n",
              "      <td>0.02</td>\n",
              "      <td>-0.02</td>\n",
              "      <td>-0.01</td>\n",
              "      <td>-0.03</td>\n",
              "      <td>0.02</td>\n",
              "      <td>-0.29</td>\n",
              "      <td>0.01</td>\n",
              "      <td>0.02</td>\n",
              "      <td>0.01</td>\n",
              "      <td>-0.00</td>\n",
              "      <td>0.03</td>\n",
              "      <td>0.00</td>\n",
              "      <td>0.01</td>\n",
              "      <td>-0.01</td>\n",
              "    </tr>\n",
              "    <tr>\n",
              "      <th>passenger_count</th>\n",
              "      <td>0.23</td>\n",
              "      <td>1.00</td>\n",
              "      <td>0.01</td>\n",
              "      <td>-0.00</td>\n",
              "      <td>-0.01</td>\n",
              "      <td>-0.01</td>\n",
              "      <td>0.01</td>\n",
              "      <td>0.01</td>\n",
              "      <td>-0.06</td>\n",
              "      <td>0.01</td>\n",
              "      <td>-0.00</td>\n",
              "      <td>0.01</td>\n",
              "      <td>0.00</td>\n",
              "      <td>0.01</td>\n",
              "      <td>0.01</td>\n",
              "      <td>0.01</td>\n",
              "      <td>-0.00</td>\n",
              "    </tr>\n",
              "    <tr>\n",
              "      <th>trip_distance</th>\n",
              "      <td>0.03</td>\n",
              "      <td>0.01</td>\n",
              "      <td>1.00</td>\n",
              "      <td>0.39</td>\n",
              "      <td>-0.09</td>\n",
              "      <td>-0.09</td>\n",
              "      <td>-0.04</td>\n",
              "      <td>0.90</td>\n",
              "      <td>0.04</td>\n",
              "      <td>-0.14</td>\n",
              "      <td>0.54</td>\n",
              "      <td>0.52</td>\n",
              "      <td>0.00</td>\n",
              "      <td>0.89</td>\n",
              "      <td>-0.19</td>\n",
              "      <td>0.61</td>\n",
              "      <td>0.06</td>\n",
              "    </tr>\n",
              "    <tr>\n",
              "      <th>RatecodeID</th>\n",
              "      <td>0.02</td>\n",
              "      <td>-0.00</td>\n",
              "      <td>0.39</td>\n",
              "      <td>1.00</td>\n",
              "      <td>-0.02</td>\n",
              "      <td>-0.01</td>\n",
              "      <td>-0.02</td>\n",
              "      <td>0.54</td>\n",
              "      <td>0.01</td>\n",
              "      <td>-0.62</td>\n",
              "      <td>0.31</td>\n",
              "      <td>0.33</td>\n",
              "      <td>-0.08</td>\n",
              "      <td>0.54</td>\n",
              "      <td>-0.19</td>\n",
              "      <td>0.23</td>\n",
              "      <td>0.04</td>\n",
              "    </tr>\n",
              "    <tr>\n",
              "      <th>PULocationID</th>\n",
              "      <td>-0.02</td>\n",
              "      <td>-0.01</td>\n",
              "      <td>-0.09</td>\n",
              "      <td>-0.02</td>\n",
              "      <td>1.00</td>\n",
              "      <td>0.11</td>\n",
              "      <td>-0.02</td>\n",
              "      <td>-0.08</td>\n",
              "      <td>0.00</td>\n",
              "      <td>-0.00</td>\n",
              "      <td>-0.03</td>\n",
              "      <td>-0.04</td>\n",
              "      <td>-0.00</td>\n",
              "      <td>-0.07</td>\n",
              "      <td>0.10</td>\n",
              "      <td>-0.11</td>\n",
              "      <td>-0.00</td>\n",
              "    </tr>\n",
              "    <tr>\n",
              "      <th>DOLocationID</th>\n",
              "      <td>-0.01</td>\n",
              "      <td>-0.01</td>\n",
              "      <td>-0.09</td>\n",
              "      <td>-0.01</td>\n",
              "      <td>0.11</td>\n",
              "      <td>1.00</td>\n",
              "      <td>-0.02</td>\n",
              "      <td>-0.08</td>\n",
              "      <td>0.00</td>\n",
              "      <td>0.04</td>\n",
              "      <td>-0.04</td>\n",
              "      <td>-0.04</td>\n",
              "      <td>-0.01</td>\n",
              "      <td>-0.08</td>\n",
              "      <td>0.10</td>\n",
              "      <td>-0.05</td>\n",
              "      <td>-0.00</td>\n",
              "    </tr>\n",
              "    <tr>\n",
              "      <th>payment_type</th>\n",
              "      <td>-0.03</td>\n",
              "      <td>0.01</td>\n",
              "      <td>-0.04</td>\n",
              "      <td>-0.02</td>\n",
              "      <td>-0.02</td>\n",
              "      <td>-0.02</td>\n",
              "      <td>1.00</td>\n",
              "      <td>-0.05</td>\n",
              "      <td>-0.03</td>\n",
              "      <td>0.00</td>\n",
              "      <td>-0.48</td>\n",
              "      <td>-0.03</td>\n",
              "      <td>-0.01</td>\n",
              "      <td>-0.14</td>\n",
              "      <td>-0.09</td>\n",
              "      <td>0.03</td>\n",
              "      <td>0.02</td>\n",
              "    </tr>\n",
              "    <tr>\n",
              "      <th>fare_amount</th>\n",
              "      <td>0.02</td>\n",
              "      <td>0.01</td>\n",
              "      <td>0.90</td>\n",
              "      <td>0.54</td>\n",
              "      <td>-0.08</td>\n",
              "      <td>-0.08</td>\n",
              "      <td>-0.05</td>\n",
              "      <td>1.00</td>\n",
              "      <td>0.02</td>\n",
              "      <td>-0.29</td>\n",
              "      <td>0.57</td>\n",
              "      <td>0.51</td>\n",
              "      <td>-0.03</td>\n",
              "      <td>0.98</td>\n",
              "      <td>-0.21</td>\n",
              "      <td>0.54</td>\n",
              "      <td>0.03</td>\n",
              "    </tr>\n",
              "    <tr>\n",
              "      <th>extra</th>\n",
              "      <td>-0.29</td>\n",
              "      <td>-0.06</td>\n",
              "      <td>0.04</td>\n",
              "      <td>0.01</td>\n",
              "      <td>0.00</td>\n",
              "      <td>0.00</td>\n",
              "      <td>-0.03</td>\n",
              "      <td>0.02</td>\n",
              "      <td>1.00</td>\n",
              "      <td>0.03</td>\n",
              "      <td>0.06</td>\n",
              "      <td>0.02</td>\n",
              "      <td>0.00</td>\n",
              "      <td>0.08</td>\n",
              "      <td>0.21</td>\n",
              "      <td>0.02</td>\n",
              "      <td>-0.00</td>\n",
              "    </tr>\n",
              "    <tr>\n",
              "      <th>mta_tax</th>\n",
              "      <td>0.01</td>\n",
              "      <td>0.01</td>\n",
              "      <td>-0.14</td>\n",
              "      <td>-0.62</td>\n",
              "      <td>-0.00</td>\n",
              "      <td>0.04</td>\n",
              "      <td>0.00</td>\n",
              "      <td>-0.29</td>\n",
              "      <td>0.03</td>\n",
              "      <td>1.00</td>\n",
              "      <td>-0.16</td>\n",
              "      <td>-0.26</td>\n",
              "      <td>0.09</td>\n",
              "      <td>-0.29</td>\n",
              "      <td>0.18</td>\n",
              "      <td>-0.02</td>\n",
              "      <td>-0.03</td>\n",
              "    </tr>\n",
              "    <tr>\n",
              "      <th>tip_amount</th>\n",
              "      <td>0.02</td>\n",
              "      <td>-0.00</td>\n",
              "      <td>0.54</td>\n",
              "      <td>0.31</td>\n",
              "      <td>-0.03</td>\n",
              "      <td>-0.04</td>\n",
              "      <td>-0.48</td>\n",
              "      <td>0.57</td>\n",
              "      <td>0.06</td>\n",
              "      <td>-0.16</td>\n",
              "      <td>1.00</td>\n",
              "      <td>0.37</td>\n",
              "      <td>-0.01</td>\n",
              "      <td>0.70</td>\n",
              "      <td>-0.02</td>\n",
              "      <td>0.34</td>\n",
              "      <td>0.02</td>\n",
              "    </tr>\n",
              "    <tr>\n",
              "      <th>tolls_amount</th>\n",
              "      <td>0.01</td>\n",
              "      <td>0.01</td>\n",
              "      <td>0.52</td>\n",
              "      <td>0.33</td>\n",
              "      <td>-0.04</td>\n",
              "      <td>-0.04</td>\n",
              "      <td>-0.03</td>\n",
              "      <td>0.51</td>\n",
              "      <td>0.02</td>\n",
              "      <td>-0.26</td>\n",
              "      <td>0.37</td>\n",
              "      <td>1.00</td>\n",
              "      <td>-0.00</td>\n",
              "      <td>0.60</td>\n",
              "      <td>-0.09</td>\n",
              "      <td>0.44</td>\n",
              "      <td>0.02</td>\n",
              "    </tr>\n",
              "    <tr>\n",
              "      <th>improvement_surcharge</th>\n",
              "      <td>-0.00</td>\n",
              "      <td>0.00</td>\n",
              "      <td>0.00</td>\n",
              "      <td>-0.08</td>\n",
              "      <td>-0.00</td>\n",
              "      <td>-0.01</td>\n",
              "      <td>-0.01</td>\n",
              "      <td>-0.03</td>\n",
              "      <td>0.00</td>\n",
              "      <td>0.09</td>\n",
              "      <td>-0.01</td>\n",
              "      <td>-0.00</td>\n",
              "      <td>1.00</td>\n",
              "      <td>-0.03</td>\n",
              "      <td>0.04</td>\n",
              "      <td>-0.00</td>\n",
              "      <td>-0.00</td>\n",
              "    </tr>\n",
              "    <tr>\n",
              "      <th>total_amount</th>\n",
              "      <td>0.03</td>\n",
              "      <td>0.01</td>\n",
              "      <td>0.89</td>\n",
              "      <td>0.54</td>\n",
              "      <td>-0.07</td>\n",
              "      <td>-0.08</td>\n",
              "      <td>-0.14</td>\n",
              "      <td>0.98</td>\n",
              "      <td>0.08</td>\n",
              "      <td>-0.29</td>\n",
              "      <td>0.70</td>\n",
              "      <td>0.60</td>\n",
              "      <td>-0.03</td>\n",
              "      <td>1.00</td>\n",
              "      <td>-0.13</td>\n",
              "      <td>0.55</td>\n",
              "      <td>0.03</td>\n",
              "    </tr>\n",
              "    <tr>\n",
              "      <th>congestion_surcharge</th>\n",
              "      <td>0.00</td>\n",
              "      <td>0.01</td>\n",
              "      <td>-0.19</td>\n",
              "      <td>-0.19</td>\n",
              "      <td>0.10</td>\n",
              "      <td>0.10</td>\n",
              "      <td>-0.09</td>\n",
              "      <td>-0.21</td>\n",
              "      <td>0.21</td>\n",
              "      <td>0.18</td>\n",
              "      <td>-0.02</td>\n",
              "      <td>-0.09</td>\n",
              "      <td>0.04</td>\n",
              "      <td>-0.13</td>\n",
              "      <td>1.00</td>\n",
              "      <td>-0.41</td>\n",
              "      <td>-0.03</td>\n",
              "    </tr>\n",
              "    <tr>\n",
              "      <th>airport_fee</th>\n",
              "      <td>0.01</td>\n",
              "      <td>0.01</td>\n",
              "      <td>0.61</td>\n",
              "      <td>0.23</td>\n",
              "      <td>-0.11</td>\n",
              "      <td>-0.05</td>\n",
              "      <td>0.03</td>\n",
              "      <td>0.54</td>\n",
              "      <td>0.02</td>\n",
              "      <td>-0.02</td>\n",
              "      <td>0.34</td>\n",
              "      <td>0.44</td>\n",
              "      <td>-0.00</td>\n",
              "      <td>0.55</td>\n",
              "      <td>-0.41</td>\n",
              "      <td>1.00</td>\n",
              "      <td>0.03</td>\n",
              "    </tr>\n",
              "    <tr>\n",
              "      <th>avg_speed</th>\n",
              "      <td>-0.01</td>\n",
              "      <td>-0.00</td>\n",
              "      <td>0.06</td>\n",
              "      <td>0.04</td>\n",
              "      <td>-0.00</td>\n",
              "      <td>-0.00</td>\n",
              "      <td>0.02</td>\n",
              "      <td>0.03</td>\n",
              "      <td>-0.00</td>\n",
              "      <td>-0.03</td>\n",
              "      <td>0.02</td>\n",
              "      <td>0.02</td>\n",
              "      <td>-0.00</td>\n",
              "      <td>0.03</td>\n",
              "      <td>-0.03</td>\n",
              "      <td>0.03</td>\n",
              "      <td>1.00</td>\n",
              "    </tr>\n",
              "  </tbody>\n",
              "</table>\n",
              "</div>\n",
              "      <button class=\"colab-df-convert\" onclick=\"convertToInteractive('df-60770184-373b-4df3-9099-7ce2dd1e4624')\"\n",
              "              title=\"Convert this dataframe to an interactive table.\"\n",
              "              style=\"display:none;\">\n",
              "        \n",
              "  <svg xmlns=\"http://www.w3.org/2000/svg\" height=\"24px\"viewBox=\"0 0 24 24\"\n",
              "       width=\"24px\">\n",
              "    <path d=\"M0 0h24v24H0V0z\" fill=\"none\"/>\n",
              "    <path d=\"M18.56 5.44l.94 2.06.94-2.06 2.06-.94-2.06-.94-.94-2.06-.94 2.06-2.06.94zm-11 1L8.5 8.5l.94-2.06 2.06-.94-2.06-.94L8.5 2.5l-.94 2.06-2.06.94zm10 10l.94 2.06.94-2.06 2.06-.94-2.06-.94-.94-2.06-.94 2.06-2.06.94z\"/><path d=\"M17.41 7.96l-1.37-1.37c-.4-.4-.92-.59-1.43-.59-.52 0-1.04.2-1.43.59L10.3 9.45l-7.72 7.72c-.78.78-.78 2.05 0 2.83L4 21.41c.39.39.9.59 1.41.59.51 0 1.02-.2 1.41-.59l7.78-7.78 2.81-2.81c.8-.78.8-2.07 0-2.86zM5.41 20L4 18.59l7.72-7.72 1.47 1.35L5.41 20z\"/>\n",
              "  </svg>\n",
              "      </button>\n",
              "      \n",
              "  <style>\n",
              "    .colab-df-container {\n",
              "      display:flex;\n",
              "      flex-wrap:wrap;\n",
              "      gap: 12px;\n",
              "    }\n",
              "\n",
              "    .colab-df-convert {\n",
              "      background-color: #E8F0FE;\n",
              "      border: none;\n",
              "      border-radius: 50%;\n",
              "      cursor: pointer;\n",
              "      display: none;\n",
              "      fill: #1967D2;\n",
              "      height: 32px;\n",
              "      padding: 0 0 0 0;\n",
              "      width: 32px;\n",
              "    }\n",
              "\n",
              "    .colab-df-convert:hover {\n",
              "      background-color: #E2EBFA;\n",
              "      box-shadow: 0px 1px 2px rgba(60, 64, 67, 0.3), 0px 1px 3px 1px rgba(60, 64, 67, 0.15);\n",
              "      fill: #174EA6;\n",
              "    }\n",
              "\n",
              "    [theme=dark] .colab-df-convert {\n",
              "      background-color: #3B4455;\n",
              "      fill: #D2E3FC;\n",
              "    }\n",
              "\n",
              "    [theme=dark] .colab-df-convert:hover {\n",
              "      background-color: #434B5C;\n",
              "      box-shadow: 0px 1px 3px 1px rgba(0, 0, 0, 0.15);\n",
              "      filter: drop-shadow(0px 1px 2px rgba(0, 0, 0, 0.3));\n",
              "      fill: #FFFFFF;\n",
              "    }\n",
              "  </style>\n",
              "\n",
              "      <script>\n",
              "        const buttonEl =\n",
              "          document.querySelector('#df-60770184-373b-4df3-9099-7ce2dd1e4624 button.colab-df-convert');\n",
              "        buttonEl.style.display =\n",
              "          google.colab.kernel.accessAllowed ? 'block' : 'none';\n",
              "\n",
              "        async function convertToInteractive(key) {\n",
              "          const element = document.querySelector('#df-60770184-373b-4df3-9099-7ce2dd1e4624');\n",
              "          const dataTable =\n",
              "            await google.colab.kernel.invokeFunction('convertToInteractive',\n",
              "                                                     [key], {});\n",
              "          if (!dataTable) return;\n",
              "\n",
              "          const docLinkHtml = 'Like what you see? Visit the ' +\n",
              "            '<a target=\"_blank\" href=https://colab.research.google.com/notebooks/data_table.ipynb>data table notebook</a>'\n",
              "            + ' to learn more about interactive tables.';\n",
              "          element.innerHTML = '';\n",
              "          dataTable['output_type'] = 'display_data';\n",
              "          await google.colab.output.renderOutput(dataTable, element);\n",
              "          const docLink = document.createElement('div');\n",
              "          docLink.innerHTML = docLinkHtml;\n",
              "          element.appendChild(docLink);\n",
              "        }\n",
              "      </script>\n",
              "    </div>\n",
              "  </div>\n",
              "  "
            ]
          },
          "metadata": {},
          "execution_count": 26
        }
      ],
      "source": [
        "#Find Corr\n",
        "corr = df17_21f.corr().round(2)\n",
        "corr"
      ]
    },
    {
      "cell_type": "code",
      "execution_count": null,
      "metadata": {
        "colab": {
          "base_uri": "https://localhost:8080/",
          "height": 561
        },
        "id": "-p5qOMSnyPfI",
        "outputId": "62db5ccc-222c-413a-9f9b-f8b42865dad7"
      },
      "outputs": [
        {
          "output_type": "execute_result",
          "data": {
            "text/plain": [
              "<matplotlib.axes._subplots.AxesSubplot at 0x7fe089188610>"
            ]
          },
          "metadata": {},
          "execution_count": 27
        },
        {
          "output_type": "display_data",
          "data": {
            "text/plain": [
              "<Figure size 864x504 with 2 Axes>"
            ],
            "image/png": "[encoded data removed]"
          },
          "metadata": {
            "needs_background": "light"
          }
        }
      ],
      "source": [
        "plt.figure(figsize = (12,7))\n",
        "sns.heatmap(corr,cmap=\"Blues\", annot=True)"
      ]
    },
    {
      "cell_type": "code",
      "execution_count": null,
      "metadata": {
        "id": "8JGVGKeZqmcl"
      },
      "outputs": [],
      "source": [
        "# sns.boxplot(x=train['close_to_airport'], y=train['fare_amount'])\n",
        "# plt.title('Fare Distribution by Proximity to Airports')\n",
        "# plt.ylim(-1,200)\n",
        "# plt.xlabel('Close to Airport')\n",
        "# plt.ylabel('Fare ($)')"
      ]
    },
    {
      "cell_type": "code",
      "execution_count": null,
      "metadata": {
        "id": "elmAE4lhCyuH"
      },
      "outputs": [],
      "source": [
        "# !pip install fastparquet\n",
        "# df17_21f.to_parquet('/content/gdrive/MyDrive/dataForBigdata/df17_21f_EDA.parquet.gzip',engine='fastparquet',compression='gzip') #"
      ]
    },
    {
      "cell_type": "code",
      "execution_count": null,
      "metadata": {
        "id": "YJxLp4-MEAxg"
      },
      "outputs": [],
      "source": [
        "# df = pd.read_csv('/content/gdrive/MyDrive/dataForBigdata/df17_21f_EDA.csv')\n",
        "# df.dtypes"
      ]
    },
    {
      "cell_type": "markdown",
      "metadata": {
        "id": "plli3h_SwGzr"
      },
      "source": [
        "## Calendar funtion\n",
        "  \n",
        "\n",
        "1.   0 is Monday\n",
        "2.   6 is Sunday\n",
        "\n"
      ]
    },
    {
      "cell_type": "markdown",
      "metadata": {
        "id": "CIeb-6P-n_tO"
      },
      "source": [
        "*Fares are highest around 5am, primarily due to long trips leaving the city.*"
      ]
    },
    {
      "cell_type": "code",
      "execution_count": null,
      "metadata": {
        "id": "42AiTpIqgLTD"
      },
      "outputs": [],
      "source": [
        "# # https://www.geeksforgeeks.org/calendar-functions-in-python-set-2monthrange-prcal-weekday/?ref=lbp\n",
        "# import calendar as cld\n",
        "\n",
        "# # yy = 2017\n",
        "# # mm = 11\n",
        "# # print(calendar.month(yy, mm))\n",
        "# obj = calendar.Calendar(firstweekday = 0)\n",
        "# for day in obj.iterweekdays():\n",
        "#     print(day)"
      ]
    },
    {
      "cell_type": "code",
      "execution_count": null,
      "metadata": {
        "colab": {
          "base_uri": "https://localhost:8080/"
        },
        "id": "TdiTCgIX5dZJ",
        "outputId": "bc60b0b1-0fe0-4181-e17c-5f4963ca7aee"
      },
      "outputs": [
        {
          "output_type": "execute_result",
          "data": {
            "text/plain": [
              "VendorID                         float64\n",
              "tpep_pickup_datetime      datetime64[ns]\n",
              "tpep_dropoff_datetime     datetime64[ns]\n",
              "passenger_count                  float64\n",
              "trip_distance                    float64\n",
              "RatecodeID                       float64\n",
              "store_and_fwd_flag                object\n",
              "PULocationID                     float64\n",
              "DOLocationID                     float64\n",
              "payment_type                     float64\n",
              "fare_amount                      float64\n",
              "extra                            float64\n",
              "mta_tax                          float64\n",
              "tip_amount                       float64\n",
              "tolls_amount                     float64\n",
              "improvement_surcharge            float64\n",
              "total_amount                     float64\n",
              "congestion_surcharge             float64\n",
              "airport_fee                      float64\n",
              "elapsed_time             timedelta64[ns]\n",
              "avg_speed                        float64\n",
              "dtype: object"
            ]
          },
          "metadata": {},
          "execution_count": 32
        }
      ],
      "source": [
        "df17_21f.dtypes"
      ]
    },
    {
      "cell_type": "code",
      "execution_count": null,
      "metadata": {
        "id": "nuN0d56p52V_"
      },
      "outputs": [],
      "source": [
        "# from datetime import datetime\n",
        "# dt = datetime.now().date()"
      ]
    },
    {
      "cell_type": "code",
      "execution_count": null,
      "metadata": {
        "id": "fa6smMksviKy"
      },
      "outputs": [],
      "source": [
        "df17_21f['Weekday_pu'] = df17_21f['tpep_pickup_datetime'].dt.dayofweek\n"
      ]
    },
    {
      "cell_type": "code",
      "execution_count": null,
      "metadata": {
        "colab": {
          "base_uri": "https://localhost:8080/"
        },
        "id": "DHvGk-Ih6ERY",
        "outputId": "9c5bd235-31f5-4d38-96b1-ac4db7460b77"
      },
      "outputs": [
        {
          "output_type": "execute_result",
          "data": {
            "text/plain": [
              "VendorID                         float64\n",
              "tpep_pickup_datetime      datetime64[ns]\n",
              "tpep_dropoff_datetime     datetime64[ns]\n",
              "passenger_count                  float64\n",
              "trip_distance                    float64\n",
              "RatecodeID                       float64\n",
              "store_and_fwd_flag                object\n",
              "PULocationID                     float64\n",
              "DOLocationID                     float64\n",
              "payment_type                     float64\n",
              "fare_amount                      float64\n",
              "extra                            float64\n",
              "mta_tax                          float64\n",
              "tip_amount                       float64\n",
              "tolls_amount                     float64\n",
              "improvement_surcharge            float64\n",
              "total_amount                     float64\n",
              "congestion_surcharge             float64\n",
              "airport_fee                      float64\n",
              "elapsed_time             timedelta64[ns]\n",
              "avg_speed                        float64\n",
              "Weekday_pu                       float64\n",
              "dtype: object"
            ]
          },
          "metadata": {},
          "execution_count": 35
        }
      ],
      "source": [
        "df17_21f.dtypes"
      ]
    },
    {
      "cell_type": "markdown",
      "metadata": {
        "id": "tBzzfXGu_WO1"
      },
      "source": [
        "## Fare_amount Group by Time"
      ]
    },
    {
      "cell_type": "code",
      "execution_count": null,
      "metadata": {
        "colab": {
          "base_uri": "https://localhost:8080/",
          "height": 350
        },
        "id": "5kEAy7DaOWF9",
        "outputId": "8482ba61-40f0-4615-83d2-8ebfe864389c"
      },
      "outputs": [
        {
          "output_type": "display_data",
          "data": {
            "text/plain": [
              "<Figure size 1080x360 with 1 Axes>"
            ],
            "image/png": "[encoded data removed]"
          },
          "metadata": {
            "needs_background": "light"
          }
        }
      ],
      "source": [
        "df17_21f.pivot_table('fare_amount', index=df17_21f['tpep_pickup_datetime'].dt.strftime('%Y')).plot(figsize=(15,5))\n",
        "plt.title('Fare Paid by Year')\n",
        "plt.ylabel('Fare ($)')\n",
        "plt.xlabel('Year')\n",
        "plt.show()"
      ]
    },
    {
      "cell_type": "code",
      "execution_count": null,
      "metadata": {
        "colab": {
          "base_uri": "https://localhost:8080/",
          "height": 350
        },
        "id": "8yRQqmmx-P9V",
        "outputId": "aaf3a466-e8c7-4aa1-af9f-df731d13595a"
      },
      "outputs": [
        {
          "output_type": "display_data",
          "data": {
            "text/plain": [
              "<Figure size 1080x360 with 1 Axes>"
            ],
            "image/png": "[encoded data removed]"
          },
          "metadata": {
            "needs_background": "light"
          }
        }
      ],
      "source": [
        "df17_21f.pivot_table('fare_amount', index=df17_21f['tpep_pickup_datetime'].dt.strftime('%m')).plot(figsize=(15,5))\n",
        "plt.title('Fare Paid by Month')\n",
        "plt.ylabel('Fare ($)')\n",
        "plt.xlabel('Month')\n",
        "plt.show()"
      ]
    },
    {
      "cell_type": "code",
      "execution_count": null,
      "metadata": {
        "colab": {
          "base_uri": "https://localhost:8080/",
          "height": 350
        },
        "id": "Fg7fDi6T-RIu",
        "outputId": "827552c9-4d5b-4f70-cd5a-1b980f8873a9"
      },
      "outputs": [
        {
          "output_type": "display_data",
          "data": {
            "text/plain": [
              "<Figure size 1080x360 with 1 Axes>"
            ],
            "image/png": "[encoded data removed]"
          },
          "metadata": {
            "needs_background": "light"
          }
        }
      ],
      "source": [
        "df17_21f.pivot_table('fare_amount', index=df17_21f['tpep_pickup_datetime'].dt.strftime('%d')).plot(figsize=(15,5))\n",
        "plt.title('Fare Paid by date')\n",
        "plt.ylabel('Fare ($)')\n",
        "plt.xlabel('Day')\n",
        "plt.show()"
      ]
    },
    {
      "cell_type": "code",
      "execution_count": null,
      "metadata": {
        "colab": {
          "base_uri": "https://localhost:8080/",
          "height": 350
        },
        "id": "0mG5ZgC7-SG-",
        "outputId": "5e7948dd-da0e-42f6-fe5a-38865d120ba9"
      },
      "outputs": [
        {
          "output_type": "display_data",
          "data": {
            "text/plain": [
              "<Figure size 1080x360 with 1 Axes>"
            ],
            "image/png": "[encoded data removed]"
          },
          "metadata": {
            "needs_background": "light"
          }
        }
      ],
      "source": [
        "df17_21f.pivot_table('fare_amount', index=df17_21f['Weekday_pu']).plot(figsize=(15,5))\n",
        "plt.title('Fare Paid by Weekday (Monday-Sunday)')\n",
        "plt.ylabel('Fare ($)')\n",
        "plt.xlabel('Day (0 = mon ,6 = sun )')\n",
        "plt.show()"
      ]
    },
    {
      "cell_type": "code",
      "execution_count": null,
      "metadata": {
        "colab": {
          "base_uri": "https://localhost:8080/",
          "height": 350
        },
        "id": "yG8Nerot-TZM",
        "outputId": "53ed0e61-f471-45e2-8867-c47921fed57f"
      },
      "outputs": [
        {
          "output_type": "display_data",
          "data": {
            "text/plain": [
              "<Figure size 1080x360 with 1 Axes>"
            ],
            "image/png": "[encoded data removed]"
          },
          "metadata": {
            "needs_background": "light"
          }
        }
      ],
      "source": [
        "df17_21f.pivot_table('fare_amount', index=df17_21f['tpep_pickup_datetime'].dt.strftime('%H')).plot(figsize=(15,5))\n",
        "plt.ylabel('Fare ($)')\n",
        "plt.xlabel('Time')\n",
        "plt.title('Fare Paid by Time of Day')\n",
        "plt.show()"
      ]
    },
    {
      "cell_type": "markdown",
      "metadata": {
        "id": "OkH_7r4Hyx0z"
      },
      "source": [
        "## Rush hours"
      ]
    },
    {
      "cell_type": "code",
      "execution_count": null,
      "metadata": {
        "id": "-MQ2JaeAJfsG"
      },
      "outputs": [],
      "source": [
        "df17_21f['Hours'] = df17_21f['tpep_pickup_datetime'].dt.strftime('%H')\n",
        "df17_21f['Month'] = df17_21f['tpep_pickup_datetime'].dt.strftime('%m')\n",
        "df17_21f['Yeah'] = df17_21f['tpep_pickup_datetime'].dt.strftime('%Y')"
      ]
    },
    {
      "cell_type": "code",
      "execution_count": null,
      "metadata": {
        "colab": {
          "base_uri": "https://localhost:8080/",
          "height": 661
        },
        "id": "MgC9ujcYk71-",
        "outputId": "dca28ee6-feeb-40ce-b2f0-45f54235ceda"
      },
      "outputs": [
        {
          "output_type": "execute_result",
          "data": {
            "text/plain": [
              "       VendorID tpep_pickup_datetime tpep_dropoff_datetime  passenger_count  \\\n",
              "0           1.0  2017-01-01 00:36:42   2017-01-01 00:41:09              1.0   \n",
              "1           2.0  2017-01-01 00:27:02   2017-01-01 00:34:04              1.0   \n",
              "2           1.0  2017-01-01 00:29:02   2017-01-01 00:39:27              2.0   \n",
              "3           1.0  2017-01-01 00:47:05   2017-01-01 01:01:01              3.0   \n",
              "4           1.0  2017-01-01 00:12:32   2017-01-01 00:21:14              2.0   \n",
              "...         ...                  ...                   ...              ...   \n",
              "25984       2.0  2021-12-31 23:40:48   2021-12-31 23:41:23              1.0   \n",
              "25985       1.0  2021-12-31 23:58:37   2022-01-01 00:03:00              2.0   \n",
              "25986       2.0  2021-12-31 23:19:37   2021-12-31 23:25:28              2.0   \n",
              "25987       1.0  2021-12-31 23:36:06   2021-12-31 23:52:29              2.0   \n",
              "25988       2.0  2021-12-31 23:29:55   2021-12-31 23:38:52              1.0   \n",
              "\n",
              "       trip_distance  RatecodeID store_and_fwd_flag  PULocationID  \\\n",
              "0               1.10         1.0                  N          41.0   \n",
              "1               0.76         1.0                  N         237.0   \n",
              "2               1.20         1.0                  N         237.0   \n",
              "3               2.70         1.0                  N         148.0   \n",
              "4               0.90         1.0                  N          79.0   \n",
              "...              ...         ...                ...           ...   \n",
              "25984           0.06         1.0                  N         186.0   \n",
              "25985           0.70         1.0                  N         231.0   \n",
              "25986           1.63         1.0                  N         263.0   \n",
              "25987           3.40         1.0                  N         249.0   \n",
              "25988           1.42         1.0                  N          41.0   \n",
              "\n",
              "       DOLocationID  payment_type  ...  improvement_surcharge  total_amount  \\\n",
              "0              42.0           2.0  ...                    0.3          7.30   \n",
              "1             141.0           2.0  ...                    0.3          7.30   \n",
              "2             229.0           1.0  ...                    0.3         12.30   \n",
              "3             256.0           2.0  ...                    0.3         13.80   \n",
              "4              90.0           1.0  ...                    0.3          9.95   \n",
              "...             ...           ...  ...                    ...           ...   \n",
              "25984         186.0           2.0  ...                    0.3          6.30   \n",
              "25985          87.0           1.0  ...                    0.3         10.55   \n",
              "25986         162.0           1.0  ...                    0.3         12.96   \n",
              "25987         229.0           2.0  ...                    0.3         17.30   \n",
              "25988          42.0           2.0  ...                    0.3          9.30   \n",
              "\n",
              "       congestion_surcharge  airport_fee    elapsed_time  avg_speed  \\\n",
              "0                       NaN          NaN 0 days 00:04:27   0.247191   \n",
              "1                       NaN          NaN 0 days 00:07:02   0.108057   \n",
              "2                       NaN          NaN 0 days 00:10:25   0.115200   \n",
              "3                       NaN          NaN 0 days 00:13:56   0.193780   \n",
              "4                       NaN          NaN 0 days 00:08:42   0.103448   \n",
              "...                     ...          ...             ...        ...   \n",
              "25984                   2.5          0.0 0 days 00:00:35   0.102857   \n",
              "25985                   2.5          0.0 0 days 00:04:23   0.159696   \n",
              "25986                   2.5          0.0 0 days 00:05:51   0.278632   \n",
              "25987                   2.5          0.0 0 days 00:16:23   0.207528   \n",
              "25988                   0.0          0.0 0 days 00:08:57   0.158659   \n",
              "\n",
              "       Weekday_pu  Hours  Month  Yeah  \n",
              "0             6.0     00     01  2017  \n",
              "1             6.0     00     01  2017  \n",
              "2             6.0     00     01  2017  \n",
              "3             6.0     00     01  2017  \n",
              "4             6.0     00     01  2017  \n",
              "...           ...    ...    ...   ...  \n",
              "25984         4.0     23     12  2021  \n",
              "25985         4.0     23     12  2021  \n",
              "25986         4.0     23     12  2021  \n",
              "25987         4.0     23     12  2021  \n",
              "25988         4.0     23     12  2021  \n",
              "\n",
              "[7639344 rows x 25 columns]"
            ],
            "text/html": [
              "\n",
              "  <div id=\"df-d6232bd5-1f76-4213-a9a5-256b9cbcc0b8\">\n",
              "    <div class=\"colab-df-container\">\n",
              "      <div>\n",
              "<style scoped>\n",
              "    .dataframe tbody tr th:only-of-type {\n",
              "        vertical-align: middle;\n",
              "    }\n",
              "\n",
              "    .dataframe tbody tr th {\n",
              "        vertical-align: top;\n",
              "    }\n",
              "\n",
              "    .dataframe thead th {\n",
              "        text-align: right;\n",
              "    }\n",
              "</style>\n",
              "<table border=\"1\" class=\"dataframe\">\n",
              "  <thead>\n",
              "    <tr style=\"text-align: right;\">\n",
              "      <th></th>\n",
              "      <th>VendorID</th>\n",
              "      <th>tpep_pickup_datetime</th>\n",
              "      <th>tpep_dropoff_datetime</th>\n",
              "      <th>passenger_count</th>\n",
              "      <th>trip_distance</th>\n",
              "      <th>RatecodeID</th>\n",
              "      <th>store_and_fwd_flag</th>\n",
              "      <th>PULocationID</th>\n",
              "      <th>DOLocationID</th>\n",
              "      <th>payment_type</th>\n",
              "      <th>...</th>\n",
              "      <th>improvement_surcharge</th>\n",
              "      <th>total_amount</th>\n",
              "      <th>congestion_surcharge</th>\n",
              "      <th>airport_fee</th>\n",
              "      <th>elapsed_time</th>\n",
              "      <th>avg_speed</th>\n",
              "      <th>Weekday_pu</th>\n",
              "      <th>Hours</th>\n",
              "      <th>Month</th>\n",
              "      <th>Yeah</th>\n",
              "    </tr>\n",
              "  </thead>\n",
              "  <tbody>\n",
              "    <tr>\n",
              "      <th>0</th>\n",
              "      <td>1.0</td>\n",
              "      <td>2017-01-01 00:36:42</td>\n",
              "      <td>2017-01-01 00:41:09</td>\n",
              "      <td>1.0</td>\n",
              "      <td>1.10</td>\n",
              "      <td>1.0</td>\n",
              "      <td>N</td>\n",
              "      <td>41.0</td>\n",
              "      <td>42.0</td>\n",
              "      <td>2.0</td>\n",
              "      <td>...</td>\n",
              "      <td>0.3</td>\n",
              "      <td>7.30</td>\n",
              "      <td>NaN</td>\n",
              "      <td>NaN</td>\n",
              "      <td>0 days 00:04:27</td>\n",
              "      <td>0.247191</td>\n",
              "      <td>6.0</td>\n",
              "      <td>00</td>\n",
              "      <td>01</td>\n",
              "      <td>2017</td>\n",
              "    </tr>\n",
              "    <tr>\n",
              "      <th>1</th>\n",
              "      <td>2.0</td>\n",
              "      <td>2017-01-01 00:27:02</td>\n",
              "      <td>2017-01-01 00:34:04</td>\n",
              "      <td>1.0</td>\n",
              "      <td>0.76</td>\n",
              "      <td>1.0</td>\n",
              "      <td>N</td>\n",
              "      <td>237.0</td>\n",
              "      <td>141.0</td>\n",
              "      <td>2.0</td>\n",
              "      <td>...</td>\n",
              "      <td>0.3</td>\n",
              "      <td>7.30</td>\n",
              "      <td>NaN</td>\n",
              "      <td>NaN</td>\n",
              "      <td>0 days 00:07:02</td>\n",
              "      <td>0.108057</td>\n",
              "      <td>6.0</td>\n",
              "      <td>00</td>\n",
              "      <td>01</td>\n",
              "      <td>2017</td>\n",
              "    </tr>\n",
              "    <tr>\n",
              "      <th>2</th>\n",
              "      <td>1.0</td>\n",
              "      <td>2017-01-01 00:29:02</td>\n",
              "      <td>2017-01-01 00:39:27</td>\n",
              "      <td>2.0</td>\n",
              "      <td>1.20</td>\n",
              "      <td>1.0</td>\n",
              "      <td>N</td>\n",
              "      <td>237.0</td>\n",
              "      <td>229.0</td>\n",
              "      <td>1.0</td>\n",
              "      <td>...</td>\n",
              "      <td>0.3</td>\n",
              "      <td>12.30</td>\n",
              "      <td>NaN</td>\n",
              "      <td>NaN</td>\n",
              "      <td>0 days 00:10:25</td>\n",
              "      <td>0.115200</td>\n",
              "      <td>6.0</td>\n",
              "      <td>00</td>\n",
              "      <td>01</td>\n",
              "      <td>2017</td>\n",
              "    </tr>\n",
              "    <tr>\n",
              "      <th>3</th>\n",
              "      <td>1.0</td>\n",
              "      <td>2017-01-01 00:47:05</td>\n",
              "      <td>2017-01-01 01:01:01</td>\n",
              "      <td>3.0</td>\n",
              "      <td>2.70</td>\n",
              "      <td>1.0</td>\n",
              "      <td>N</td>\n",
              "      <td>148.0</td>\n",
              "      <td>256.0</td>\n",
              "      <td>2.0</td>\n",
              "      <td>...</td>\n",
              "      <td>0.3</td>\n",
              "      <td>13.80</td>\n",
              "      <td>NaN</td>\n",
              "      <td>NaN</td>\n",
              "      <td>0 days 00:13:56</td>\n",
              "      <td>0.193780</td>\n",
              "      <td>6.0</td>\n",
              "      <td>00</td>\n",
              "      <td>01</td>\n",
              "      <td>2017</td>\n",
              "    </tr>\n",
              "    <tr>\n",
              "      <th>4</th>\n",
              "      <td>1.0</td>\n",
              "      <td>2017-01-01 00:12:32</td>\n",
              "      <td>2017-01-01 00:21:14</td>\n",
              "      <td>2.0</td>\n",
              "      <td>0.90</td>\n",
              "      <td>1.0</td>\n",
              "      <td>N</td>\n",
              "      <td>79.0</td>\n",
              "      <td>90.0</td>\n",
              "      <td>1.0</td>\n",
              "      <td>...</td>\n",
              "      <td>0.3</td>\n",
              "      <td>9.95</td>\n",
              "      <td>NaN</td>\n",
              "      <td>NaN</td>\n",
              "      <td>0 days 00:08:42</td>\n",
              "      <td>0.103448</td>\n",
              "      <td>6.0</td>\n",
              "      <td>00</td>\n",
              "      <td>01</td>\n",
              "      <td>2017</td>\n",
              "    </tr>\n",
              "    <tr>\n",
              "      <th>...</th>\n",
              "      <td>...</td>\n",
              "      <td>...</td>\n",
              "      <td>...</td>\n",
              "      <td>...</td>\n",
              "      <td>...</td>\n",
              "      <td>...</td>\n",
              "      <td>...</td>\n",
              "      <td>...</td>\n",
              "      <td>...</td>\n",
              "      <td>...</td>\n",
              "      <td>...</td>\n",
              "      <td>...</td>\n",
              "      <td>...</td>\n",
              "      <td>...</td>\n",
              "      <td>...</td>\n",
              "      <td>...</td>\n",
              "      <td>...</td>\n",
              "      <td>...</td>\n",
              "      <td>...</td>\n",
              "      <td>...</td>\n",
              "      <td>...</td>\n",
              "    </tr>\n",
              "    <tr>\n",
              "      <th>25984</th>\n",
              "      <td>2.0</td>\n",
              "      <td>2021-12-31 23:40:48</td>\n",
              "      <td>2021-12-31 23:41:23</td>\n",
              "      <td>1.0</td>\n",
              "      <td>0.06</td>\n",
              "      <td>1.0</td>\n",
              "      <td>N</td>\n",
              "      <td>186.0</td>\n",
              "      <td>186.0</td>\n",
              "      <td>2.0</td>\n",
              "      <td>...</td>\n",
              "      <td>0.3</td>\n",
              "      <td>6.30</td>\n",
              "      <td>2.5</td>\n",
              "      <td>0.0</td>\n",
              "      <td>0 days 00:00:35</td>\n",
              "      <td>0.102857</td>\n",
              "      <td>4.0</td>\n",
              "      <td>23</td>\n",
              "      <td>12</td>\n",
              "      <td>2021</td>\n",
              "    </tr>\n",
              "    <tr>\n",
              "      <th>25985</th>\n",
              "      <td>1.0</td>\n",
              "      <td>2021-12-31 23:58:37</td>\n",
              "      <td>2022-01-01 00:03:00</td>\n",
              "      <td>2.0</td>\n",
              "      <td>0.70</td>\n",
              "      <td>1.0</td>\n",
              "      <td>N</td>\n",
              "      <td>231.0</td>\n",
              "      <td>87.0</td>\n",
              "      <td>1.0</td>\n",
              "      <td>...</td>\n",
              "      <td>0.3</td>\n",
              "      <td>10.55</td>\n",
              "      <td>2.5</td>\n",
              "      <td>0.0</td>\n",
              "      <td>0 days 00:04:23</td>\n",
              "      <td>0.159696</td>\n",
              "      <td>4.0</td>\n",
              "      <td>23</td>\n",
              "      <td>12</td>\n",
              "      <td>2021</td>\n",
              "    </tr>\n",
              "    <tr>\n",
              "      <th>25986</th>\n",
              "      <td>2.0</td>\n",
              "      <td>2021-12-31 23:19:37</td>\n",
              "      <td>2021-12-31 23:25:28</td>\n",
              "      <td>2.0</td>\n",
              "      <td>1.63</td>\n",
              "      <td>1.0</td>\n",
              "      <td>N</td>\n",
              "      <td>263.0</td>\n",
              "      <td>162.0</td>\n",
              "      <td>1.0</td>\n",
              "      <td>...</td>\n",
              "      <td>0.3</td>\n",
              "      <td>12.96</td>\n",
              "      <td>2.5</td>\n",
              "      <td>0.0</td>\n",
              "      <td>0 days 00:05:51</td>\n",
              "      <td>0.278632</td>\n",
              "      <td>4.0</td>\n",
              "      <td>23</td>\n",
              "      <td>12</td>\n",
              "      <td>2021</td>\n",
              "    </tr>\n",
              "    <tr>\n",
              "      <th>25987</th>\n",
              "      <td>1.0</td>\n",
              "      <td>2021-12-31 23:36:06</td>\n",
              "      <td>2021-12-31 23:52:29</td>\n",
              "      <td>2.0</td>\n",
              "      <td>3.40</td>\n",
              "      <td>1.0</td>\n",
              "      <td>N</td>\n",
              "      <td>249.0</td>\n",
              "      <td>229.0</td>\n",
              "      <td>2.0</td>\n",
              "      <td>...</td>\n",
              "      <td>0.3</td>\n",
              "      <td>17.30</td>\n",
              "      <td>2.5</td>\n",
              "      <td>0.0</td>\n",
              "      <td>0 days 00:16:23</td>\n",
              "      <td>0.207528</td>\n",
              "      <td>4.0</td>\n",
              "      <td>23</td>\n",
              "      <td>12</td>\n",
              "      <td>2021</td>\n",
              "    </tr>\n",
              "    <tr>\n",
              "      <th>25988</th>\n",
              "      <td>2.0</td>\n",
              "      <td>2021-12-31 23:29:55</td>\n",
              "      <td>2021-12-31 23:38:52</td>\n",
              "      <td>1.0</td>\n",
              "      <td>1.42</td>\n",
              "      <td>1.0</td>\n",
              "      <td>N</td>\n",
              "      <td>41.0</td>\n",
              "      <td>42.0</td>\n",
              "      <td>2.0</td>\n",
              "      <td>...</td>\n",
              "      <td>0.3</td>\n",
              "      <td>9.30</td>\n",
              "      <td>0.0</td>\n",
              "      <td>0.0</td>\n",
              "      <td>0 days 00:08:57</td>\n",
              "      <td>0.158659</td>\n",
              "      <td>4.0</td>\n",
              "      <td>23</td>\n",
              "      <td>12</td>\n",
              "      <td>2021</td>\n",
              "    </tr>\n",
              "  </tbody>\n",
              "</table>\n",
              "<p>7639344 rows × 25 columns</p>\n",
              "</div>\n",
              "      <button class=\"colab-df-convert\" onclick=\"convertToInteractive('df-d6232bd5-1f76-4213-a9a5-256b9cbcc0b8')\"\n",
              "              title=\"Convert this dataframe to an interactive table.\"\n",
              "              style=\"display:none;\">\n",
              "        \n",
              "  <svg xmlns=\"http://www.w3.org/2000/svg\" height=\"24px\"viewBox=\"0 0 24 24\"\n",
              "       width=\"24px\">\n",
              "    <path d=\"M0 0h24v24H0V0z\" fill=\"none\"/>\n",
              "    <path d=\"M18.56 5.44l.94 2.06.94-2.06 2.06-.94-2.06-.94-.94-2.06-.94 2.06-2.06.94zm-11 1L8.5 8.5l.94-2.06 2.06-.94-2.06-.94L8.5 2.5l-.94 2.06-2.06.94zm10 10l.94 2.06.94-2.06 2.06-.94-2.06-.94-.94-2.06-.94 2.06-2.06.94z\"/><path d=\"M17.41 7.96l-1.37-1.37c-.4-.4-.92-.59-1.43-.59-.52 0-1.04.2-1.43.59L10.3 9.45l-7.72 7.72c-.78.78-.78 2.05 0 2.83L4 21.41c.39.39.9.59 1.41.59.51 0 1.02-.2 1.41-.59l7.78-7.78 2.81-2.81c.8-.78.8-2.07 0-2.86zM5.41 20L4 18.59l7.72-7.72 1.47 1.35L5.41 20z\"/>\n",
              "  </svg>\n",
              "      </button>\n",
              "      \n",
              "  <style>\n",
              "    .colab-df-container {\n",
              "      display:flex;\n",
              "      flex-wrap:wrap;\n",
              "      gap: 12px;\n",
              "    }\n",
              "\n",
              "    .colab-df-convert {\n",
              "      background-color: #E8F0FE;\n",
              "      border: none;\n",
              "      border-radius: 50%;\n",
              "      cursor: pointer;\n",
              "      display: none;\n",
              "      fill: #1967D2;\n",
              "      height: 32px;\n",
              "      padding: 0 0 0 0;\n",
              "      width: 32px;\n",
              "    }\n",
              "\n",
              "    .colab-df-convert:hover {\n",
              "      background-color: #E2EBFA;\n",
              "      box-shadow: 0px 1px 2px rgba(60, 64, 67, 0.3), 0px 1px 3px 1px rgba(60, 64, 67, 0.15);\n",
              "      fill: #174EA6;\n",
              "    }\n",
              "\n",
              "    [theme=dark] .colab-df-convert {\n",
              "      background-color: #3B4455;\n",
              "      fill: #D2E3FC;\n",
              "    }\n",
              "\n",
              "    [theme=dark] .colab-df-convert:hover {\n",
              "      background-color: #434B5C;\n",
              "      box-shadow: 0px 1px 3px 1px rgba(0, 0, 0, 0.15);\n",
              "      filter: drop-shadow(0px 1px 2px rgba(0, 0, 0, 0.3));\n",
              "      fill: #FFFFFF;\n",
              "    }\n",
              "  </style>\n",
              "\n",
              "      <script>\n",
              "        const buttonEl =\n",
              "          document.querySelector('#df-d6232bd5-1f76-4213-a9a5-256b9cbcc0b8 button.colab-df-convert');\n",
              "        buttonEl.style.display =\n",
              "          google.colab.kernel.accessAllowed ? 'block' : 'none';\n",
              "\n",
              "        async function convertToInteractive(key) {\n",
              "          const element = document.querySelector('#df-d6232bd5-1f76-4213-a9a5-256b9cbcc0b8');\n",
              "          const dataTable =\n",
              "            await google.colab.kernel.invokeFunction('convertToInteractive',\n",
              "                                                     [key], {});\n",
              "          if (!dataTable) return;\n",
              "\n",
              "          const docLinkHtml = 'Like what you see? Visit the ' +\n",
              "            '<a target=\"_blank\" href=https://colab.research.google.com/notebooks/data_table.ipynb>data table notebook</a>'\n",
              "            + ' to learn more about interactive tables.';\n",
              "          element.innerHTML = '';\n",
              "          dataTable['output_type'] = 'display_data';\n",
              "          await google.colab.output.renderOutput(dataTable, element);\n",
              "          const docLink = document.createElement('div');\n",
              "          docLink.innerHTML = docLinkHtml;\n",
              "          element.appendChild(docLink);\n",
              "        }\n",
              "      </script>\n",
              "    </div>\n",
              "  </div>\n",
              "  "
            ]
          },
          "metadata": {},
          "execution_count": 42
        }
      ],
      "source": [
        "df17_21f"
      ]
    },
    {
      "cell_type": "code",
      "execution_count": null,
      "metadata": {
        "colab": {
          "base_uri": "https://localhost:8080/",
          "height": 459
        },
        "id": "bj60r55Ay2cG",
        "outputId": "05c3da17-0ce0-481d-c424-837341e14547"
      },
      "outputs": [
        {
          "output_type": "execute_result",
          "data": {
            "text/plain": [
              "<matplotlib.axes._subplots.AxesSubplot at 0x7fdf7e96c5d0>"
            ]
          },
          "metadata": {},
          "execution_count": 43
        },
        {
          "output_type": "display_data",
          "data": {
            "text/plain": [
              "<Figure size 864x504 with 1 Axes>"
            ],
            "image/png": "[encoded data removed]"
          },
          "metadata": {
            "needs_background": "light"
          }
        }
      ],
      "source": [
        "plt.figure(figsize = (12,7))\n",
        "sns.countplot(data=df17_21f ,x = 'Hours')"
      ]
    },
    {
      "cell_type": "code",
      "execution_count": null,
      "metadata": {
        "colab": {
          "base_uri": "https://localhost:8080/",
          "height": 471
        },
        "id": "1xp1I4i6BQBe",
        "outputId": "89ccf7fb-efa4-4f84-c659-9f6a04795b63"
      },
      "outputs": [
        {
          "output_type": "execute_result",
          "data": {
            "text/plain": [
              "<matplotlib.axes._subplots.AxesSubplot at 0x7fdf436243d0>"
            ]
          },
          "metadata": {},
          "execution_count": 44
        },
        {
          "output_type": "display_data",
          "data": {
            "text/plain": [
              "<Figure size 864x504 with 1 Axes>"
            ],
            "image/png": "[encoded data removed]"
          },
          "metadata": {
            "needs_background": "light"
          }
        }
      ],
      "source": [
        "plt.figure(figsize = (12,7))\n",
        "sns.countplot(data=df17_21f ,x = 'Weekday_pu')"
      ]
    },
    {
      "cell_type": "code",
      "source": [
        "plt.figure(figsize = (12,7))\n",
        "sns.countplot(data=df17_21f ,x = 'Month')"
      ],
      "metadata": {
        "colab": {
          "base_uri": "https://localhost:8080/",
          "height": 459
        },
        "id": "4UovCTFnYnWS",
        "outputId": "659582fe-a46a-46c5-98e8-8b899d5420a9"
      },
      "execution_count": null,
      "outputs": [
        {
          "output_type": "execute_result",
          "data": {
            "text/plain": [
              "<matplotlib.axes._subplots.AxesSubplot at 0x7fdf4362f4d0>"
            ]
          },
          "metadata": {},
          "execution_count": 45
        },
        {
          "output_type": "display_data",
          "data": {
            "text/plain": [
              "<Figure size 864x504 with 1 Axes>"
            ],
            "image/png": "[encoded data removed]"
          },
          "metadata": {
            "needs_background": "light"
          }
        }
      ]
    },
    {
      "cell_type": "code",
      "source": [
        "plt.figure(figsize = (12,7))\n",
        "sns.countplot(data=df17_21f ,x = 'Yeah')"
      ],
      "metadata": {
        "colab": {
          "base_uri": "https://localhost:8080/",
          "height": 470
        },
        "id": "z0DzPuD3aOC8",
        "outputId": "98a4462b-33eb-4647-c6e4-031e6472762f"
      },
      "execution_count": null,
      "outputs": [
        {
          "output_type": "execute_result",
          "data": {
            "text/plain": [
              "<matplotlib.axes._subplots.AxesSubplot at 0x7fdf4355d450>"
            ]
          },
          "metadata": {},
          "execution_count": 46
        },
        {
          "output_type": "display_data",
          "data": {
            "text/plain": [
              "<Figure size 864x504 with 1 Axes>"
            ],
            "image/png": "[encoded data removed]"
          },
          "metadata": {
            "needs_background": "light"
          }
        }
      ]
    },
    {
      "cell_type": "code",
      "source": [
        "# df17_21f.to_csv('/content/gdrive/MyDrive/dataForBigdata/df17_21f_EDA2.csv') #\n",
        "# !pip install fastparquet\n",
        "# df17_21f.to_parquet('/content/gdrive/MyDrive/dataForBigdata/df17_21f_EDA2.parquet.gzip',engine='fastparquet',compression='gzip') #"
      ],
      "metadata": {
        "id": "I78rAPVfbF36",
        "colab": {
          "base_uri": "https://localhost:8080/"
        },
        "outputId": "4d5ba2e9-5f9d-420a-e994-7a796e114ed7"
      },
      "execution_count": null,
      "outputs": [
        {
          "output_type": "stream",
          "name": "stdout",
          "text": [
            "Looking in indexes: https://pypi.org/simple, https://us-python.pkg.dev/colab-wheels/public/simple/\n",
            "Collecting fastparquet\n",
            "  Downloading fastparquet-0.8.1-cp37-cp37m-manylinux_2_17_x86_64.manylinux2014_x86_64.whl (1.5 MB)\n",
            "\u001b[K     |████████████████████████████████| 1.5 MB 29.8 MB/s \n",
            "\u001b[?25hRequirement already satisfied: numpy>=1.18 in /usr/local/lib/python3.7/dist-packages (from fastparquet) (1.21.6)\n",
            "Collecting cramjam>=2.3.0\n",
            "  Downloading cramjam-2.6.2-cp37-cp37m-manylinux_2_17_x86_64.manylinux2014_x86_64.whl (2.0 MB)\n",
            "\u001b[K     |████████████████████████████████| 2.0 MB 66.8 MB/s \n",
            "\u001b[?25hRequirement already satisfied: pandas>=1.1.0 in /usr/local/lib/python3.7/dist-packages (from fastparquet) (1.3.5)\n",
            "Requirement already satisfied: fsspec in /usr/local/lib/python3.7/dist-packages (from fastparquet) (2022.11.0)\n",
            "Requirement already satisfied: pytz>=2017.3 in /usr/local/lib/python3.7/dist-packages (from pandas>=1.1.0->fastparquet) (2022.6)\n",
            "Requirement already satisfied: python-dateutil>=2.7.3 in /usr/local/lib/python3.7/dist-packages (from pandas>=1.1.0->fastparquet) (2.8.2)\n",
            "Requirement already satisfied: six>=1.5 in /usr/local/lib/python3.7/dist-packages (from python-dateutil>=2.7.3->pandas>=1.1.0->fastparquet) (1.15.0)\n",
            "Installing collected packages: cramjam, fastparquet\n",
            "Successfully installed cramjam-2.6.2 fastparquet-0.8.1\n"
          ]
        }
      ]
    },
    {
      "cell_type": "markdown",
      "metadata": {
        "id": "MA2xRE-iOB02"
      },
      "source": [
        "# Machine Learning on Spark ✨"
      ]
    },
    {
      "cell_type": "markdown",
      "metadata": {
        "id": "pP428L43AfBl"
      },
      "source": [
        "## Prepare data for ML"
      ]
    },
    {
      "cell_type": "code",
      "execution_count": null,
      "metadata": {
        "id": "SBCsS4Ce1vxr"
      },
      "outputs": [],
      "source": [
        "path = '/content/gdrive/MyDrive/dataForBigdata/df17_21f_EDA2.csv'\n",
        "df17_21 = spark.read.option(\"delimiter\", \",\").option(\"header\", True).csv(path)"
      ]
    },
    {
      "cell_type": "code",
      "execution_count": null,
      "metadata": {
        "id": "vJPHWwUQurX8"
      },
      "outputs": [],
      "source": [
        "df17_21 = df17_21.drop(col('_c0'))"
      ]
    },
    {
      "cell_type": "code",
      "execution_count": null,
      "metadata": {
        "id": "HOHdd2eS0gUs",
        "colab": {
          "base_uri": "https://localhost:8080/"
        },
        "outputId": "64083407-35fa-4037-c1e2-96144b957d49"
      },
      "outputs": [
        {
          "output_type": "stream",
          "name": "stdout",
          "text": [
            "+--------+--------------------+---------------------+---------------+-------------+----------+------------------+------------+------------+------------+-----------+-----+-------+----------+------------+---------------------+------------+--------------------+-----------+---------------+-------------------+----------+-----+-----+----+\n",
            "|VendorID|tpep_pickup_datetime|tpep_dropoff_datetime|passenger_count|trip_distance|RatecodeID|store_and_fwd_flag|PULocationID|DOLocationID|payment_type|fare_amount|extra|mta_tax|tip_amount|tolls_amount|improvement_surcharge|total_amount|congestion_surcharge|airport_fee|   elapsed_time|          avg_speed|Weekday_pu|Hours|Month|Yeah|\n",
            "+--------+--------------------+---------------------+---------------+-------------+----------+------------------+------------+------------+------------+-----------+-----+-------+----------+------------+---------------------+------------+--------------------+-----------+---------------+-------------------+----------+-----+-----+----+\n",
            "|     1.0| 2017-01-01 00:36:42|  2017-01-01 00:41:09|            1.0|          1.1|       1.0|                 N|        41.0|        42.0|         2.0|        6.0|  0.5|    0.5|       0.0|         0.0|                  0.3|         7.3|                null|       null|0 days 00:04:27|0.24719101123595508|       6.0|   00|   01|2017|\n",
            "|     2.0| 2017-01-01 00:27:02|  2017-01-01 00:34:04|            1.0|         0.76|       1.0|                 N|       237.0|       141.0|         2.0|        6.0|  0.5|    0.5|       0.0|         0.0|                  0.3|         7.3|                null|       null|0 days 00:07:02| 0.1080568720379147|       6.0|   00|   01|2017|\n",
            "|     1.0| 2017-01-01 00:29:02|  2017-01-01 00:39:27|            2.0|          1.2|       1.0|                 N|       237.0|       229.0|         1.0|        8.0|  0.5|    0.5|       3.0|         0.0|                  0.3|        12.3|                null|       null|0 days 00:10:25|             0.1152|       6.0|   00|   01|2017|\n",
            "|     1.0| 2017-01-01 00:47:05|  2017-01-01 01:01:01|            3.0|          2.7|       1.0|                 N|       148.0|       256.0|         2.0|       12.5|  0.5|    0.5|       0.0|         0.0|                  0.3|        13.8|                null|       null|0 days 00:13:56| 0.1937799043062201|       6.0|   00|   01|2017|\n",
            "|     1.0| 2017-01-01 00:12:32|  2017-01-01 00:21:14|            2.0|          0.9|       1.0|                 N|        79.0|        90.0|         1.0|        7.0|  0.5|    0.5|      1.65|         0.0|                  0.3|        9.95|                null|       null|0 days 00:08:42|0.10344827586206898|       6.0|   00|   01|2017|\n",
            "|     1.0| 2017-01-01 00:20:40|  2017-01-01 00:39:41|            4.0|          4.1|       1.0|                 N|       238.0|       233.0|         1.0|       15.5|  0.5|    0.5|      3.36|         0.0|                  0.3|       20.16|                null|       null|0 days 00:19:01|0.21560035056967572|       6.0|   00|   01|2017|\n",
            "|     2.0| 2017-01-01 00:25:28|  2017-01-01 00:36:21|            1.0|          0.9|       1.0|                 N|       162.0|       233.0|         2.0|        8.0|  0.5|    0.5|       0.0|         0.0|                  0.3|         9.3|                null|       null|0 days 00:10:53|0.08269525267993875|       6.0|   00|   01|2017|\n",
            "|     1.0| 2017-01-01 00:07:15|  2017-01-01 00:21:56|            1.0|          3.0|       1.0|                 N|       255.0|       226.0|         1.0|       13.0|  0.5|    0.5|      2.85|         0.0|                  0.3|       17.15|                null|       null|0 days 00:14:41| 0.2043132803632236|       6.0|   00|   01|2017|\n",
            "|     1.0| 2017-01-01 00:14:05|  2017-01-01 00:20:36|            1.0|          2.0|       1.0|                 N|       237.0|       238.0|         2.0|        8.5|  0.5|    0.5|       0.0|         0.0|                  0.3|         9.8|                null|       null|0 days 00:06:31| 0.3069053708439898|       6.0|   00|   01|2017|\n",
            "|     1.0| 2017-01-01 00:50:00|  2017-01-01 01:02:43|            1.0|          1.9|       1.0|                 N|       141.0|       143.0|         1.0|       10.5|  0.5|    0.5|       3.0|         0.0|                  0.3|        14.8|                null|       null|0 days 00:12:43|0.14941022280471822|       6.0|   00|   01|2017|\n",
            "|     2.0| 2017-01-01 00:20:25|  2017-01-01 00:47:58|            2.0|         5.04|       1.0|                 N|       233.0|       238.0|         1.0|       21.5|  0.5|    0.5|      6.84|         0.0|                  0.3|       29.64|                null|       null|0 days 00:27:33|0.18294010889292195|       6.0|   00|   01|2017|\n",
            "|     1.0| 2017-01-01 00:53:53|  2017-01-01 01:16:29|            2.0|          6.5|       1.0|                 N|       170.0|        82.0|         2.0|       23.0|  0.5|    0.5|       0.0|        5.54|                  0.3|       29.84|                null|       null|0 days 00:22:36|0.28761061946902655|       6.0|   00|   01|2017|\n",
            "|     1.0| 2017-01-01 00:41:40|  2017-01-01 00:50:25|            1.0|          2.6|       1.0|                 N|       140.0|       170.0|         1.0|       10.5|  0.5|    0.5|      2.35|         0.0|                  0.3|       14.15|                null|       null|0 days 00:08:45|0.29714285714285715|       6.0|   00|   01|2017|\n",
            "|     2.0| 2017-01-01 00:33:14|  2017-01-01 00:46:18|            1.0|         1.42|       1.0|                 N|        90.0|        79.0|         2.0|        9.5|  0.5|    0.5|       0.0|         0.0|                  0.3|        10.8|                null|       null|0 days 00:13:04| 0.1086734693877551|       6.0|   00|   01|2017|\n",
            "|     2.0| 2017-01-01 00:37:42|  2017-01-01 00:47:04|            1.0|         1.13|       1.0|                 N|       189.0|        62.0|         2.0|        7.5|  0.5|    0.5|       0.0|         0.0|                  0.3|         8.8|                null|       null|0 days 00:09:22|0.12064056939501777|       6.0|   00|   01|2017|\n",
            "|     2.0| 2017-01-01 00:48:59|  2017-01-01 01:05:53|            3.0|         2.63|       1.0|                 N|       158.0|        48.0|         2.0|       13.0|  0.5|    0.5|       0.0|         0.0|                  0.3|        14.3|                null|       null|0 days 00:16:54| 0.1556213017751479|       6.0|   00|   01|2017|\n",
            "|     1.0| 2017-01-01 00:50:02|  2017-01-01 01:06:23|            1.0|          1.7|       1.0|                 N|        90.0|       230.0|         1.0|       11.0|  0.5|    0.5|      2.45|         0.0|                  0.3|       14.75|                null|       null|0 days 00:16:21| 0.1039755351681957|       6.0|   00|   01|2017|\n",
            "|     2.0| 2017-01-01 00:24:46|  2017-01-01 00:49:28|            1.0|          5.5|       1.0|                 N|       238.0|       113.0|         2.0|       21.0|  0.5|    0.5|       0.0|         0.0|                  0.3|        22.3|                null|       null|0 days 00:24:42|0.22267206477732795|       6.0|   00|   01|2017|\n",
            "|     1.0| 2017-01-01 00:52:32|  2017-01-01 01:08:02|            4.0|          5.1|       1.0|                 N|        87.0|       162.0|         1.0|       17.5|  0.5|    0.5|       2.0|         0.0|                  0.3|        20.8|                null|       null|0 days 00:15:30| 0.3290322580645161|       6.0|   00|   01|2017|\n",
            "|     1.0| 2017-01-01 00:14:35|  2017-01-01 00:20:33|            1.0|          1.2|       1.0|                 N|       264.0|       264.0|         2.0|        6.5|  0.5|    0.5|       0.0|         0.0|                  0.3|         7.8|                null|       null|0 days 00:05:58|0.20111731843575417|       6.0|   00|   01|2017|\n",
            "+--------+--------------------+---------------------+---------------+-------------+----------+------------------+------------+------------+------------+-----------+-----+-------+----------+------------+---------------------+------------+--------------------+-----------+---------------+-------------------+----------+-----+-----+----+\n",
            "only showing top 20 rows\n",
            "\n"
          ]
        }
      ],
      "source": [
        "df17_21.show()"
      ]
    },
    {
      "cell_type": "code",
      "execution_count": null,
      "metadata": {
        "id": "EJhMa-ou2r5D",
        "colab": {
          "base_uri": "https://localhost:8080/"
        },
        "outputId": "df1911b0-b5f6-4044-f010-ae3e116da07f"
      },
      "outputs": [
        {
          "output_type": "execute_result",
          "data": {
            "text/plain": [
              "[('VendorID', 'string'),\n",
              " ('tpep_pickup_datetime', 'string'),\n",
              " ('tpep_dropoff_datetime', 'string'),\n",
              " ('passenger_count', 'string'),\n",
              " ('trip_distance', 'string'),\n",
              " ('RatecodeID', 'string'),\n",
              " ('store_and_fwd_flag', 'string'),\n",
              " ('PULocationID', 'string'),\n",
              " ('DOLocationID', 'string'),\n",
              " ('payment_type', 'string'),\n",
              " ('fare_amount', 'string'),\n",
              " ('extra', 'string'),\n",
              " ('mta_tax', 'string'),\n",
              " ('tip_amount', 'string'),\n",
              " ('tolls_amount', 'string'),\n",
              " ('improvement_surcharge', 'string'),\n",
              " ('total_amount', 'string'),\n",
              " ('congestion_surcharge', 'string'),\n",
              " ('airport_fee', 'string'),\n",
              " ('elapsed_time', 'string'),\n",
              " ('avg_speed', 'string'),\n",
              " ('Weekday_pu', 'string'),\n",
              " ('Hours', 'string'),\n",
              " ('Month', 'string'),\n",
              " ('Yeah', 'string')]"
            ]
          },
          "metadata": {},
          "execution_count": 13
        }
      ],
      "source": [
        "df17_21.dtypes"
      ]
    },
    {
      "cell_type": "code",
      "execution_count": null,
      "metadata": {
        "id": "fjJj5TGV4qMA"
      },
      "outputs": [],
      "source": [
        "sdf17_21 = df17_21"
      ]
    },
    {
      "cell_type": "code",
      "execution_count": null,
      "metadata": {
        "id": "3eXwpXqQVFSt",
        "colab": {
          "base_uri": "https://localhost:8080/"
        },
        "outputId": "263129f2-dbfe-454a-97a1-428840612fb7"
      },
      "outputs": [
        {
          "output_type": "execute_result",
          "data": {
            "text/plain": [
              "[('VendorID', 'string'),\n",
              " ('tpep_pickup_datetime', 'string'),\n",
              " ('tpep_dropoff_datetime', 'string'),\n",
              " ('passenger_count', 'string'),\n",
              " ('trip_distance', 'string'),\n",
              " ('RatecodeID', 'string'),\n",
              " ('store_and_fwd_flag', 'string'),\n",
              " ('PULocationID', 'string'),\n",
              " ('DOLocationID', 'string'),\n",
              " ('payment_type', 'string'),\n",
              " ('fare_amount', 'string'),\n",
              " ('extra', 'string'),\n",
              " ('mta_tax', 'string'),\n",
              " ('tip_amount', 'string'),\n",
              " ('tolls_amount', 'string'),\n",
              " ('improvement_surcharge', 'string'),\n",
              " ('total_amount', 'string'),\n",
              " ('congestion_surcharge', 'string'),\n",
              " ('airport_fee', 'string'),\n",
              " ('elapsed_time', 'string'),\n",
              " ('avg_speed', 'string'),\n",
              " ('Weekday_pu', 'string'),\n",
              " ('Hours', 'string'),\n",
              " ('Month', 'string'),\n",
              " ('Yeah', 'string')]"
            ]
          },
          "metadata": {},
          "execution_count": 15
        }
      ],
      "source": [
        "sdf17_21.dtypes"
      ]
    },
    {
      "cell_type": "code",
      "execution_count": null,
      "metadata": {
        "id": "I1w5lT2t3EM1",
        "colab": {
          "base_uri": "https://localhost:8080/"
        },
        "outputId": "aacba04f-be9c-4c44-ab8e-f897b90711ae"
      },
      "outputs": [
        {
          "output_type": "stream",
          "name": "stdout",
          "text": [
            "RatecodeID\n",
            "passenger_count\n",
            "trip_distance\n",
            "PULocationID\n",
            "DOLocationID\n",
            "fare_amount\n",
            "extra\n",
            "mta_tax\n",
            "tolls_amount\n",
            "improvement_surcharge\n",
            "total_amount\n",
            "congestion_surcharge\n",
            "airport_fee\n",
            "avg_speed\n",
            "Hours\n",
            "Month\n",
            "Yeah\n",
            "tip_amount\n"
          ]
        }
      ],
      "source": [
        "cols = ['RatecodeID','passenger_count','trip_distance','PULocationID','DOLocationID','fare_amount','extra','mta_tax','tolls_amount','improvement_surcharge','total_amount','congestion_surcharge','airport_fee','avg_speed','Hours','Month','Yeah','tip_amount']\n",
        "for col_name in cols:\n",
        "    sdf17_21 = sdf17_21.withColumn(col_name, col(col_name).cast('double'))\n",
        "    print(col_name)"
      ]
    },
    {
      "cell_type": "code",
      "execution_count": null,
      "metadata": {
        "id": "C0UoegfR4xJM",
        "colab": {
          "base_uri": "https://localhost:8080/"
        },
        "outputId": "994b423a-b828-437c-fa07-c9e84ea30281"
      },
      "outputs": [
        {
          "output_type": "stream",
          "name": "stdout",
          "text": [
            "tpep_pickup_datetime\n",
            "tpep_dropoff_datetime\n",
            "elapsed_time\n"
          ]
        }
      ],
      "source": [
        "cols2 = ['tpep_pickup_datetime','tpep_dropoff_datetime','elapsed_time']\n",
        "for col_name in cols2:\n",
        "    sdf17_21 = sdf17_21.withColumn(col_name, col(col_name).cast('timestamp'))\n",
        "    print(col_name)"
      ]
    },
    {
      "cell_type": "code",
      "source": [
        "# cols3 = ['Hours','Month','Yeah']\n",
        "# for col_name in cols3:\n",
        "#     sdf17_21 = sdf17_21.withColumn(col_name, col(col_name).cast('int'))\n",
        "#     print(col_name)"
      ],
      "metadata": {
        "id": "E-iwbc9WffmI"
      },
      "execution_count": null,
      "outputs": []
    },
    {
      "cell_type": "code",
      "execution_count": null,
      "metadata": {
        "id": "ah5Lwq1-8ZcS",
        "colab": {
          "base_uri": "https://localhost:8080/"
        },
        "outputId": "12463785-f420-4e67-df9b-5388f9261d5d"
      },
      "outputs": [
        {
          "output_type": "execute_result",
          "data": {
            "text/plain": [
              "[('VendorID', 'string'),\n",
              " ('tpep_pickup_datetime', 'timestamp'),\n",
              " ('tpep_dropoff_datetime', 'timestamp'),\n",
              " ('passenger_count', 'double'),\n",
              " ('trip_distance', 'double'),\n",
              " ('RatecodeID', 'double'),\n",
              " ('store_and_fwd_flag', 'string'),\n",
              " ('PULocationID', 'double'),\n",
              " ('DOLocationID', 'double'),\n",
              " ('payment_type', 'string'),\n",
              " ('fare_amount', 'double'),\n",
              " ('extra', 'double'),\n",
              " ('mta_tax', 'double'),\n",
              " ('tip_amount', 'double'),\n",
              " ('tolls_amount', 'double'),\n",
              " ('improvement_surcharge', 'double'),\n",
              " ('total_amount', 'double'),\n",
              " ('congestion_surcharge', 'double'),\n",
              " ('airport_fee', 'double'),\n",
              " ('elapsed_time', 'timestamp'),\n",
              " ('avg_speed', 'double'),\n",
              " ('Weekday_pu', 'string'),\n",
              " ('Hours', 'double'),\n",
              " ('Month', 'double'),\n",
              " ('Yeah', 'double')]"
            ]
          },
          "metadata": {},
          "execution_count": 19
        }
      ],
      "source": [
        "sdf17_21.dtypes"
      ]
    },
    {
      "cell_type": "code",
      "execution_count": null,
      "metadata": {
        "id": "C4G0XbY6Vjg3"
      },
      "outputs": [],
      "source": [
        "# sdf17_21.sort(sdf17_21.fare_amount.desc()).show()"
      ]
    },
    {
      "cell_type": "code",
      "source": [
        "sdf17_21 = sdf17_21.filter((sdf17_21.tpep_pickup_datetime.like(\"2017%\")) | (sdf17_21.tpep_pickup_datetime.like(\"2018%\")) | (sdf17_21.tpep_pickup_datetime.like(\"2019%\")))"
      ],
      "metadata": {
        "id": "e5s7qvBaSPMr"
      },
      "execution_count": null,
      "outputs": []
    },
    {
      "cell_type": "code",
      "source": [
        "# sdf17_21.describe().show()"
      ],
      "metadata": {
        "id": "xjrI_IO7PhM-"
      },
      "execution_count": null,
      "outputs": []
    },
    {
      "cell_type": "markdown",
      "source": [
        "## Regression 🍭 fare_amount"
      ],
      "metadata": {
        "id": "hGjkRRriF4V_"
      }
    },
    {
      "cell_type": "code",
      "source": [
        "cols = ['passenger_count','RatecodeID','trip_distance','Hours','Month','tip_amount','tolls_amount','total_amount']\n",
        "for col_name in cols:\n",
        "    sdf17_21 = sdf17_21.filter(col(col_name).isNotNull())\n",
        "    print(col_name)"
      ],
      "metadata": {
        "colab": {
          "base_uri": "https://localhost:8080/"
        },
        "id": "Nt2vynt6eF7f",
        "outputId": "32d06083-6b57-4be2-a20a-e75959fb8f49"
      },
      "execution_count": null,
      "outputs": [
        {
          "output_type": "stream",
          "name": "stdout",
          "text": [
            "passenger_count\n",
            "RatecodeID\n",
            "trip_distance\n",
            "Hours\n",
            "Month\n",
            "tip_amount\n",
            "tolls_amount\n",
            "total_amount\n"
          ]
        }
      ]
    },
    {
      "cell_type": "code",
      "source": [
        "sdf17_21 = sdf17_21.na.fill(value=0,subset=[\"airport_fee\"])"
      ],
      "metadata": {
        "id": "ODE-v6lzLu17"
      },
      "execution_count": null,
      "outputs": []
    },
    {
      "cell_type": "code",
      "source": [
        "sdf17_21.select(col('airport_fee')).show()"
      ],
      "metadata": {
        "id": "23oUrTFyMpqJ",
        "colab": {
          "base_uri": "https://localhost:8080/"
        },
        "outputId": "8695bed9-850b-49e1-d450-a78bb3c81562"
      },
      "execution_count": null,
      "outputs": [
        {
          "output_type": "stream",
          "name": "stdout",
          "text": [
            "+-----------+\n",
            "|airport_fee|\n",
            "+-----------+\n",
            "|        0.0|\n",
            "|        0.0|\n",
            "|        0.0|\n",
            "|        0.0|\n",
            "|        0.0|\n",
            "|        0.0|\n",
            "|        0.0|\n",
            "|        0.0|\n",
            "|        0.0|\n",
            "|        0.0|\n",
            "|        0.0|\n",
            "|        0.0|\n",
            "|        0.0|\n",
            "|        0.0|\n",
            "|        0.0|\n",
            "|        0.0|\n",
            "|        0.0|\n",
            "|        0.0|\n",
            "|        0.0|\n",
            "|        0.0|\n",
            "+-----------+\n",
            "only showing top 20 rows\n",
            "\n"
          ]
        }
      ]
    },
    {
      "cell_type": "code",
      "source": [
        "spark = SparkSession.builder.appName(\"lin_reg\").getOrCreate()"
      ],
      "metadata": {
        "id": "lF6FMI0-F_nu"
      },
      "execution_count": null,
      "outputs": []
    },
    {
      "cell_type": "code",
      "source": [
        "sdf17_21.printSchema()"
      ],
      "metadata": {
        "id": "TMj2pKrnOXQb",
        "colab": {
          "base_uri": "https://localhost:8080/"
        },
        "outputId": "6e8453b3-1bae-4b5d-c779-0cff13a51ed4"
      },
      "execution_count": null,
      "outputs": [
        {
          "output_type": "stream",
          "name": "stdout",
          "text": [
            "root\n",
            " |-- VendorID: string (nullable = true)\n",
            " |-- tpep_pickup_datetime: timestamp (nullable = true)\n",
            " |-- tpep_dropoff_datetime: timestamp (nullable = true)\n",
            " |-- passenger_count: double (nullable = true)\n",
            " |-- trip_distance: double (nullable = true)\n",
            " |-- RatecodeID: double (nullable = true)\n",
            " |-- store_and_fwd_flag: string (nullable = true)\n",
            " |-- PULocationID: double (nullable = true)\n",
            " |-- DOLocationID: double (nullable = true)\n",
            " |-- payment_type: string (nullable = true)\n",
            " |-- fare_amount: double (nullable = true)\n",
            " |-- extra: double (nullable = true)\n",
            " |-- mta_tax: double (nullable = true)\n",
            " |-- tip_amount: double (nullable = true)\n",
            " |-- tolls_amount: double (nullable = true)\n",
            " |-- improvement_surcharge: double (nullable = true)\n",
            " |-- total_amount: double (nullable = true)\n",
            " |-- congestion_surcharge: double (nullable = true)\n",
            " |-- airport_fee: double (nullable = false)\n",
            " |-- elapsed_time: timestamp (nullable = true)\n",
            " |-- avg_speed: double (nullable = true)\n",
            " |-- Weekday_pu: string (nullable = true)\n",
            " |-- Hours: double (nullable = true)\n",
            " |-- Month: double (nullable = true)\n",
            " |-- Yeah: double (nullable = true)\n",
            "\n"
          ]
        }
      ]
    },
    {
      "cell_type": "code",
      "source": [
        "sdf17_21.head()"
      ],
      "metadata": {
        "id": "fYhcYMGtOiCm",
        "colab": {
          "base_uri": "https://localhost:8080/"
        },
        "outputId": "d95a3927-9d57-46e5-b9b8-f42659fa977f"
      },
      "execution_count": null,
      "outputs": [
        {
          "output_type": "execute_result",
          "data": {
            "text/plain": [
              "Row(VendorID='1.0', tpep_pickup_datetime=datetime.datetime(2017, 1, 1, 0, 36, 42), tpep_dropoff_datetime=datetime.datetime(2017, 1, 1, 0, 41, 9), passenger_count=1.0, trip_distance=1.1, RatecodeID=1.0, store_and_fwd_flag='N', PULocationID=41.0, DOLocationID=42.0, payment_type='2.0', fare_amount=6.0, extra=0.5, mta_tax=0.5, tip_amount=0.0, tolls_amount=0.0, improvement_surcharge=0.3, total_amount=7.3, congestion_surcharge=None, airport_fee=0.0, elapsed_time=None, avg_speed=0.24719101123595508, Weekday_pu='6.0', Hours=0.0, Month=1.0, Yeah=2017.0)"
            ]
          },
          "metadata": {},
          "execution_count": 28
        }
      ]
    },
    {
      "cell_type": "markdown",
      "source": [
        "### Setup"
      ],
      "metadata": {
        "id": "epsAEsoTOxwL"
      }
    },
    {
      "cell_type": "code",
      "source": [
        "from pyspark.ml.linalg import Vectors\n",
        "from pyspark.ml.feature import VectorAssembler"
      ],
      "metadata": {
        "id": "I_rWZVV3O1bi"
      },
      "execution_count": null,
      "outputs": []
    },
    {
      "cell_type": "code",
      "source": [
        "sdf17_21.columns"
      ],
      "metadata": {
        "id": "C4Z-N9QwPJPT",
        "colab": {
          "base_uri": "https://localhost:8080/"
        },
        "outputId": "fb60a08f-844d-467b-c6c0-4bc867b6b351"
      },
      "execution_count": null,
      "outputs": [
        {
          "output_type": "execute_result",
          "data": {
            "text/plain": [
              "['VendorID',\n",
              " 'tpep_pickup_datetime',\n",
              " 'tpep_dropoff_datetime',\n",
              " 'passenger_count',\n",
              " 'trip_distance',\n",
              " 'RatecodeID',\n",
              " 'store_and_fwd_flag',\n",
              " 'PULocationID',\n",
              " 'DOLocationID',\n",
              " 'payment_type',\n",
              " 'fare_amount',\n",
              " 'extra',\n",
              " 'mta_tax',\n",
              " 'tip_amount',\n",
              " 'tolls_amount',\n",
              " 'improvement_surcharge',\n",
              " 'total_amount',\n",
              " 'congestion_surcharge',\n",
              " 'airport_fee',\n",
              " 'elapsed_time',\n",
              " 'avg_speed',\n",
              " 'Weekday_pu',\n",
              " 'Hours',\n",
              " 'Month',\n",
              " 'Yeah']"
            ]
          },
          "metadata": {},
          "execution_count": 30
        }
      ]
    },
    {
      "cell_type": "code",
      "source": [
        "coef_var = ['passenger_count','RatecodeID','trip_distance','Hours','Month','tip_amount','tolls_amount','total_amount','airport_fee']#\n",
        "assembler = VectorAssembler(inputCols= coef_var,\n",
        "                            outputCol='features')"
      ],
      "metadata": {
        "id": "mCDiXcByPQMI"
      },
      "execution_count": null,
      "outputs": []
    },
    {
      "cell_type": "code",
      "source": [
        "output = assembler.transform(sdf17_21)"
      ],
      "metadata": {
        "id": "CN2C4UW7QJ2n"
      },
      "execution_count": null,
      "outputs": []
    },
    {
      "cell_type": "code",
      "source": [
        "# output.show()"
      ],
      "metadata": {
        "id": "-5EnbgzCzhXQ"
      },
      "execution_count": null,
      "outputs": []
    },
    {
      "cell_type": "code",
      "source": [
        "final_df = output.select('features','fare_amount')"
      ],
      "metadata": {
        "id": "qdn9YertQimx"
      },
      "execution_count": null,
      "outputs": []
    },
    {
      "cell_type": "code",
      "source": [
        "final_df.show()"
      ],
      "metadata": {
        "id": "HMDBV3xGHH6j",
        "colab": {
          "base_uri": "https://localhost:8080/"
        },
        "outputId": "b5e07881-59d0-4588-8f80-c3a38cad21b5"
      },
      "execution_count": null,
      "outputs": [
        {
          "output_type": "stream",
          "name": "stdout",
          "text": [
            "+--------------------+-----------+\n",
            "|            features|fare_amount|\n",
            "+--------------------+-----------+\n",
            "|[1.0,1.0,1.1,0.0,...|        6.0|\n",
            "|[1.0,1.0,0.76,0.0...|        6.0|\n",
            "|[2.0,1.0,1.2,0.0,...|        8.0|\n",
            "|[3.0,1.0,2.7,0.0,...|       12.5|\n",
            "|[2.0,1.0,0.9,0.0,...|        7.0|\n",
            "|[4.0,1.0,4.1,0.0,...|       15.5|\n",
            "|[1.0,1.0,0.9,0.0,...|        8.0|\n",
            "|[1.0,1.0,3.0,0.0,...|       13.0|\n",
            "|[1.0,1.0,2.0,0.0,...|        8.5|\n",
            "|[1.0,1.0,1.9,0.0,...|       10.5|\n",
            "|[2.0,1.0,5.04,0.0...|       21.5|\n",
            "|[2.0,1.0,6.5,0.0,...|       23.0|\n",
            "|[1.0,1.0,2.6,0.0,...|       10.5|\n",
            "|[1.0,1.0,1.42,0.0...|        9.5|\n",
            "|[1.0,1.0,1.13,0.0...|        7.5|\n",
            "|[3.0,1.0,2.63,0.0...|       13.0|\n",
            "|[1.0,1.0,1.7,0.0,...|       11.0|\n",
            "|[1.0,1.0,5.5,0.0,...|       21.0|\n",
            "|[4.0,1.0,5.1,0.0,...|       17.5|\n",
            "|[1.0,1.0,1.2,0.0,...|        6.5|\n",
            "+--------------------+-----------+\n",
            "only showing top 20 rows\n",
            "\n"
          ]
        }
      ]
    },
    {
      "cell_type": "code",
      "source": [
        "train_data, test_data = final_df.randomSplit([0.7 , 0.3])"
      ],
      "metadata": {
        "id": "Qh7C_35CRBhJ"
      },
      "execution_count": null,
      "outputs": []
    },
    {
      "cell_type": "code",
      "source": [
        "train_data.describe().show()"
      ],
      "metadata": {
        "id": "fn9VPoWpQ00w",
        "colab": {
          "base_uri": "https://localhost:8080/"
        },
        "outputId": "9333556e-c083-47ce-898e-0257819de2d8"
      },
      "execution_count": null,
      "outputs": [
        {
          "output_type": "stream",
          "name": "stdout",
          "text": [
            "+-------+------------------+\n",
            "|summary|       fare_amount|\n",
            "+-------+------------------+\n",
            "|  count|           5015336|\n",
            "|   mean|13.059350799228511|\n",
            "| stddev|11.612112457287475|\n",
            "|    min|              0.01|\n",
            "|    max|             950.0|\n",
            "+-------+------------------+\n",
            "\n"
          ]
        }
      ]
    },
    {
      "cell_type": "code",
      "source": [
        "test_data.describe().show()"
      ],
      "metadata": {
        "id": "-Re5F-hiTR_5",
        "colab": {
          "base_uri": "https://localhost:8080/"
        },
        "outputId": "f1a1bada-169a-4b90-f47c-355facff48fd"
      },
      "execution_count": null,
      "outputs": [
        {
          "output_type": "stream",
          "name": "stdout",
          "text": [
            "+-------+------------------+\n",
            "|summary|       fare_amount|\n",
            "+-------+------------------+\n",
            "|  count|           2148194|\n",
            "|   mean|13.048143556866775|\n",
            "| stddev|11.632746989723298|\n",
            "|    min|              0.01|\n",
            "|    max|             825.0|\n",
            "+-------+------------------+\n",
            "\n"
          ]
        }
      ]
    },
    {
      "cell_type": "markdown",
      "source": [
        "### ML"
      ],
      "metadata": {
        "id": "13Gg3VfVYD48"
      }
    },
    {
      "cell_type": "code",
      "source": [
        "from pyspark.ml.regression import LinearRegression"
      ],
      "metadata": {
        "id": "gMMeD6fSTUR-"
      },
      "execution_count": null,
      "outputs": []
    },
    {
      "cell_type": "code",
      "source": [
        "lm = LinearRegression(labelCol='fare_amount')"
      ],
      "metadata": {
        "id": "hxsv9OGMTk2B"
      },
      "execution_count": null,
      "outputs": []
    },
    {
      "cell_type": "code",
      "source": [
        "model = lm.fit(train_data)"
      ],
      "metadata": {
        "id": "aSOYitOiTwl4"
      },
      "execution_count": null,
      "outputs": []
    },
    {
      "cell_type": "code",
      "source": [
        "pd.DataFrame({\"Coefficients\": model.coefficients},index=coef_var)"
      ],
      "metadata": {
        "id": "5Pnq8LetUEJa",
        "colab": {
          "base_uri": "https://localhost:8080/",
          "height": 332
        },
        "outputId": "a0166a58-a3e3-4f5c-a13b-e69ebf1b2b90"
      },
      "execution_count": null,
      "outputs": [
        {
          "output_type": "execute_result",
          "data": {
            "text/plain": [
              "                 Coefficients\n",
              "passenger_count      0.003207\n",
              "RatecodeID           0.499055\n",
              "trip_distance        0.111765\n",
              "Hours               -0.022947\n",
              "Month               -0.017342\n",
              "tip_amount          -0.970484\n",
              "tolls_amount        -0.948033\n",
              "total_amount         0.953487\n",
              "airport_fee          0.000000"
            ],
            "text/html": [
              "\n",
              "  <div id=\"df-f017c71f-f983-405f-8d74-87692a8dda07\">\n",
              "    <div class=\"colab-df-container\">\n",
              "      <div>\n",
              "<style scoped>\n",
              "    .dataframe tbody tr th:only-of-type {\n",
              "        vertical-align: middle;\n",
              "    }\n",
              "\n",
              "    .dataframe tbody tr th {\n",
              "        vertical-align: top;\n",
              "    }\n",
              "\n",
              "    .dataframe thead th {\n",
              "        text-align: right;\n",
              "    }\n",
              "</style>\n",
              "<table border=\"1\" class=\"dataframe\">\n",
              "  <thead>\n",
              "    <tr style=\"text-align: right;\">\n",
              "      <th></th>\n",
              "      <th>Coefficients</th>\n",
              "    </tr>\n",
              "  </thead>\n",
              "  <tbody>\n",
              "    <tr>\n",
              "      <th>passenger_count</th>\n",
              "      <td>0.003207</td>\n",
              "    </tr>\n",
              "    <tr>\n",
              "      <th>RatecodeID</th>\n",
              "      <td>0.499055</td>\n",
              "    </tr>\n",
              "    <tr>\n",
              "      <th>trip_distance</th>\n",
              "      <td>0.111765</td>\n",
              "    </tr>\n",
              "    <tr>\n",
              "      <th>Hours</th>\n",
              "      <td>-0.022947</td>\n",
              "    </tr>\n",
              "    <tr>\n",
              "      <th>Month</th>\n",
              "      <td>-0.017342</td>\n",
              "    </tr>\n",
              "    <tr>\n",
              "      <th>tip_amount</th>\n",
              "      <td>-0.970484</td>\n",
              "    </tr>\n",
              "    <tr>\n",
              "      <th>tolls_amount</th>\n",
              "      <td>-0.948033</td>\n",
              "    </tr>\n",
              "    <tr>\n",
              "      <th>total_amount</th>\n",
              "      <td>0.953487</td>\n",
              "    </tr>\n",
              "    <tr>\n",
              "      <th>airport_fee</th>\n",
              "      <td>0.000000</td>\n",
              "    </tr>\n",
              "  </tbody>\n",
              "</table>\n",
              "</div>\n",
              "      <button class=\"colab-df-convert\" onclick=\"convertToInteractive('df-f017c71f-f983-405f-8d74-87692a8dda07')\"\n",
              "              title=\"Convert this dataframe to an interactive table.\"\n",
              "              style=\"display:none;\">\n",
              "        \n",
              "  <svg xmlns=\"http://www.w3.org/2000/svg\" height=\"24px\"viewBox=\"0 0 24 24\"\n",
              "       width=\"24px\">\n",
              "    <path d=\"M0 0h24v24H0V0z\" fill=\"none\"/>\n",
              "    <path d=\"M18.56 5.44l.94 2.06.94-2.06 2.06-.94-2.06-.94-.94-2.06-.94 2.06-2.06.94zm-11 1L8.5 8.5l.94-2.06 2.06-.94-2.06-.94L8.5 2.5l-.94 2.06-2.06.94zm10 10l.94 2.06.94-2.06 2.06-.94-2.06-.94-.94-2.06-.94 2.06-2.06.94z\"/><path d=\"M17.41 7.96l-1.37-1.37c-.4-.4-.92-.59-1.43-.59-.52 0-1.04.2-1.43.59L10.3 9.45l-7.72 7.72c-.78.78-.78 2.05 0 2.83L4 21.41c.39.39.9.59 1.41.59.51 0 1.02-.2 1.41-.59l7.78-7.78 2.81-2.81c.8-.78.8-2.07 0-2.86zM5.41 20L4 18.59l7.72-7.72 1.47 1.35L5.41 20z\"/>\n",
              "  </svg>\n",
              "      </button>\n",
              "      \n",
              "  <style>\n",
              "    .colab-df-container {\n",
              "      display:flex;\n",
              "      flex-wrap:wrap;\n",
              "      gap: 12px;\n",
              "    }\n",
              "\n",
              "    .colab-df-convert {\n",
              "      background-color: #E8F0FE;\n",
              "      border: none;\n",
              "      border-radius: 50%;\n",
              "      cursor: pointer;\n",
              "      display: none;\n",
              "      fill: #1967D2;\n",
              "      height: 32px;\n",
              "      padding: 0 0 0 0;\n",
              "      width: 32px;\n",
              "    }\n",
              "\n",
              "    .colab-df-convert:hover {\n",
              "      background-color: #E2EBFA;\n",
              "      box-shadow: 0px 1px 2px rgba(60, 64, 67, 0.3), 0px 1px 3px 1px rgba(60, 64, 67, 0.15);\n",
              "      fill: #174EA6;\n",
              "    }\n",
              "\n",
              "    [theme=dark] .colab-df-convert {\n",
              "      background-color: #3B4455;\n",
              "      fill: #D2E3FC;\n",
              "    }\n",
              "\n",
              "    [theme=dark] .colab-df-convert:hover {\n",
              "      background-color: #434B5C;\n",
              "      box-shadow: 0px 1px 3px 1px rgba(0, 0, 0, 0.15);\n",
              "      filter: drop-shadow(0px 1px 2px rgba(0, 0, 0, 0.3));\n",
              "      fill: #FFFFFF;\n",
              "    }\n",
              "  </style>\n",
              "\n",
              "      <script>\n",
              "        const buttonEl =\n",
              "          document.querySelector('#df-f017c71f-f983-405f-8d74-87692a8dda07 button.colab-df-convert');\n",
              "        buttonEl.style.display =\n",
              "          google.colab.kernel.accessAllowed ? 'block' : 'none';\n",
              "\n",
              "        async function convertToInteractive(key) {\n",
              "          const element = document.querySelector('#df-f017c71f-f983-405f-8d74-87692a8dda07');\n",
              "          const dataTable =\n",
              "            await google.colab.kernel.invokeFunction('convertToInteractive',\n",
              "                                                     [key], {});\n",
              "          if (!dataTable) return;\n",
              "\n",
              "          const docLinkHtml = 'Like what you see? Visit the ' +\n",
              "            '<a target=\"_blank\" href=https://colab.research.google.com/notebooks/data_table.ipynb>data table notebook</a>'\n",
              "            + ' to learn more about interactive tables.';\n",
              "          element.innerHTML = '';\n",
              "          dataTable['output_type'] = 'display_data';\n",
              "          await google.colab.output.renderOutput(dataTable, element);\n",
              "          const docLink = document.createElement('div');\n",
              "          docLink.innerHTML = docLinkHtml;\n",
              "          element.appendChild(docLink);\n",
              "        }\n",
              "      </script>\n",
              "    </div>\n",
              "  </div>\n",
              "  "
            ]
          },
          "metadata": {},
          "execution_count": 42
        }
      ]
    },
    {
      "cell_type": "code",
      "source": [
        "res = model.evaluate(test_data)"
      ],
      "metadata": {
        "id": "DkBai7dGUz6r"
      },
      "execution_count": null,
      "outputs": []
    },
    {
      "cell_type": "code",
      "source": [
        "res.residuals.show()"
      ],
      "metadata": {
        "id": "NJLA_5GNU99Z",
        "colab": {
          "base_uri": "https://localhost:8080/"
        },
        "outputId": "ca132e0e-d47f-4981-cff5-0d68acc77b3d"
      },
      "execution_count": null,
      "outputs": [
        {
          "output_type": "stream",
          "name": "stdout",
          "text": [
            "+--------------------+\n",
            "|           residuals|\n",
            "+--------------------+\n",
            "| -0.2878785334944354|\n",
            "| -0.2878785334944354|\n",
            "| -0.2878785334944354|\n",
            "|-0.26462179386139617|\n",
            "|-0.14833809569620193|\n",
            "|0.015508973898022749|\n",
            "| -0.2705369823221533|\n",
            "| -0.2705369823221533|\n",
            "| -0.2705369823221533|\n",
            "| -0.2705369823221533|\n",
            "| -0.2705369823221533|\n",
            "| -0.2705369823221533|\n",
            "| -0.2705369823221533|\n",
            "|-0.24728024268911497|\n",
            "|-0.20076676342303656|\n",
            "| -0.0379695859917657|\n",
            "| 0.12482759143950517|\n",
            "| -0.2531954311498721|\n",
            "| -0.2531954311498721|\n",
            "| -0.2531954311498721|\n",
            "+--------------------+\n",
            "only showing top 20 rows\n",
            "\n"
          ]
        }
      ]
    },
    {
      "cell_type": "code",
      "source": [
        "unlabeled_data = test_data.select('features')"
      ],
      "metadata": {
        "id": "L0DwwnULVGEQ"
      },
      "execution_count": null,
      "outputs": []
    },
    {
      "cell_type": "code",
      "source": [
        "predictions = model.transform(unlabeled_data)"
      ],
      "metadata": {
        "id": "BI_qsh5jVWKb"
      },
      "execution_count": null,
      "outputs": []
    },
    {
      "cell_type": "code",
      "source": [
        "predictions.show()"
      ],
      "metadata": {
        "id": "MQZdzNu1VhU-",
        "colab": {
          "base_uri": "https://localhost:8080/"
        },
        "outputId": "37e009ea-82dc-43a5-e84e-24204252f06f"
      },
      "execution_count": null,
      "outputs": [
        {
          "output_type": "stream",
          "name": "stdout",
          "text": [
            "+--------------------+------------------+\n",
            "|            features|        prediction|\n",
            "+--------------------+------------------+\n",
            "|(9,[0,1,4,7],[1.0...|2.7878785334944354|\n",
            "|(9,[0,1,4,7],[1.0...|2.7878785334944354|\n",
            "|(9,[0,1,4,7],[1.0...|2.7878785334944354|\n",
            "|(9,[0,1,4,7],[1.0...| 3.264621793861396|\n",
            "|(9,[0,1,4,7],[1.0...| 5.648338095696202|\n",
            "|(9,[0,1,4,7],[1.0...|2.4844910261019773|\n",
            "|(9,[0,1,4,7],[1.0...|2.7705369823221533|\n",
            "|(9,[0,1,4,7],[1.0...|2.7705369823221533|\n",
            "|(9,[0,1,4,7],[1.0...|2.7705369823221533|\n",
            "|(9,[0,1,4,7],[1.0...|2.7705369823221533|\n",
            "|(9,[0,1,4,7],[1.0...|2.7705369823221533|\n",
            "|(9,[0,1,4,7],[1.0...|2.7705369823221533|\n",
            "|(9,[0,1,4,7],[1.0...|2.7705369823221533|\n",
            "|(9,[0,1,4,7],[1.0...| 3.247280242689115|\n",
            "|(9,[0,1,4,7],[1.0...| 4.200766763423037|\n",
            "|(9,[0,1,4,7],[1.0...| 7.537969585991766|\n",
            "|(9,[0,1,4,7],[1.0...|10.875172408560495|\n",
            "|(9,[0,1,4,7],[1.0...| 2.753195431149872|\n",
            "|(9,[0,1,4,7],[1.0...| 2.753195431149872|\n",
            "|(9,[0,1,4,7],[1.0...| 2.753195431149872|\n",
            "+--------------------+------------------+\n",
            "only showing top 20 rows\n",
            "\n"
          ]
        }
      ]
    },
    {
      "cell_type": "code",
      "source": [
        "print(\"Predict(Y) : fare_amount\")\n",
        "print(f\"MAE: {res.meanAbsoluteError}\")\n",
        "print(f\"MSE: {res.meanSquaredError}\")\n",
        "print(f\"RMSE: {res.rootMeanSquaredError}\")\n",
        "print(f\"R2: {res.r2}\")\n",
        "print(f\"Adj R2: {res.r2adj}\")"
      ],
      "metadata": {
        "id": "eF6qm78SVkn7",
        "colab": {
          "base_uri": "https://localhost:8080/"
        },
        "outputId": "86d9b356-1bce-4c93-ee70-7202d1fd5a6b"
      },
      "execution_count": null,
      "outputs": [
        {
          "output_type": "stream",
          "name": "stdout",
          "text": [
            "Predict(Y) : fare_amount\n",
            "MAE: 0.7933769201894358\n",
            "MSE: 1.0968690538178414\n",
            "RMSE: 1.0473151645124983\n",
            "R2: 0.9918943019555293\n",
            "Adj R2: 0.9918942679960163\n"
          ]
        }
      ]
    },
    {
      "cell_type": "markdown",
      "source": [
        "1:\n",
        "MAE: 2.230004433045777\n",
        "MSE: 20.989179641742247\n",
        "RMSE: 4.58139494496406\n",
        "R2: 0.8455625894751577\n",
        "Adj R2: 0.8455622524558547"
      ],
      "metadata": {
        "id": "iNmd6uL7L02P"
      }
    },
    {
      "cell_type": "markdown",
      "source": [
        "2:\n",
        "MAE: 0.8914492005031478\n",
        "MSE: 1.2601265040252134\n",
        "RMSE: 1.1225535639893596\n",
        "R2: 0.9907080553534461\n",
        "Adj R2: 0.990708022916966"
      ],
      "metadata": {
        "id": "vOyVSqfyc58W"
      }
    },
    {
      "cell_type": "markdown",
      "source": [
        "3:No RateCodeID\n",
        "MAE: 0.8964084029203027\n",
        "MSE: 1.2790538334690567\n",
        "RMSE: 1.130952622115116\n",
        "R2: 0.9904837479377111\n",
        "Adj R2: 0.9904837188512078"
      ],
      "metadata": {
        "id": "PB9KDBawf8yf"
      }
    },
    {
      "cell_type": "markdown",
      "source": [
        "### **Plot Graph**"
      ],
      "metadata": {
        "id": "qGNJD9PVbPsR"
      }
    },
    {
      "cell_type": "code",
      "source": [
        "predictions.show() ,\n",
        "train_data.show()"
      ],
      "metadata": {
        "id": "NcnIZUhKb2aR",
        "colab": {
          "base_uri": "https://localhost:8080/"
        },
        "outputId": "6c111f4a-c475-49e4-da86-e207a09e7ae6"
      },
      "execution_count": null,
      "outputs": [
        {
          "output_type": "stream",
          "name": "stdout",
          "text": [
            "+--------------------+------------------+\n",
            "|            features|        prediction|\n",
            "+--------------------+------------------+\n",
            "|(9,[0,1,4,7],[1.0...|2.7878785334944354|\n",
            "|(9,[0,1,4,7],[1.0...|2.7878785334944354|\n",
            "|(9,[0,1,4,7],[1.0...|2.7878785334944354|\n",
            "|(9,[0,1,4,7],[1.0...| 3.264621793861396|\n",
            "|(9,[0,1,4,7],[1.0...| 5.648338095696202|\n",
            "|(9,[0,1,4,7],[1.0...|2.4844910261019773|\n",
            "|(9,[0,1,4,7],[1.0...|2.7705369823221533|\n",
            "|(9,[0,1,4,7],[1.0...|2.7705369823221533|\n",
            "|(9,[0,1,4,7],[1.0...|2.7705369823221533|\n",
            "|(9,[0,1,4,7],[1.0...|2.7705369823221533|\n",
            "|(9,[0,1,4,7],[1.0...|2.7705369823221533|\n",
            "|(9,[0,1,4,7],[1.0...|2.7705369823221533|\n",
            "|(9,[0,1,4,7],[1.0...|2.7705369823221533|\n",
            "|(9,[0,1,4,7],[1.0...| 3.247280242689115|\n",
            "|(9,[0,1,4,7],[1.0...| 4.200766763423037|\n",
            "|(9,[0,1,4,7],[1.0...| 7.537969585991766|\n",
            "|(9,[0,1,4,7],[1.0...|10.875172408560495|\n",
            "|(9,[0,1,4,7],[1.0...| 2.753195431149872|\n",
            "|(9,[0,1,4,7],[1.0...| 2.753195431149872|\n",
            "|(9,[0,1,4,7],[1.0...| 2.753195431149872|\n",
            "+--------------------+------------------+\n",
            "only showing top 20 rows\n",
            "\n",
            "+--------------------+-----------+\n",
            "|            features|fare_amount|\n",
            "+--------------------+-----------+\n",
            "|(9,[0,1,4,7],[1.0...|        2.5|\n",
            "|(9,[0,1,4,7],[1.0...|        2.5|\n",
            "|(9,[0,1,4,7],[1.0...|        2.5|\n",
            "|(9,[0,1,4,7],[1.0...|        2.5|\n",
            "|(9,[0,1,4,7],[1.0...|        2.5|\n",
            "|(9,[0,1,4,7],[1.0...|        2.5|\n",
            "|(9,[0,1,4,7],[1.0...|        2.5|\n",
            "|(9,[0,1,4,7],[1.0...|        2.5|\n",
            "|(9,[0,1,4,7],[1.0...|        2.5|\n",
            "|(9,[0,1,4,7],[1.0...|        2.5|\n",
            "|(9,[0,1,4,7],[1.0...|        2.5|\n",
            "|(9,[0,1,4,7],[1.0...|        2.5|\n",
            "|(9,[0,1,4,7],[1.0...|        2.5|\n",
            "|(9,[0,1,4,7],[1.0...|        2.5|\n",
            "|(9,[0,1,4,7],[1.0...|        7.0|\n",
            "|(9,[0,1,4,7],[1.0...|        7.0|\n",
            "|(9,[0,1,4,7],[1.0...|        2.5|\n",
            "|(9,[0,1,4,7],[1.0...|        2.5|\n",
            "|(9,[0,1,4,7],[1.0...|        2.5|\n",
            "|(9,[0,1,4,7],[1.0...|        2.5|\n",
            "+--------------------+-----------+\n",
            "only showing top 20 rows\n",
            "\n"
          ]
        }
      ]
    },
    {
      "cell_type": "code",
      "source": [
        "from pyspark.sql.functions import udf, col\n",
        "from pyspark.sql.types import ArrayType, DoubleType\n",
        "\n",
        "def to_array(col):\n",
        "    def to_array_(v):\n",
        "        return v.toArray().tolist()\n",
        "    # Important: asNondeterministic requires Spark 2.3 or later\n",
        "    # It can be safely removed i.e.\n",
        "    # return udf(to_array_, ArrayType(DoubleType()))(col)\n",
        "    # but at the cost of decreased performance\n",
        "    return udf(to_array_, ArrayType(DoubleType())).asNondeterministic()(col)\n",
        "\n",
        "predictions=(predictions\n",
        "    .withColumn(\"features\", to_array(col(\"features\")))\n",
        "    .select(col(\"prediction\")))\n",
        "\n",
        "predictions.show()"
      ],
      "metadata": {
        "id": "4RdkMx_Te9oF",
        "colab": {
          "base_uri": "https://localhost:8080/"
        },
        "outputId": "2f91453f-534f-4d91-c6de-e7f4558d0168"
      },
      "execution_count": null,
      "outputs": [
        {
          "output_type": "stream",
          "name": "stdout",
          "text": [
            "+------------------+\n",
            "|        prediction|\n",
            "+------------------+\n",
            "|2.7878785334944354|\n",
            "|2.7878785334944354|\n",
            "|2.7878785334944354|\n",
            "| 3.264621793861396|\n",
            "| 5.648338095696202|\n",
            "|2.4844910261019773|\n",
            "|2.7705369823221533|\n",
            "|2.7705369823221533|\n",
            "|2.7705369823221533|\n",
            "|2.7705369823221533|\n",
            "|2.7705369823221533|\n",
            "|2.7705369823221533|\n",
            "|2.7705369823221533|\n",
            "| 3.247280242689115|\n",
            "| 4.200766763423037|\n",
            "| 7.537969585991766|\n",
            "|10.875172408560495|\n",
            "| 2.753195431149872|\n",
            "| 2.753195431149872|\n",
            "| 2.753195431149872|\n",
            "+------------------+\n",
            "only showing top 20 rows\n",
            "\n"
          ]
        }
      ]
    },
    {
      "cell_type": "code",
      "source": [
        "test =(test_data\n",
        "    .withColumn(\"features\", to_array(col(\"features\")))\n",
        "    .select(col(\"fare_amount\")))\n",
        "test.show()"
      ],
      "metadata": {
        "id": "vqYZe4ApXkTx",
        "colab": {
          "base_uri": "https://localhost:8080/"
        },
        "outputId": "f05b48b0-a1f9-46d3-f731-5f8439bdf513"
      },
      "execution_count": null,
      "outputs": [
        {
          "output_type": "stream",
          "name": "stdout",
          "text": [
            "+-----------+\n",
            "|fare_amount|\n",
            "+-----------+\n",
            "|        2.5|\n",
            "|        2.5|\n",
            "|        2.5|\n",
            "|        3.0|\n",
            "|        5.5|\n",
            "|        2.5|\n",
            "|        2.5|\n",
            "|        2.5|\n",
            "|        2.5|\n",
            "|        2.5|\n",
            "|        2.5|\n",
            "|        2.5|\n",
            "|        2.5|\n",
            "|        3.0|\n",
            "|        4.0|\n",
            "|        7.5|\n",
            "|       11.0|\n",
            "|        2.5|\n",
            "|        2.5|\n",
            "|        2.5|\n",
            "+-----------+\n",
            "only showing top 20 rows\n",
            "\n"
          ]
        }
      ]
    },
    {
      "cell_type": "code",
      "source": [
        "dfpred = predictions.toPandas()\n",
        "dftest = test.toPandas()"
      ],
      "metadata": {
        "id": "G14_M1SslnJ1"
      },
      "execution_count": null,
      "outputs": []
    },
    {
      "cell_type": "code",
      "source": [
        "dfpred"
      ],
      "metadata": {
        "id": "2DgCsLQhU7do",
        "colab": {
          "base_uri": "https://localhost:8080/",
          "height": 424
        },
        "outputId": "0975184a-7294-4fb3-973b-cc8082888e0e"
      },
      "execution_count": null,
      "outputs": [
        {
          "output_type": "execute_result",
          "data": {
            "text/plain": [
              "         prediction\n",
              "0          2.787879\n",
              "1          2.787879\n",
              "2          2.787879\n",
              "3          3.264622\n",
              "4          5.648338\n",
              "...             ...\n",
              "2148189   63.288545\n",
              "2148190   59.051919\n",
              "2148191   64.822115\n",
              "2148192   73.005936\n",
              "2148193   86.510180\n",
              "\n",
              "[2148194 rows x 1 columns]"
            ],
            "text/html": [
              "\n",
              "  <div id=\"df-3dab78d6-bc2a-498e-beea-6a5c28e9112f\">\n",
              "    <div class=\"colab-df-container\">\n",
              "      <div>\n",
              "<style scoped>\n",
              "    .dataframe tbody tr th:only-of-type {\n",
              "        vertical-align: middle;\n",
              "    }\n",
              "\n",
              "    .dataframe tbody tr th {\n",
              "        vertical-align: top;\n",
              "    }\n",
              "\n",
              "    .dataframe thead th {\n",
              "        text-align: right;\n",
              "    }\n",
              "</style>\n",
              "<table border=\"1\" class=\"dataframe\">\n",
              "  <thead>\n",
              "    <tr style=\"text-align: right;\">\n",
              "      <th></th>\n",
              "      <th>prediction</th>\n",
              "    </tr>\n",
              "  </thead>\n",
              "  <tbody>\n",
              "    <tr>\n",
              "      <th>0</th>\n",
              "      <td>2.787879</td>\n",
              "    </tr>\n",
              "    <tr>\n",
              "      <th>1</th>\n",
              "      <td>2.787879</td>\n",
              "    </tr>\n",
              "    <tr>\n",
              "      <th>2</th>\n",
              "      <td>2.787879</td>\n",
              "    </tr>\n",
              "    <tr>\n",
              "      <th>3</th>\n",
              "      <td>3.264622</td>\n",
              "    </tr>\n",
              "    <tr>\n",
              "      <th>4</th>\n",
              "      <td>5.648338</td>\n",
              "    </tr>\n",
              "    <tr>\n",
              "      <th>...</th>\n",
              "      <td>...</td>\n",
              "    </tr>\n",
              "    <tr>\n",
              "      <th>2148189</th>\n",
              "      <td>63.288545</td>\n",
              "    </tr>\n",
              "    <tr>\n",
              "      <th>2148190</th>\n",
              "      <td>59.051919</td>\n",
              "    </tr>\n",
              "    <tr>\n",
              "      <th>2148191</th>\n",
              "      <td>64.822115</td>\n",
              "    </tr>\n",
              "    <tr>\n",
              "      <th>2148192</th>\n",
              "      <td>73.005936</td>\n",
              "    </tr>\n",
              "    <tr>\n",
              "      <th>2148193</th>\n",
              "      <td>86.510180</td>\n",
              "    </tr>\n",
              "  </tbody>\n",
              "</table>\n",
              "<p>2148194 rows × 1 columns</p>\n",
              "</div>\n",
              "      <button class=\"colab-df-convert\" onclick=\"convertToInteractive('df-3dab78d6-bc2a-498e-beea-6a5c28e9112f')\"\n",
              "              title=\"Convert this dataframe to an interactive table.\"\n",
              "              style=\"display:none;\">\n",
              "        \n",
              "  <svg xmlns=\"http://www.w3.org/2000/svg\" height=\"24px\"viewBox=\"0 0 24 24\"\n",
              "       width=\"24px\">\n",
              "    <path d=\"M0 0h24v24H0V0z\" fill=\"none\"/>\n",
              "    <path d=\"M18.56 5.44l.94 2.06.94-2.06 2.06-.94-2.06-.94-.94-2.06-.94 2.06-2.06.94zm-11 1L8.5 8.5l.94-2.06 2.06-.94-2.06-.94L8.5 2.5l-.94 2.06-2.06.94zm10 10l.94 2.06.94-2.06 2.06-.94-2.06-.94-.94-2.06-.94 2.06-2.06.94z\"/><path d=\"M17.41 7.96l-1.37-1.37c-.4-.4-.92-.59-1.43-.59-.52 0-1.04.2-1.43.59L10.3 9.45l-7.72 7.72c-.78.78-.78 2.05 0 2.83L4 21.41c.39.39.9.59 1.41.59.51 0 1.02-.2 1.41-.59l7.78-7.78 2.81-2.81c.8-.78.8-2.07 0-2.86zM5.41 20L4 18.59l7.72-7.72 1.47 1.35L5.41 20z\"/>\n",
              "  </svg>\n",
              "      </button>\n",
              "      \n",
              "  <style>\n",
              "    .colab-df-container {\n",
              "      display:flex;\n",
              "      flex-wrap:wrap;\n",
              "      gap: 12px;\n",
              "    }\n",
              "\n",
              "    .colab-df-convert {\n",
              "      background-color: #E8F0FE;\n",
              "      border: none;\n",
              "      border-radius: 50%;\n",
              "      cursor: pointer;\n",
              "      display: none;\n",
              "      fill: #1967D2;\n",
              "      height: 32px;\n",
              "      padding: 0 0 0 0;\n",
              "      width: 32px;\n",
              "    }\n",
              "\n",
              "    .colab-df-convert:hover {\n",
              "      background-color: #E2EBFA;\n",
              "      box-shadow: 0px 1px 2px rgba(60, 64, 67, 0.3), 0px 1px 3px 1px rgba(60, 64, 67, 0.15);\n",
              "      fill: #174EA6;\n",
              "    }\n",
              "\n",
              "    [theme=dark] .colab-df-convert {\n",
              "      background-color: #3B4455;\n",
              "      fill: #D2E3FC;\n",
              "    }\n",
              "\n",
              "    [theme=dark] .colab-df-convert:hover {\n",
              "      background-color: #434B5C;\n",
              "      box-shadow: 0px 1px 3px 1px rgba(0, 0, 0, 0.15);\n",
              "      filter: drop-shadow(0px 1px 2px rgba(0, 0, 0, 0.3));\n",
              "      fill: #FFFFFF;\n",
              "    }\n",
              "  </style>\n",
              "\n",
              "      <script>\n",
              "        const buttonEl =\n",
              "          document.querySelector('#df-3dab78d6-bc2a-498e-beea-6a5c28e9112f button.colab-df-convert');\n",
              "        buttonEl.style.display =\n",
              "          google.colab.kernel.accessAllowed ? 'block' : 'none';\n",
              "\n",
              "        async function convertToInteractive(key) {\n",
              "          const element = document.querySelector('#df-3dab78d6-bc2a-498e-beea-6a5c28e9112f');\n",
              "          const dataTable =\n",
              "            await google.colab.kernel.invokeFunction('convertToInteractive',\n",
              "                                                     [key], {});\n",
              "          if (!dataTable) return;\n",
              "\n",
              "          const docLinkHtml = 'Like what you see? Visit the ' +\n",
              "            '<a target=\"_blank\" href=https://colab.research.google.com/notebooks/data_table.ipynb>data table notebook</a>'\n",
              "            + ' to learn more about interactive tables.';\n",
              "          element.innerHTML = '';\n",
              "          dataTable['output_type'] = 'display_data';\n",
              "          await google.colab.output.renderOutput(dataTable, element);\n",
              "          const docLink = document.createElement('div');\n",
              "          docLink.innerHTML = docLinkHtml;\n",
              "          element.appendChild(docLink);\n",
              "        }\n",
              "      </script>\n",
              "    </div>\n",
              "  </div>\n",
              "  "
            ]
          },
          "metadata": {},
          "execution_count": 53
        }
      ]
    },
    {
      "cell_type": "code",
      "source": [
        "dftest"
      ],
      "metadata": {
        "id": "zgFKKyzrbEvY",
        "colab": {
          "base_uri": "https://localhost:8080/",
          "height": 424
        },
        "outputId": "c9dc782a-f5a7-43b3-8ddb-6cbd6826bcfc"
      },
      "execution_count": null,
      "outputs": [
        {
          "output_type": "execute_result",
          "data": {
            "text/plain": [
              "         fare_amount\n",
              "0                2.5\n",
              "1                2.5\n",
              "2                2.5\n",
              "3                3.0\n",
              "4                5.5\n",
              "...              ...\n",
              "2148189         65.0\n",
              "2148190         60.0\n",
              "2148191         62.0\n",
              "2148192         73.0\n",
              "2148193         89.0\n",
              "\n",
              "[2148194 rows x 1 columns]"
            ],
            "text/html": [
              "\n",
              "  <div id=\"df-7f66d60d-9f04-4192-91ca-d8d7c60c1a11\">\n",
              "    <div class=\"colab-df-container\">\n",
              "      <div>\n",
              "<style scoped>\n",
              "    .dataframe tbody tr th:only-of-type {\n",
              "        vertical-align: middle;\n",
              "    }\n",
              "\n",
              "    .dataframe tbody tr th {\n",
              "        vertical-align: top;\n",
              "    }\n",
              "\n",
              "    .dataframe thead th {\n",
              "        text-align: right;\n",
              "    }\n",
              "</style>\n",
              "<table border=\"1\" class=\"dataframe\">\n",
              "  <thead>\n",
              "    <tr style=\"text-align: right;\">\n",
              "      <th></th>\n",
              "      <th>fare_amount</th>\n",
              "    </tr>\n",
              "  </thead>\n",
              "  <tbody>\n",
              "    <tr>\n",
              "      <th>0</th>\n",
              "      <td>2.5</td>\n",
              "    </tr>\n",
              "    <tr>\n",
              "      <th>1</th>\n",
              "      <td>2.5</td>\n",
              "    </tr>\n",
              "    <tr>\n",
              "      <th>2</th>\n",
              "      <td>2.5</td>\n",
              "    </tr>\n",
              "    <tr>\n",
              "      <th>3</th>\n",
              "      <td>3.0</td>\n",
              "    </tr>\n",
              "    <tr>\n",
              "      <th>4</th>\n",
              "      <td>5.5</td>\n",
              "    </tr>\n",
              "    <tr>\n",
              "      <th>...</th>\n",
              "      <td>...</td>\n",
              "    </tr>\n",
              "    <tr>\n",
              "      <th>2148189</th>\n",
              "      <td>65.0</td>\n",
              "    </tr>\n",
              "    <tr>\n",
              "      <th>2148190</th>\n",
              "      <td>60.0</td>\n",
              "    </tr>\n",
              "    <tr>\n",
              "      <th>2148191</th>\n",
              "      <td>62.0</td>\n",
              "    </tr>\n",
              "    <tr>\n",
              "      <th>2148192</th>\n",
              "      <td>73.0</td>\n",
              "    </tr>\n",
              "    <tr>\n",
              "      <th>2148193</th>\n",
              "      <td>89.0</td>\n",
              "    </tr>\n",
              "  </tbody>\n",
              "</table>\n",
              "<p>2148194 rows × 1 columns</p>\n",
              "</div>\n",
              "      <button class=\"colab-df-convert\" onclick=\"convertToInteractive('df-7f66d60d-9f04-4192-91ca-d8d7c60c1a11')\"\n",
              "              title=\"Convert this dataframe to an interactive table.\"\n",
              "              style=\"display:none;\">\n",
              "        \n",
              "  <svg xmlns=\"http://www.w3.org/2000/svg\" height=\"24px\"viewBox=\"0 0 24 24\"\n",
              "       width=\"24px\">\n",
              "    <path d=\"M0 0h24v24H0V0z\" fill=\"none\"/>\n",
              "    <path d=\"M18.56 5.44l.94 2.06.94-2.06 2.06-.94-2.06-.94-.94-2.06-.94 2.06-2.06.94zm-11 1L8.5 8.5l.94-2.06 2.06-.94-2.06-.94L8.5 2.5l-.94 2.06-2.06.94zm10 10l.94 2.06.94-2.06 2.06-.94-2.06-.94-.94-2.06-.94 2.06-2.06.94z\"/><path d=\"M17.41 7.96l-1.37-1.37c-.4-.4-.92-.59-1.43-.59-.52 0-1.04.2-1.43.59L10.3 9.45l-7.72 7.72c-.78.78-.78 2.05 0 2.83L4 21.41c.39.39.9.59 1.41.59.51 0 1.02-.2 1.41-.59l7.78-7.78 2.81-2.81c.8-.78.8-2.07 0-2.86zM5.41 20L4 18.59l7.72-7.72 1.47 1.35L5.41 20z\"/>\n",
              "  </svg>\n",
              "      </button>\n",
              "      \n",
              "  <style>\n",
              "    .colab-df-container {\n",
              "      display:flex;\n",
              "      flex-wrap:wrap;\n",
              "      gap: 12px;\n",
              "    }\n",
              "\n",
              "    .colab-df-convert {\n",
              "      background-color: #E8F0FE;\n",
              "      border: none;\n",
              "      border-radius: 50%;\n",
              "      cursor: pointer;\n",
              "      display: none;\n",
              "      fill: #1967D2;\n",
              "      height: 32px;\n",
              "      padding: 0 0 0 0;\n",
              "      width: 32px;\n",
              "    }\n",
              "\n",
              "    .colab-df-convert:hover {\n",
              "      background-color: #E2EBFA;\n",
              "      box-shadow: 0px 1px 2px rgba(60, 64, 67, 0.3), 0px 1px 3px 1px rgba(60, 64, 67, 0.15);\n",
              "      fill: #174EA6;\n",
              "    }\n",
              "\n",
              "    [theme=dark] .colab-df-convert {\n",
              "      background-color: #3B4455;\n",
              "      fill: #D2E3FC;\n",
              "    }\n",
              "\n",
              "    [theme=dark] .colab-df-convert:hover {\n",
              "      background-color: #434B5C;\n",
              "      box-shadow: 0px 1px 3px 1px rgba(0, 0, 0, 0.15);\n",
              "      filter: drop-shadow(0px 1px 2px rgba(0, 0, 0, 0.3));\n",
              "      fill: #FFFFFF;\n",
              "    }\n",
              "  </style>\n",
              "\n",
              "      <script>\n",
              "        const buttonEl =\n",
              "          document.querySelector('#df-7f66d60d-9f04-4192-91ca-d8d7c60c1a11 button.colab-df-convert');\n",
              "        buttonEl.style.display =\n",
              "          google.colab.kernel.accessAllowed ? 'block' : 'none';\n",
              "\n",
              "        async function convertToInteractive(key) {\n",
              "          const element = document.querySelector('#df-7f66d60d-9f04-4192-91ca-d8d7c60c1a11');\n",
              "          const dataTable =\n",
              "            await google.colab.kernel.invokeFunction('convertToInteractive',\n",
              "                                                     [key], {});\n",
              "          if (!dataTable) return;\n",
              "\n",
              "          const docLinkHtml = 'Like what you see? Visit the ' +\n",
              "            '<a target=\"_blank\" href=https://colab.research.google.com/notebooks/data_table.ipynb>data table notebook</a>'\n",
              "            + ' to learn more about interactive tables.';\n",
              "          element.innerHTML = '';\n",
              "          dataTable['output_type'] = 'display_data';\n",
              "          await google.colab.output.renderOutput(dataTable, element);\n",
              "          const docLink = document.createElement('div');\n",
              "          docLink.innerHTML = docLinkHtml;\n",
              "          element.appendChild(docLink);\n",
              "        }\n",
              "      </script>\n",
              "    </div>\n",
              "  </div>\n",
              "  "
            ]
          },
          "metadata": {},
          "execution_count": 54
        }
      ]
    },
    {
      "cell_type": "code",
      "source": [
        "fig, axs = plt.subplots(figsize = (12,7))\n",
        "axs.scatter(dftest, dfpred)"
      ],
      "metadata": {
        "id": "TpsCZC7Ievl6",
        "colab": {
          "base_uri": "https://localhost:8080/",
          "height": 445
        },
        "outputId": "b704d199-be98-48a8-bfff-4c438a3e8772"
      },
      "execution_count": null,
      "outputs": [
        {
          "output_type": "execute_result",
          "data": {
            "text/plain": [
              "<matplotlib.collections.PathCollection at 0x7f824aee0d00>"
            ]
          },
          "metadata": {},
          "execution_count": 55
        },
        {
          "output_type": "display_data",
          "data": {
            "text/plain": [
              "<Figure size 864x504 with 1 Axes>"
            ],
            "image/png": "[encoded data removed]"
          },
          "metadata": {
            "needs_background": "light"
          }
        }
      ]
    },
    {
      "cell_type": "markdown",
      "source": [
        "## K-means"
      ],
      "metadata": {
        "id": "oN8DD8kWfKX3"
      }
    },
    {
      "cell_type": "code",
      "source": [
        "cols =  ['passenger_count','RatecodeID','trip_distance','Hours','Month','tip_amount','tolls_amount','total_amount','fare_amount']\n",
        "for col_name in cols:\n",
        "    sdf17_21 = sdf17_21.filter(col(col_name).isNotNull())\n",
        "    print(col_name)"
      ],
      "metadata": {
        "id": "8gvm_iDGeKg-",
        "colab": {
          "base_uri": "https://localhost:8080/"
        },
        "outputId": "18d084be-5b10-4a72-9907-65d681acab66"
      },
      "execution_count": null,
      "outputs": [
        {
          "output_type": "stream",
          "name": "stdout",
          "text": [
            "passenger_count\n",
            "RatecodeID\n",
            "trip_distance\n",
            "Hours\n",
            "Month\n",
            "tip_amount\n",
            "tolls_amount\n",
            "total_amount\n",
            "fare_amount\n"
          ]
        }
      ]
    },
    {
      "cell_type": "code",
      "source": [
        "spark = SparkSession.builder.appName(\"sample_cluster\").getOrCreate()"
      ],
      "metadata": {
        "id": "g9fgNrnmoNrp"
      },
      "execution_count": null,
      "outputs": []
    },
    {
      "cell_type": "code",
      "source": [
        "from pyspark.ml.clustering import KMeans"
      ],
      "metadata": {
        "id": "uwXatW10pVTd"
      },
      "execution_count": null,
      "outputs": []
    },
    {
      "cell_type": "code",
      "source": [
        "# sdf17_21.describe().show()"
      ],
      "metadata": {
        "id": "3pd5bKpPqT25"
      },
      "execution_count": null,
      "outputs": []
    },
    {
      "cell_type": "code",
      "source": [
        "from pyspark.ml.linalg import Vectors\n",
        "from pyspark.ml.feature import VectorAssembler"
      ],
      "metadata": {
        "id": "c2PrBpb9vcfS"
      },
      "execution_count": null,
      "outputs": []
    },
    {
      "cell_type": "code",
      "source": [
        "coef_var = ['passenger_count','RatecodeID','trip_distance','Hours','Month','tip_amount','tolls_amount','total_amount','fare_amount']\n",
        "assembler = VectorAssembler(inputCols= coef_var,\n",
        "                            outputCol='features')"
      ],
      "metadata": {
        "id": "ZCT2usE4viNT"
      },
      "execution_count": null,
      "outputs": []
    },
    {
      "cell_type": "code",
      "source": [
        "output = assembler.transform(sdf17_21)"
      ],
      "metadata": {
        "id": "iQWotkCzv1R_"
      },
      "execution_count": null,
      "outputs": []
    },
    {
      "cell_type": "code",
      "source": [
        "final_df = output.select('features')"
      ],
      "metadata": {
        "id": "_eh-Tuyiv3yr"
      },
      "execution_count": null,
      "outputs": []
    },
    {
      "cell_type": "code",
      "source": [
        "final_df.show()"
      ],
      "metadata": {
        "id": "RoVsrM1Cv52P",
        "colab": {
          "base_uri": "https://localhost:8080/"
        },
        "outputId": "922d2905-3c98-4ddb-953d-403d3e4cd4da"
      },
      "execution_count": null,
      "outputs": [
        {
          "output_type": "stream",
          "name": "stdout",
          "text": [
            "+--------------------+\n",
            "|            features|\n",
            "+--------------------+\n",
            "|[1.0,1.0,1.1,0.0,...|\n",
            "|[1.0,1.0,0.76,0.0...|\n",
            "|[2.0,1.0,1.2,0.0,...|\n",
            "|[3.0,1.0,2.7,0.0,...|\n",
            "|[2.0,1.0,0.9,0.0,...|\n",
            "|[4.0,1.0,4.1,0.0,...|\n",
            "|[1.0,1.0,0.9,0.0,...|\n",
            "|[1.0,1.0,3.0,0.0,...|\n",
            "|[1.0,1.0,2.0,0.0,...|\n",
            "|[1.0,1.0,1.9,0.0,...|\n",
            "|[2.0,1.0,5.04,0.0...|\n",
            "|[2.0,1.0,6.5,0.0,...|\n",
            "|[1.0,1.0,2.6,0.0,...|\n",
            "|[1.0,1.0,1.42,0.0...|\n",
            "|[1.0,1.0,1.13,0.0...|\n",
            "|[3.0,1.0,2.63,0.0...|\n",
            "|[1.0,1.0,1.7,0.0,...|\n",
            "|[1.0,1.0,5.5,0.0,...|\n",
            "|[4.0,1.0,5.1,0.0,...|\n",
            "|[1.0,1.0,1.2,0.0,...|\n",
            "+--------------------+\n",
            "only showing top 20 rows\n",
            "\n"
          ]
        }
      ]
    },
    {
      "cell_type": "markdown",
      "source": [
        "### Scalling"
      ],
      "metadata": {
        "id": "sY4or1xHwYzx"
      }
    },
    {
      "cell_type": "code",
      "source": [
        "from pyspark.ml.feature import StandardScaler"
      ],
      "metadata": {
        "id": "aa0xqqURwcYf"
      },
      "execution_count": null,
      "outputs": []
    },
    {
      "cell_type": "code",
      "source": [
        "scaler = StandardScaler(inputCol='features',outputCol='scaledFeatures',withStd=True , withMean=False)"
      ],
      "metadata": {
        "id": "QHR8ttkvwuXA"
      },
      "execution_count": null,
      "outputs": []
    },
    {
      "cell_type": "code",
      "source": [
        "scaledModel = scaler.fit(final_df)\n",
        "# https://www.youtube.com/watch?v=9SfO9Khjklk&t=988s [at sec 19.57]"
      ],
      "metadata": {
        "id": "vLaS_MKqxUrB"
      },
      "execution_count": null,
      "outputs": []
    },
    {
      "cell_type": "code",
      "source": [
        "df_final = scaledModel.transform(final_df)"
      ],
      "metadata": {
        "id": "Ko0lrBFnxfFm"
      },
      "execution_count": null,
      "outputs": []
    },
    {
      "cell_type": "code",
      "source": [
        "df_final.show()"
      ],
      "metadata": {
        "id": "N9zHBrhWWzOY",
        "colab": {
          "base_uri": "https://localhost:8080/"
        },
        "outputId": "606345d7-9b07-46a0-d519-5697101db1c1"
      },
      "execution_count": null,
      "outputs": [
        {
          "output_type": "stream",
          "name": "stdout",
          "text": [
            "+--------------------+--------------------+\n",
            "|            features|      scaledFeatures|\n",
            "+--------------------+--------------------+\n",
            "|[1.0,1.0,1.1,0.0,...|[0.80519407436853...|\n",
            "|[1.0,1.0,0.76,0.0...|[0.80519407436853...|\n",
            "|[2.0,1.0,1.2,0.0,...|[1.61038814873707...|\n",
            "|[3.0,1.0,2.7,0.0,...|[2.41558222310561...|\n",
            "|[2.0,1.0,0.9,0.0,...|[1.61038814873707...|\n",
            "|[4.0,1.0,4.1,0.0,...|[3.22077629747415...|\n",
            "|[1.0,1.0,0.9,0.0,...|[0.80519407436853...|\n",
            "|[1.0,1.0,3.0,0.0,...|[0.80519407436853...|\n",
            "|[1.0,1.0,2.0,0.0,...|[0.80519407436853...|\n",
            "|[1.0,1.0,1.9,0.0,...|[0.80519407436853...|\n",
            "|[2.0,1.0,5.04,0.0...|[1.61038814873707...|\n",
            "|[2.0,1.0,6.5,0.0,...|[1.61038814873707...|\n",
            "|[1.0,1.0,2.6,0.0,...|[0.80519407436853...|\n",
            "|[1.0,1.0,1.42,0.0...|[0.80519407436853...|\n",
            "|[1.0,1.0,1.13,0.0...|[0.80519407436853...|\n",
            "|[3.0,1.0,2.63,0.0...|[2.41558222310561...|\n",
            "|[1.0,1.0,1.7,0.0,...|[0.80519407436853...|\n",
            "|[1.0,1.0,5.5,0.0,...|[0.80519407436853...|\n",
            "|[4.0,1.0,5.1,0.0,...|[3.22077629747415...|\n",
            "|[1.0,1.0,1.2,0.0,...|[0.80519407436853...|\n",
            "+--------------------+--------------------+\n",
            "only showing top 20 rows\n",
            "\n"
          ]
        }
      ]
    },
    {
      "cell_type": "markdown",
      "source": [
        "### Train and Eval"
      ],
      "metadata": {
        "id": "txg7Cm5DW_81"
      }
    },
    {
      "cell_type": "code",
      "source": [
        "kmeans = KMeans(featuresCol='scaledFeatures', k=2 ).setSeed(154)\n",
        "model = kmeans.fit(df_final)"
      ],
      "metadata": {
        "id": "h76Gj0bnXFAV"
      },
      "execution_count": null,
      "outputs": []
    },
    {
      "cell_type": "code",
      "source": [
        "pred = model.transform(df_final)"
      ],
      "metadata": {
        "id": "VfkLHZ8IXq82"
      },
      "execution_count": null,
      "outputs": []
    },
    {
      "cell_type": "code",
      "source": [
        "from pyspark.ml.evaluation import ClusteringEvaluator"
      ],
      "metadata": {
        "id": "xVHve8CvXzdJ"
      },
      "execution_count": null,
      "outputs": []
    },
    {
      "cell_type": "code",
      "source": [
        "eval = ClusteringEvaluator()"
      ],
      "metadata": {
        "id": "v6LcRO1oX7Sw"
      },
      "execution_count": null,
      "outputs": []
    },
    {
      "cell_type": "code",
      "source": [
        "silhouette = eval.evaluate(pred)\n",
        "print(f\"Silhouette with squared euclidean distance: {silhouette}\")"
      ],
      "metadata": {
        "id": "dUFgDZ3VYWlE",
        "colab": {
          "base_uri": "https://localhost:8080/"
        },
        "outputId": "54f5494c-774a-4e58-b191-40a78483b865"
      },
      "execution_count": null,
      "outputs": [
        {
          "output_type": "stream",
          "name": "stdout",
          "text": [
            "Silhouette with squared euclidean distance: 0.8867242110535813\n"
          ]
        }
      ]
    },
    {
      "cell_type": "code",
      "source": [
        "centers = model.clusterCenters()\n",
        "print(\"Cluster Centers:\")\n",
        "for center in centers:\n",
        "    print(center)"
      ],
      "metadata": {
        "id": "UyKvnQpOZK82",
        "colab": {
          "base_uri": "https://localhost:8080/"
        },
        "outputId": "0cd4c132-2c0d-46c0-f245-fe68a925bacb"
      },
      "execution_count": null,
      "outputs": [
        {
          "output_type": "stream",
          "name": "stdout",
          "text": [
            "Cluster Centers:\n",
            "[1.29821112 3.18516225 0.54549837 2.23311968 1.8028467  0.56697062\n",
            " 0.00969901 0.93914637 0.89673972]\n",
            "[1.32359045 4.95927278 3.49071791 2.22993057 1.84490724 2.6352357\n",
            " 2.23679619 3.93843377 3.78635056]\n"
          ]
        }
      ]
    },
    {
      "cell_type": "code",
      "source": [
        "# k=2 Silhourtte with squared euvlidean distance: 0.8871277623490175 Best k\n",
        "# k=3 Silhourtte with squared euvlidean distance: 0.8871246617171237\n",
        "# k=4 Silhourtte with squared euvlidean distance: 0.3592091404314106\n",
        "# k=5 Silhourtte with squared euvlidean distance: 0.3286864377220659"
      ],
      "metadata": {
        "id": "laCJQ85HwhCT"
      },
      "execution_count": null,
      "outputs": []
    },
    {
      "cell_type": "markdown",
      "source": [
        "### Plot K-means"
      ],
      "metadata": {
        "id": "JCj0a0cH4gAb"
      }
    },
    {
      "cell_type": "code",
      "source": [
        "pred.show()"
      ],
      "metadata": {
        "id": "2de7kuqA4luD",
        "colab": {
          "base_uri": "https://localhost:8080/"
        },
        "outputId": "cb678ac7-f7c5-4a62-bcc0-416ff371971a"
      },
      "execution_count": null,
      "outputs": [
        {
          "output_type": "stream",
          "name": "stdout",
          "text": [
            "+--------------------+--------------------+----------+\n",
            "|            features|      scaledFeatures|prediction|\n",
            "+--------------------+--------------------+----------+\n",
            "|[1.0,1.0,1.1,0.0,...|[0.80519407436853...|         0|\n",
            "|[1.0,1.0,0.76,0.0...|[0.80519407436853...|         0|\n",
            "|[2.0,1.0,1.2,0.0,...|[1.61038814873707...|         0|\n",
            "|[3.0,1.0,2.7,0.0,...|[2.41558222310561...|         0|\n",
            "|[2.0,1.0,0.9,0.0,...|[1.61038814873707...|         0|\n",
            "|[4.0,1.0,4.1,0.0,...|[3.22077629747415...|         0|\n",
            "|[1.0,1.0,0.9,0.0,...|[0.80519407436853...|         0|\n",
            "|[1.0,1.0,3.0,0.0,...|[0.80519407436853...|         0|\n",
            "|[1.0,1.0,2.0,0.0,...|[0.80519407436853...|         0|\n",
            "|[1.0,1.0,1.9,0.0,...|[0.80519407436853...|         0|\n",
            "|[2.0,1.0,5.04,0.0...|[1.61038814873707...|         0|\n",
            "|[2.0,1.0,6.5,0.0,...|[1.61038814873707...|         0|\n",
            "|[1.0,1.0,2.6,0.0,...|[0.80519407436853...|         0|\n",
            "|[1.0,1.0,1.42,0.0...|[0.80519407436853...|         0|\n",
            "|[1.0,1.0,1.13,0.0...|[0.80519407436853...|         0|\n",
            "|[3.0,1.0,2.63,0.0...|[2.41558222310561...|         0|\n",
            "|[1.0,1.0,1.7,0.0,...|[0.80519407436853...|         0|\n",
            "|[1.0,1.0,5.5,0.0,...|[0.80519407436853...|         0|\n",
            "|[4.0,1.0,5.1,0.0,...|[3.22077629747415...|         0|\n",
            "|[1.0,1.0,1.2,0.0,...|[0.80519407436853...|         0|\n",
            "+--------------------+--------------------+----------+\n",
            "only showing top 20 rows\n",
            "\n"
          ]
        }
      ]
    },
    {
      "cell_type": "code",
      "source": [
        "from pyspark.sql.functions import udf, col\n",
        "from pyspark.sql.types import ArrayType, DoubleType\n",
        "\n",
        "def to_array(col):\n",
        "    def to_array_(v):\n",
        "        return v.toArray().tolist()\n",
        "    # Important: asNondeterministic requires Spark 2.3 or later\n",
        "    # It can be safely removed i.e.\n",
        "    # return udf(to_array_, ArrayType(DoubleType()))(col)\n",
        "    # but at the cost of decreased performance\n",
        "    return udf(to_array_, ArrayType(DoubleType())).asNondeterministic()(col)\n",
        "lict = [0,2,7,8]\n",
        "plot=(pred\n",
        "    .withColumn(\"Features\", to_array(col(\"scaledFeatures\")))\n",
        "    .select([\"prediction\"] + [col(\"Features\")[i] for i in lict]))\n",
        "plot.show()\n"
      ],
      "metadata": {
        "id": "Gx0BwF1sA6O6",
        "colab": {
          "base_uri": "https://localhost:8080/"
        },
        "outputId": "755ea6e2-6aee-4c5d-8f02-ceced21f7420"
      },
      "execution_count": null,
      "outputs": [
        {
          "output_type": "stream",
          "name": "stdout",
          "text": [
            "+----------+------------------+-------------------+------------------+------------------+\n",
            "|prediction|       Features[0]|        Features[2]|       Features[7]|       Features[8]|\n",
            "+----------+------------------+-------------------+------------------+------------------+\n",
            "|         0|0.8051940743685394|0.29037087927538907|0.5063969490778323|0.5164264719033589|\n",
            "|         0|0.8051940743685394|0.20061988022663244|0.5063969490778323|0.5164264719033589|\n",
            "|         0|1.6103881487370788|0.31676823193678805| 0.853244174473608|0.6885686292044785|\n",
            "|         0| 2.415582223105618| 0.7127285218577731|0.9572983420923407|1.0758884831319977|\n",
            "|         0|1.6103881487370788|0.23757617395259104|0.6902259785375934|0.6024975505539186|\n",
            "|         0|3.2207762974741576| 1.0822914591173591| 1.398488012795767| 1.334101719083677|\n",
            "|         0|0.8051940743685394|0.23757617395259104|0.6451358392361426|0.6885686292044785|\n",
            "|         0|0.8051940743685394| 0.7919205798419702|1.1896859831075102|1.1189240224572776|\n",
            "|         0|0.8051940743685394| 0.5279470532279801|0.6798205617757201|0.7316041685297584|\n",
            "|         0|0.8051940743685394| 0.5015497005665811|1.0266677871714958| 0.903746325830878|\n",
            "|         0|1.6103881487370788| 1.3304265741345098|2.0561103521461574| 1.850528190987036|\n",
            "|         0|1.6103881487370788| 1.7158279229909352|2.0699842411619884|1.9796348089628757|\n",
            "|         0|0.8051940743685394| 0.6863311691963742|0.9815776478700449| 0.903746325830878|\n",
            "|         0|0.8051940743685394|0.37484240779186584|0.7491900068548752|0.8176752471803181|\n",
            "|         0|0.8051940743685394| 0.2982900850738087| 0.610451116696565|0.6455330898791986|\n",
            "|         0| 2.415582223105618| 0.6942503749947938|0.9919830646319182|1.1189240224572776|\n",
            "|         0|0.8051940743685394|0.44875499524378304| 1.023199314917538|0.9467818651561579|\n",
            "|         0|0.8051940743685394| 1.4518543963769452|1.5469386252651591| 1.807492651661756|\n",
            "|         0|3.2207762974741576| 1.3462649857313491|1.4428844576464264|1.5062438763847967|\n",
            "|         0|0.8051940743685394|0.31676823193678805|0.5410816716174098|0.5594620112286388|\n",
            "+----------+------------------+-------------------+------------------+------------------+\n",
            "only showing top 20 rows\n",
            "\n"
          ]
        }
      ]
    },
    {
      "cell_type": "code",
      "source": [
        "df = plot.toPandas()"
      ],
      "metadata": {
        "id": "8GPNFAWV_ZI_"
      },
      "execution_count": null,
      "outputs": []
    },
    {
      "cell_type": "code",
      "source": [
        "fig = plt.figure()\n",
        "ax = fig.add_subplot(111) #,projection='2d'\n",
        "\n",
        "classes = [0, 1, 2, 3, 4, 5, 6, 7, 8, 9]\n",
        "colors = ['b','indigo', 'c', 'k', 'g', 'm', 'w', 'r', 'y', 'lightgreen']\n",
        "\n",
        "for clas, color in zip(classes, colors):\n",
        "    ax.scatter(df.loc[df['prediction'] == clas, 'Features[0]'],\n",
        "               df.loc[df['prediction'] == clas, 'Features[8]'],)\n",
        "              #  df.loc[df['prediction'] == clas, 'Features[2]'],)\n",
        "\n",
        "ax.set_xlabel('Features1')\n",
        "ax.set_ylabel('Features3')\n",
        "# ax.set_zlabel('Features3')"
      ],
      "metadata": {
        "id": "B962JqZCHyef",
        "colab": {
          "base_uri": "https://localhost:8080/",
          "height": 296
        },
        "outputId": "08133ec9-eaf7-46c6-9f76-8367f0c3ff91"
      },
      "execution_count": null,
      "outputs": [
        {
          "output_type": "execute_result",
          "data": {
            "text/plain": [
              "Text(0, 0.5, 'Features3')"
            ]
          },
          "metadata": {},
          "execution_count": 80
        },
        {
          "output_type": "display_data",
          "data": {
            "text/plain": [
              "<Figure size 432x288 with 1 Axes>"
            ],
            "image/png": "[encoded data removed]"
          },
          "metadata": {
            "needs_background": "light"
          }
        }
      ]
    },
    {
      "cell_type": "code",
      "source": [
        "fig = plt.figure()\n",
        "ax = fig.add_subplot(111) #,projection='2d'\n",
        "\n",
        "classes = [0, 1, 2, 3, 4, 5, 6, 7, 8, 9]\n",
        "colors = ['indigo','b', 'c', 'k', 'g', 'm', 'w', 'r', 'y', 'lightgreen']\n",
        "\n",
        "for clas, color in zip(classes, colors):\n",
        "    ax.scatter(df.loc[df['prediction'] == clas, 'Features[2]'],\n",
        "               df.loc[df['prediction'] == clas, 'Features[8]'],)\n",
        "              #  df.loc[df['prediction'] == clas, 'Features[2]'],)\n",
        "\n",
        "ax.set_xlabel('X')\n",
        "ax.set_ylabel('Y')\n",
        "# ax.set_zlabel('Features3')"
      ],
      "metadata": {
        "id": "8MbKyOXHT_J4",
        "colab": {
          "base_uri": "https://localhost:8080/",
          "height": 296
        },
        "outputId": "e7893d58-4ee7-4847-b190-806382eb8a33"
      },
      "execution_count": null,
      "outputs": [
        {
          "output_type": "execute_result",
          "data": {
            "text/plain": [
              "Text(0, 0.5, 'Y')"
            ]
          },
          "metadata": {},
          "execution_count": 81
        },
        {
          "output_type": "display_data",
          "data": {
            "text/plain": [
              "<Figure size 432x288 with 1 Axes>"
            ],
            "image/png": "[encoded data removed]"
          },
          "metadata": {
            "needs_background": "light"
          }
        }
      ]
    },
    {
      "cell_type": "code",
      "source": [
        "fig = plt.figure()\n",
        "ax = fig.add_subplot(111) #,projection='2d'\n",
        "\n",
        "classes = [0, 1, 2, 3, 4, 5, 6, 7, 8, 9]\n",
        "colors = ['indigo','b', 'c', 'k', 'g', 'm', 'w', 'r', 'y', 'lightgreen']\n",
        "\n",
        "for clas, color in zip(classes, colors):\n",
        "    ax.scatter(df.loc[df['prediction'] == clas, 'Features[8]'],\n",
        "               df.loc[df['prediction'] == clas, 'Features[2]'],)\n",
        "            #    df.loc[df['prediction'] == clas, 'Features[1]'],)\n",
        "\n",
        "ax.set_xlabel('X')\n",
        "ax.set_ylabel('Y')\n",
        "# ax.set_zlabel('Features3')"
      ],
      "metadata": {
        "id": "IbzBGfDwiiUr",
        "colab": {
          "base_uri": "https://localhost:8080/",
          "height": 297
        },
        "outputId": "d4a57d5a-99a0-4a2e-bf85-e600afaebdf8"
      },
      "execution_count": null,
      "outputs": [
        {
          "output_type": "execute_result",
          "data": {
            "text/plain": [
              "Text(0, 0.5, 'Y')"
            ]
          },
          "metadata": {},
          "execution_count": 82
        },
        {
          "output_type": "display_data",
          "data": {
            "text/plain": [
              "<Figure size 432x288 with 1 Axes>"
            ],
            "image/png": "[encoded data removed]"
          },
          "metadata": {
            "needs_background": "light"
          }
        }
      ]
    },
    {
      "cell_type": "code",
      "source": [
        "fig = plt.figure()\n",
        "ax = fig.add_subplot(111) #,projection='2d'\n",
        "\n",
        "classes = [0, 1, 2, 3, 4, 5, 6, 7, 8, 9]\n",
        "colors = ['b','indigo', 'c', 'k', 'g', 'm', 'w', 'r', 'y', 'lightgreen']\n",
        "\n",
        "for clas, color in zip(classes, colors):\n",
        "    ax.scatter(df.loc[df['prediction'] == clas, 'Features[7]'],\n",
        "               df.loc[df['prediction'] == clas, 'Features[8]'],)\n",
        "              #  df.loc[df['prediction'] == clas, 'Features[2]'],)\n",
        "\n",
        "ax.set_xlabel('Features1')\n",
        "ax.set_ylabel('Features3')\n",
        "# ax.set_zlabel('Features3')"
      ],
      "metadata": {
        "id": "3KWHBGvwM_03",
        "colab": {
          "base_uri": "https://localhost:8080/",
          "height": 296
        },
        "outputId": "cb26ad5b-7315-433f-f7f8-150247f73e67"
      },
      "execution_count": null,
      "outputs": [
        {
          "output_type": "execute_result",
          "data": {
            "text/plain": [
              "Text(0, 0.5, 'Features3')"
            ]
          },
          "metadata": {},
          "execution_count": 83
        },
        {
          "output_type": "display_data",
          "data": {
            "text/plain": [
              "<Figure size 432x288 with 1 Axes>"
            ],
            "image/png": "[encoded data removed]"
          },
          "metadata": {
            "needs_background": "light"
          }
        }
      ]
    },
    {
      "cell_type": "code",
      "source": [
        "fig = plt.figure()\n",
        "ax = fig.add_subplot(111) #,projection='2d'\n",
        "\n",
        "classes = [0, 1, 2, 3, 4, 5, 6, 7, 8, 9]\n",
        "colors = ['b','indigo', 'c', 'k', 'g', 'm', 'w', 'r', 'y', 'lightgreen']\n",
        "\n",
        "for clas, color in zip(classes, colors):\n",
        "    ax.scatter(df.loc[df['prediction'] == clas, 'Features[8]'],\n",
        "               df.loc[df['prediction'] == clas, 'Features[0]'],)\n",
        "            #    df.loc[df['prediction'] == clas, 'Features[1]'],)\n",
        "\n",
        "ax.set_xlabel('Features1')\n",
        "ax.set_ylabel('Features2')\n",
        "# ax.set_zlabel('Features3')"
      ],
      "metadata": {
        "id": "SCOJ6zEPNGM8",
        "colab": {
          "base_uri": "https://localhost:8080/",
          "height": 296
        },
        "outputId": "214713fe-a64a-44ec-eb7a-e19bcdd0ead3"
      },
      "execution_count": null,
      "outputs": [
        {
          "output_type": "execute_result",
          "data": {
            "text/plain": [
              "Text(0, 0.5, 'Features2')"
            ]
          },
          "metadata": {},
          "execution_count": 84
        },
        {
          "output_type": "display_data",
          "data": {
            "text/plain": [
              "<Figure size 432x288 with 1 Axes>"
            ],
            "image/png": "[encoded data removed]"
          },
          "metadata": {
            "needs_background": "light"
          }
        }
      ]
    },
    {
      "cell_type": "code",
      "source": [
        "ciu = df.loc[df['prediction'] == 0]\n",
        "cou = df.loc[df['prediction'] == 1]"
      ],
      "metadata": {
        "id": "qY0Ovm2ypwlX"
      },
      "execution_count": null,
      "outputs": []
    },
    {
      "cell_type": "code",
      "source": [
        "ciu.count()"
      ],
      "metadata": {
        "id": "52MdPwhekiiI",
        "colab": {
          "base_uri": "https://localhost:8080/"
        },
        "outputId": "f18c53fa-8273-4ccc-96d9-b27de50373c4"
      },
      "execution_count": null,
      "outputs": [
        {
          "output_type": "execute_result",
          "data": {
            "text/plain": [
              "prediction     6600777\n",
              "Features[0]    6600777\n",
              "Features[2]    6600777\n",
              "Features[7]    6600777\n",
              "Features[8]    6600777\n",
              "dtype: int64"
            ]
          },
          "metadata": {},
          "execution_count": 86
        }
      ]
    },
    {
      "cell_type": "code",
      "source": [
        "cou.count()"
      ],
      "metadata": {
        "id": "rHJIt173g1Dk",
        "colab": {
          "base_uri": "https://localhost:8080/"
        },
        "outputId": "6e8703cb-f8cb-413e-f324-c7752c14e0f1"
      },
      "execution_count": null,
      "outputs": [
        {
          "output_type": "execute_result",
          "data": {
            "text/plain": [
              "prediction     562753\n",
              "Features[0]    562753\n",
              "Features[2]    562753\n",
              "Features[7]    562753\n",
              "Features[8]    562753\n",
              "dtype: int64"
            ]
          },
          "metadata": {},
          "execution_count": 87
        }
      ]
    }
  ],
  "metadata": {
    "colab": {
      "collapsed_sections": [
        "CXEyP36NPuJY",
        "LWC75k0ccJ6S",
        "_x-Lsk3bdhDy",
        "fEVLCT6IrCh1",
        "YBFzLooNhX_I",
        "-mkn_0KZYnur",
        "hxe8Pg10mguo",
        "PHN4DFE4Razw",
        "dAgb8AmywebK",
        "vf3ldqG7LTsG",
        "Qd9XsqxlGiw7",
        "WB7lyPMAGstI",
        "u1e3JHgKGtk2",
        "0MM6DMZHrLqQ",
        "4iuHVRJ6yddw",
        "FJlIT8oGj5fD",
        "Sj-DCP3r4bMQ",
        "UsLuBBPaj_h3",
        "Wu3zl42OZRS9",
        "pP428L43AfBl",
        "zObb8bmzArDs",
        "hGjkRRriF4V_",
        "A8cqetpaoFKy"
      ],
      "provenance": [],
      "include_colab_link": true
    },
    "kernelspec": {
      "display_name": "Python 3",
      "name": "python3"
    },
    "language_info": {
      "name": "python"
    }
  },
  "nbformat": 4,
  "nbformat_minor": 0
}